{
 "cells": [
  {
   "cell_type": "markdown",
   "id": "dcbc28e3-2b82-490d-b11f-2c0a9272566e",
   "metadata": {},
   "source": [
    "1. Write a Python program to reverse a string without using any built-in string reversal functions."
   ]
  },
  {
   "cell_type": "code",
   "execution_count": 1,
   "id": "112e518b-96be-4ced-8ef6-db2f837cad71",
   "metadata": {},
   "outputs": [
    {
     "name": "stdout",
     "output_type": "stream",
     "text": [
      "varuaG\n"
     ]
    }
   ],
   "source": [
    "def reverse(String):\n",
    "    \n",
    "    l1 = list(String)\n",
    "    return \"\".join(l1[::-1])\n",
    "\n",
    "\n",
    "# Driver Code\n",
    "String = \"Gaurav\"\n",
    "print(reverse(String))"
   ]
  },
  {
   "cell_type": "code",
   "execution_count": 2,
   "id": "7129495a-318a-442b-88e8-c97d2e0570bb",
   "metadata": {},
   "outputs": [
    {
     "name": "stdout",
     "output_type": "stream",
     "text": [
      "varuaG\n"
     ]
    }
   ],
   "source": [
    "def reverse(String):\n",
    "    \n",
    "    l1 = list(String)\n",
    "    l2 = []\n",
    "    for i in range(len(l1)-1,-1,-1):\n",
    "        l2.append(l1[i])\n",
    "        \n",
    "    return \"\".join(l2)\n",
    "\n",
    "\n",
    "# Driver Code\n",
    "String = \"Gaurav\"\n",
    "print(reverse(String))"
   ]
  },
  {
   "cell_type": "markdown",
   "id": "b497440e-ae56-4883-87f7-45fb4b3e715d",
   "metadata": {},
   "source": [
    "2. Implement a function to check if a given string is a palindrome."
   ]
  },
  {
   "cell_type": "code",
   "execution_count": 5,
   "id": "6fae0d6d-fc35-4c19-b693-144db067a653",
   "metadata": {},
   "outputs": [
    {
     "name": "stdout",
     "output_type": "stream",
     "text": [
      "True\n"
     ]
    }
   ],
   "source": [
    "def isPalindrom(String):\n",
    "    \n",
    "    l1 = list(String)\n",
    "    l2 = []\n",
    "    for i in range(len(l1)-1,-1,-1):\n",
    "        l2.append(l1[i])\n",
    "        \n",
    "    return String.lower() == \"\".join(l2).lower()\n",
    "\n",
    "\n",
    "# Driver Code\n",
    "String = \"Nitin\"\n",
    "print(isPalindrom(String))"
   ]
  },
  {
   "cell_type": "markdown",
   "id": "c9b34f8d-8172-4041-9671-5ac516168421",
   "metadata": {},
   "source": [
    "3. Write a program to find the largest element in a given list."
   ]
  },
  {
   "cell_type": "code",
   "execution_count": 7,
   "id": "42b5eff3-4498-4221-971b-dd2f7a996722",
   "metadata": {},
   "outputs": [
    {
     "name": "stdout",
     "output_type": "stream",
     "text": [
      "25\n"
     ]
    }
   ],
   "source": [
    "def returnMax(mylist):\n",
    "    Max = 0\n",
    "    for i in mylist:\n",
    "        if Max < i:\n",
    "            Max = i\n",
    "            \n",
    "    return Max\n",
    "\n",
    "# Driver Code\n",
    "mylist = [11,12,13,15,19,20,21,25,23]\n",
    "print(returnMax(mylist))"
   ]
  },
  {
   "cell_type": "markdown",
   "id": "82315d29-15c8-4bb3-8da9-8cf0e4bc42ee",
   "metadata": {},
   "source": [
    "4. Implement a function to count the occurrence of each element in a list."
   ]
  },
  {
   "cell_type": "code",
   "execution_count": 8,
   "id": "2792e739-9793-441a-b929-14cba8641211",
   "metadata": {},
   "outputs": [
    {
     "name": "stdout",
     "output_type": "stream",
     "text": [
      "{1: 5, 2: 4, 3: 5, 4: 6, 5: 5, 6: 9, 66: 2, 7: 5, 8: 5, 9: 5, 99: 2}\n"
     ]
    }
   ],
   "source": [
    "def countOccurance(mylist):\n",
    "    mydict = {}\n",
    "    for i in mylist:\n",
    "        if i not in mydict:\n",
    "            mydict[i] = 1\n",
    "        mydict[i] += 1\n",
    "    return mydict\n",
    "\n",
    "\n",
    "# Driver Code\n",
    "mylist = [1,1,1,1,2,2,2,3,3,3,3,4,4,4,4,4,5,5,5,5,6,6,6,6,6,66,6,6,6,7,7,7,7,8,8,8,8,9,9,99,9,9,]\n",
    "print(countOccurance(mylist))"
   ]
  },
  {
   "cell_type": "markdown",
   "id": "89a5495b-6948-4ef3-ad95-8920ebd45f56",
   "metadata": {},
   "source": [
    "5. Write a Python program to find the second largest number in a list."
   ]
  },
  {
   "cell_type": "code",
   "execution_count": 11,
   "id": "b009052c-4d86-4bc5-8249-4cc8dcc8589c",
   "metadata": {},
   "outputs": [
    {
     "name": "stdout",
     "output_type": "stream",
     "text": [
      "66\n"
     ]
    }
   ],
   "source": [
    "def secondLargestNumber(mylist):\n",
    "    mylist.sort()    \n",
    "    return mylist[-2]\n",
    "\n",
    "# Driver Code\n",
    "mylist = [1,1,1,1,2,2,2,3,3,3,3,4,4,4,4,4,5,5,5,5,6,6,6,6,6,66,6,6,6,7,7,7,7,8,8,8,8,9,9,99,9,9,]\n",
    "print(secondLargestNumber(mylist))"
   ]
  },
  {
   "cell_type": "markdown",
   "id": "9c5e914f-fc3e-4d35-8b3e-3ca61740af7c",
   "metadata": {},
   "source": [
    "6. Implement a function to remove duplicate elements from a list."
   ]
  },
  {
   "cell_type": "code",
   "execution_count": 12,
   "id": "fd39304e-47d1-4c7d-8147-a17af3a0c887",
   "metadata": {},
   "outputs": [
    {
     "name": "stdout",
     "output_type": "stream",
     "text": [
      "{1, 2, 3, 4, 5, 6, 66, 7, 8, 9, 99}\n"
     ]
    }
   ],
   "source": [
    "def removeDuplicates(mylist):\n",
    "    return set(mylist)\n",
    "\n",
    "# Driver Code\n",
    "mylist = [1,1,1,1,2,2,2,3,3,3,3,4,4,4,4,4,5,5,5,5,6,6,6,6,6,66,6,6,6,7,7,7,7,8,8,8,8,9,9,99,9,9,]\n",
    "print(removeDuplicates(mylist))"
   ]
  },
  {
   "cell_type": "markdown",
   "id": "f3b86b36-76bf-458b-a41d-8417f6bb9898",
   "metadata": {},
   "source": [
    "7. Write a program to calculate the factorial of a given number."
   ]
  },
  {
   "cell_type": "code",
   "execution_count": 14,
   "id": "45f02716-888c-4bce-8c8b-e7b4516a8f5d",
   "metadata": {},
   "outputs": [
    {
     "name": "stdout",
     "output_type": "stream",
     "text": [
      "Factorial of given Number: 120\n"
     ]
    }
   ],
   "source": [
    "def fact(n):\n",
    "    if n == 1 or n == 0:\n",
    "        return 1\n",
    "    return n * fact(n-1)\n",
    "\n",
    "#driver Code\n",
    "number = 5\n",
    "print('Factorial of given Number:', fact(number))"
   ]
  },
  {
   "cell_type": "markdown",
   "id": "1e7a28c4-1918-4899-ac86-39c31fbd6376",
   "metadata": {},
   "source": [
    "8. Implement a function to check if a given number is prime."
   ]
  },
  {
   "cell_type": "code",
   "execution_count": 17,
   "id": "02262484-1db9-4fb4-bc85-681c517c93a1",
   "metadata": {},
   "outputs": [
    {
     "name": "stdout",
     "output_type": "stream",
     "text": [
      "True\n"
     ]
    }
   ],
   "source": [
    "def isPrime(n):\n",
    "    if n == 1:\n",
    "        return print(\"1 is not prime number because it has only factor is 1\")\n",
    "    for i in range(2, n//2):\n",
    "        if n % i == 0:\n",
    "            return False\n",
    "    return True\n",
    "\n",
    "\n",
    "#Driver code\n",
    "number = 17\n",
    "print(isPrime(number))"
   ]
  },
  {
   "cell_type": "markdown",
   "id": "3840f69f-0e50-4ebc-b5dc-044975ef627c",
   "metadata": {},
   "source": [
    "9. Write a Python program to sort a list of integers in ascending order."
   ]
  },
  {
   "cell_type": "code",
   "execution_count": 18,
   "id": "64a36596-3eeb-424f-a142-de2079e31a2b",
   "metadata": {},
   "outputs": [
    {
     "name": "stdout",
     "output_type": "stream",
     "text": [
      "[11, 12, 13, 15, 19, 20, 21, 23, 25]\n"
     ]
    }
   ],
   "source": [
    "def returnSortedList(mylist):\n",
    "    return sorted(mylist)\n",
    "\n",
    "\n",
    "# Driver Code\n",
    "mylist = [11,12,13,15,19,20,21,25,23]\n",
    "print(returnSortedList(mylist))"
   ]
  },
  {
   "cell_type": "markdown",
   "id": "a2274ec8-a946-49cb-9c6b-f7438e7b36cd",
   "metadata": {},
   "source": [
    "10. Implement a function to find the sum of all numbers in a list."
   ]
  },
  {
   "cell_type": "code",
   "execution_count": 19,
   "id": "6c7bc769-e7de-4bcb-9c1f-bc2f1efd05a0",
   "metadata": {},
   "outputs": [
    {
     "name": "stdout",
     "output_type": "stream",
     "text": [
      "159\n"
     ]
    }
   ],
   "source": [
    "def returnSumofList(mylist):\n",
    "    return sum(mylist)\n",
    "\n",
    "\n",
    "# Driver Code\n",
    "mylist = [11,12,13,15,19,20,21,25,23]\n",
    "print(returnSumofList(mylist))"
   ]
  },
  {
   "cell_type": "markdown",
   "id": "d75749e2-b993-49ee-a13f-d96ac0ed09e2",
   "metadata": {},
   "source": [
    "11. Write a program to find the common elements between two lists."
   ]
  },
  {
   "cell_type": "code",
   "execution_count": 20,
   "id": "1e5e4da2-0119-4d39-8d5a-e50ba53c7808",
   "metadata": {},
   "outputs": [
    {
     "name": "stdout",
     "output_type": "stream",
     "text": [
      "{11, 12, 13, 15, 19, 20, 21, 23, 25}\n"
     ]
    }
   ],
   "source": [
    "def returnCommonfList(mylis1t, mylist2):\n",
    "    common = []\n",
    "    for i in mylist1:\n",
    "        if i in mylist2:\n",
    "            common.append(i)\n",
    "    return set(common)\n",
    "\n",
    "\n",
    "# Driver Code\n",
    "mylist1 = [11,12,13,15,19,20,21,25,23]\n",
    "mylist2 = [11,12,13,15,19,20,21,25,23, 25, 48, 46, 49 ,48 ,87]\n",
    "print(returnCommonfList(mylist1,mylist2))"
   ]
  },
  {
   "cell_type": "markdown",
   "id": "319ecf55-8cee-4f0b-b59f-af86b6b42692",
   "metadata": {},
   "source": [
    "12. Implement a function to check if a given string is an anagram of another string."
   ]
  },
  {
   "cell_type": "code",
   "execution_count": 2,
   "id": "60ab7465-88ee-44b5-b61c-1db875aa5b14",
   "metadata": {},
   "outputs": [
    {
     "name": "stdout",
     "output_type": "stream",
     "text": [
      "listen and silent are anagrams.\n"
     ]
    }
   ],
   "source": [
    "def is_anagram(string1, string2):\n",
    "    # Convert both strings to lowercase and remove any spaces\n",
    "    string1 = string1.lower().replace(\" \", \"\")\n",
    "    string2 = string2.lower().replace(\" \", \"\")\n",
    "    \n",
    "    # Sort the characters of both strings\n",
    "    sorted_string1 = sorted(string1)\n",
    "    sorted_string2 = sorted(string2)\n",
    "    \n",
    "    # Compare the sorted strings\n",
    "    return sorted_string1 == sorted_string2\n",
    "\n",
    "string1 = \"listen\"\n",
    "string2 = \"silent\"\n",
    "if is_anagram(string1, string2):\n",
    "    print(f\"{string1} and {string2} are anagrams.\")\n",
    "else:\n",
    "    print(f\"{string1} and {string2} are not anagrams.\")"
   ]
  },
  {
   "cell_type": "markdown",
   "id": "1ca3cbad-a79a-4e79-b630-43947d12c030",
   "metadata": {},
   "source": [
    "13. Write a Python program to generate all permutations of a given string."
   ]
  },
  {
   "cell_type": "code",
   "execution_count": 3,
   "id": "d8884a24-ec7a-4736-b19d-58997a99f6ef",
   "metadata": {},
   "outputs": [
    {
     "name": "stdout",
     "output_type": "stream",
     "text": [
      "abcd\n",
      "abdc\n",
      "acbd\n",
      "acdb\n",
      "adbc\n",
      "adcb\n",
      "bacd\n",
      "badc\n",
      "bcad\n",
      "bcda\n",
      "bdac\n",
      "bdca\n",
      "cabd\n",
      "cadb\n",
      "cbad\n",
      "cbda\n",
      "cdab\n",
      "cdba\n",
      "dabc\n",
      "dacb\n",
      "dbac\n",
      "dbca\n",
      "dcab\n",
      "dcba\n"
     ]
    }
   ],
   "source": [
    "def generate_permutations(string):\n",
    "    # Base case: If the string has only one character, return it as a single-element list\n",
    "    if len(string) == 1:\n",
    "        return [string]\n",
    "    \n",
    "    # Recursive case: Generate permutations by fixing the first character and permuting the rest\n",
    "    permutations = []  # List to store the permutations\n",
    "    \n",
    "    for i in range(len(string)):\n",
    "        # Fix the first character\n",
    "        first_char = string[i]\n",
    "        \n",
    "        # Generate permutations of the remaining characters\n",
    "        remaining_chars = string[:i] + string[i+1:]\n",
    "        sub_permutations = generate_permutations(remaining_chars)\n",
    "        \n",
    "        # Append the fixed character to each permutation of the remaining characters\n",
    "        for perm in sub_permutations:\n",
    "            permutations.append(first_char + perm)\n",
    "    \n",
    "    return permutations\n",
    "\n",
    "# Example usage\n",
    "string = \"abcd\"\n",
    "permutations = generate_permutations(string)\n",
    "\n",
    "# Print the permutations\n",
    "for permutation in permutations:\n",
    "    print(permutation)"
   ]
  },
  {
   "cell_type": "markdown",
   "id": "0a78b1dd-1085-4c25-bbd2-37bf98b18228",
   "metadata": {},
   "source": [
    "14. Implement a function to calculate the Fibonacci sequence up to a given number of terms."
   ]
  },
  {
   "cell_type": "code",
   "execution_count": 8,
   "id": "9d910eed-7ccd-40cf-ae45-40ece9402d34",
   "metadata": {},
   "outputs": [
    {
     "name": "stdout",
     "output_type": "stream",
     "text": [
      "0\n",
      "1\n",
      "1\n",
      "2\n",
      "3\n",
      "5\n",
      "8\n",
      "13\n",
      "21\n",
      "34\n"
     ]
    }
   ],
   "source": [
    "def fibonacci_sequence(n):\n",
    "    sequence = []  # List to store the Fibonacci sequence\n",
    "    \n",
    "    # Handle special cases: n = 0 and n = 1\n",
    "    if n >= 1:\n",
    "        sequence.append(0)  # First term is 0\n",
    "    if n >= 2:\n",
    "        sequence.append(1)  # Second term is 1\n",
    "    \n",
    "    # Generate the Fibonacci sequence iteratively\n",
    "    for i in range(2, n):\n",
    "        term = sequence[i-1] + sequence[i-2]\n",
    "        sequence.append(term)\n",
    "    \n",
    "    return sequence\n",
    "\n",
    "# Example usage\n",
    "num_terms = 10\n",
    "fib_sequence = fibonacci_sequence(num_terms)\n",
    "\n",
    "# Print the Fibonacci sequence\n",
    "for term in fib_sequence:\n",
    "    print(term)"
   ]
  },
  {
   "cell_type": "markdown",
   "id": "a9a97737-d1db-479f-b808-03557e72941f",
   "metadata": {},
   "source": [
    "15. Write a program to find the median of a list of numbers."
   ]
  },
  {
   "cell_type": "code",
   "execution_count": 9,
   "id": "ef389a09-f243-4ec3-83b4-2e28662bb716",
   "metadata": {},
   "outputs": [
    {
     "name": "stdout",
     "output_type": "stream",
     "text": [
      "Median: 5\n"
     ]
    }
   ],
   "source": [
    "def calculate_median(numbers):\n",
    "    sorted_numbers = sorted(numbers)  # Sort the list of numbers\n",
    "    length = len(sorted_numbers)  # Determine the length of the sorted list\n",
    "\n",
    "    if length % 2 == 1:\n",
    "        # If the length is odd, return the middle element\n",
    "        median = sorted_numbers[length // 2]\n",
    "    else:\n",
    "        # If the length is even, calculate the average of the two middle elements\n",
    "        mid1 = length // 2\n",
    "        mid2 = mid1 - 1\n",
    "        median = (sorted_numbers[mid1] + sorted_numbers[mid2]) / 2\n",
    "\n",
    "    return median\n",
    "\n",
    "# Example usage\n",
    "numbers = [7, 2, 9, 1, 5]\n",
    "median = calculate_median(numbers)\n",
    "print(\"Median:\", median)\n"
   ]
  },
  {
   "cell_type": "markdown",
   "id": "d4a88048-abd8-4f87-a768-e096e2db7590",
   "metadata": {},
   "source": [
    "16. Implement a function to check if a given list is sorted in non-decreasing order."
   ]
  },
  {
   "cell_type": "code",
   "execution_count": 10,
   "id": "284ab892-b34f-470d-94c5-70f312a758be",
   "metadata": {},
   "outputs": [
    {
     "name": "stdout",
     "output_type": "stream",
     "text": [
      "The list is sorted in non-decreasing order.\n"
     ]
    }
   ],
   "source": [
    "def is_sorted(nums):\n",
    "    n = len(nums)\n",
    "    for i in range(n - 1):\n",
    "        if nums[i] > nums[i + 1]:\n",
    "            return False\n",
    "    return True\n",
    "\n",
    "# Example usage\n",
    "numbers = [1, 2, 3, 4, 5]\n",
    "if is_sorted(numbers):\n",
    "    print(\"The list is sorted in non-decreasing order.\")\n",
    "else:\n",
    "    print(\"The list is not sorted in non-decreasing order.\")"
   ]
  },
  {
   "cell_type": "markdown",
   "id": "d31192b5-65d5-4fa0-a450-3184f80dcd6d",
   "metadata": {},
   "source": [
    "17. Write a Python program to find the intersection of two lists."
   ]
  },
  {
   "cell_type": "code",
   "execution_count": 11,
   "id": "ddb664e7-444b-4b5f-bcf8-3ab499966395",
   "metadata": {},
   "outputs": [
    {
     "name": "stdout",
     "output_type": "stream",
     "text": [
      "Intersection: [4, 5]\n"
     ]
    }
   ],
   "source": [
    "def find_intersection(list1, list2):\n",
    "    set1 = set(list1)\n",
    "    set2 = set(list2)\n",
    "    intersection = set1.intersection(set2)\n",
    "    return list(intersection)\n",
    "\n",
    "# Example usage\n",
    "list1 = [1, 2, 3, 4, 5]\n",
    "list2 = [4, 5, 6, 7, 8]\n",
    "intersection = find_intersection(list1, list2)\n",
    "print(\"Intersection:\", intersection)\n"
   ]
  },
  {
   "cell_type": "markdown",
   "id": "f796f8a6-57d4-4238-8ee4-2010cd77a8ae",
   "metadata": {},
   "source": [
    "18. Implement a function to find the maximum subarray sum in a given list."
   ]
  },
  {
   "cell_type": "code",
   "execution_count": 12,
   "id": "e03d5f65-5b12-4559-a040-a074081dbdf7",
   "metadata": {},
   "outputs": [
    {
     "name": "stdout",
     "output_type": "stream",
     "text": [
      "Maximum Subarray Sum: 6\n"
     ]
    }
   ],
   "source": [
    "def find_maximum_subarray_sum(nums):\n",
    "    if not nums:\n",
    "        return 0\n",
    "\n",
    "    max_sum = current_sum = nums[0]\n",
    "    \n",
    "    for num in nums[1:]:\n",
    "        current_sum = max(num, current_sum + num)\n",
    "        max_sum = max(max_sum, current_sum)\n",
    "    \n",
    "    return max_sum\n",
    "\n",
    "# Example usage\n",
    "numbers = [-2, 1, -3, 4, -1, 2, 1, -5, 4]\n",
    "max_subarray_sum = find_maximum_subarray_sum(numbers)\n",
    "print(\"Maximum Subarray Sum:\", max_subarray_sum)"
   ]
  },
  {
   "cell_type": "markdown",
   "id": "b45ed3c8-b99d-4049-bbbf-d572fa2fe148",
   "metadata": {},
   "source": [
    "19. Write a program to remove all vowels from a given string."
   ]
  },
  {
   "cell_type": "code",
   "execution_count": 13,
   "id": "56ec2796-614d-42bc-8961-47f476805ec5",
   "metadata": {},
   "outputs": [
    {
     "name": "stdout",
     "output_type": "stream",
     "text": [
      "Output String: Hll, Wrld!\n"
     ]
    }
   ],
   "source": [
    "def remove_vowels(string):\n",
    "    vowels = ['a', 'e', 'i', 'o', 'u', 'A', 'E', 'I', 'O', 'U']\n",
    "    result = \"\"\n",
    "    for char in string:\n",
    "        if char not in vowels:\n",
    "            result += char\n",
    "    return result\n",
    "\n",
    "# Example usage\n",
    "input_string = \"Hello, World!\"\n",
    "output_string = remove_vowels(input_string)\n",
    "print(\"Output String:\", output_string)"
   ]
  },
  {
   "cell_type": "markdown",
   "id": "11c1070f-e66c-4621-96d0-c0a1e0879af0",
   "metadata": {},
   "source": [
    "20. Implement a function to reverse the order of words in a given sentence."
   ]
  },
  {
   "cell_type": "code",
   "execution_count": 14,
   "id": "4589c220-4739-425c-810f-c0cb619a71c8",
   "metadata": {},
   "outputs": [
    {
     "name": "stdout",
     "output_type": "stream",
     "text": [
      "Reversed Sentence: you? are How World! Hello,\n"
     ]
    }
   ],
   "source": [
    "def reverse_sentence(sentence):\n",
    "    words = sentence.split()  # Split the sentence into words\n",
    "    reversed_words = words[::-1]  # Reverse the order of the words\n",
    "    reversed_sentence = ' '.join(reversed_words)  # Join the reversed words into a sentence\n",
    "    return reversed_sentence\n",
    "\n",
    "# Example usage\n",
    "input_sentence = \"Hello, World! How are you?\"\n",
    "output_sentence = reverse_sentence(input_sentence)\n",
    "print(\"Reversed Sentence:\", output_sentence)"
   ]
  },
  {
   "cell_type": "markdown",
   "id": "9d0a7ee4-7575-43a1-b1f1-5863ef44c169",
   "metadata": {},
   "source": [
    "21. Write a Python program to check if two strings are anagrams of each other."
   ]
  },
  {
   "cell_type": "code",
   "execution_count": 1,
   "id": "a040ba9e-73c4-4ef6-8ad0-33632f652934",
   "metadata": {},
   "outputs": [
    {
     "name": "stdout",
     "output_type": "stream",
     "text": [
      "The strings are anagrams.\n"
     ]
    }
   ],
   "source": [
    "def are_anagrams(str1, str2):\n",
    "    sorted_str1 = sorted(str1)\n",
    "    sorted_str2 = sorted(str2)\n",
    "    return sorted_str1 == sorted_str2\n",
    "\n",
    "# Example usage\n",
    "string1 = \"listen\"\n",
    "string2 = \"silent\"\n",
    "if are_anagrams(string1, string2):\n",
    "    print(\"The strings are anagrams.\")\n",
    "else:\n",
    "    print(\"The strings are not anagrams.\")"
   ]
  },
  {
   "cell_type": "markdown",
   "id": "7dc52532-3877-4f48-bf8b-6d151232d645",
   "metadata": {},
   "source": [
    "22. Implement a function to find the first non-repeating character in a string."
   ]
  },
  {
   "cell_type": "code",
   "execution_count": 2,
   "id": "2a94434d-ccd1-4b69-90b3-89dcc7a8b664",
   "metadata": {},
   "outputs": [
    {
     "name": "stdout",
     "output_type": "stream",
     "text": [
      "First non-repeating character: h\n"
     ]
    }
   ],
   "source": [
    "def find_first_non_repeating_char(string):\n",
    "    char_count = {}\n",
    "    \n",
    "    # Count the occurrences of each character\n",
    "    for char in string:\n",
    "        char_count[char] = char_count.get(char, 0) + 1\n",
    "    \n",
    "    # Find the first non-repeating character\n",
    "    for char in string:\n",
    "        if char_count[char] == 1:\n",
    "            return char\n",
    "    \n",
    "    # If no non-repeating character is found, return None\n",
    "    return None\n",
    "\n",
    "# Example usage\n",
    "input_string = \"hello world\"\n",
    "first_non_repeating_char = find_first_non_repeating_char(input_string)\n",
    "if first_non_repeating_char is not None:\n",
    "    print(\"First non-repeating character:\", first_non_repeating_char)\n",
    "else:\n",
    "    print(\"No non-repeating character found.\")"
   ]
  },
  {
   "cell_type": "markdown",
   "id": "ffc9c5d1-642a-4a9e-8807-22640eb13a29",
   "metadata": {},
   "source": [
    "23. Write a program to find the prime factors of a given number."
   ]
  },
  {
   "cell_type": "code",
   "execution_count": 6,
   "id": "6977f67f-fb76-4e78-81bf-577e305737d4",
   "metadata": {},
   "outputs": [
    {
     "name": "stdin",
     "output_type": "stream",
     "text": [
      "Enter a number:  100\n"
     ]
    },
    {
     "name": "stdout",
     "output_type": "stream",
     "text": [
      "Prime factors of 100 are: [2, 2, 5, 5]\n"
     ]
    }
   ],
   "source": [
    "def find_prime_factors(n):\n",
    "    factors = []\n",
    "    i = 2\n",
    "\n",
    "    while i <= n:\n",
    "        if n % i == 0:\n",
    "            factors.append(i)\n",
    "            n = n / i\n",
    "        else:\n",
    "            i += 1\n",
    "\n",
    "    return factors\n",
    "\n",
    "# Test the function\n",
    "num = int(input(\"Enter a number: \"))\n",
    "prime_factors = find_prime_factors(num)\n",
    "print(\"Prime factors of\", num, \"are:\", prime_factors)"
   ]
  },
  {
   "cell_type": "markdown",
   "id": "1ed9b7ae-eb66-4489-ab7a-3231e1d8ad2b",
   "metadata": {},
   "source": [
    "24. Implement a function to check if a given number is a power of two."
   ]
  },
  {
   "cell_type": "code",
   "execution_count": 8,
   "id": "baf4355f-f490-4e78-b279-a1de4957bbce",
   "metadata": {},
   "outputs": [
    {
     "name": "stdin",
     "output_type": "stream",
     "text": [
      "Enter a number:  8\n"
     ]
    },
    {
     "name": "stdout",
     "output_type": "stream",
     "text": [
      "8 is a power of two.\n"
     ]
    }
   ],
   "source": [
    "def is_power_of_two(n):\n",
    "    if n <= 0:\n",
    "        return False\n",
    "\n",
    "    # A number is a power of two if and only if it has only one bit set to 1\n",
    "    # Using bitwise AND with (n-1) will turn off the rightmost 1-bit in n\n",
    "    # If n is a power of two, the result will be 0\n",
    "    return (n & (n - 1)) == 0\n",
    "\n",
    "# Test the function\n",
    "num = int(input(\"Enter a number: \"))\n",
    "if is_power_of_two(num):\n",
    "    print(num, \"is a power of two.\")\n",
    "else:\n",
    "    print(num, \"is not a power of two.\")"
   ]
  },
  {
   "cell_type": "markdown",
   "id": "ab608583-fe06-4cc6-a496-9239d52b6d7b",
   "metadata": {},
   "source": [
    "25. Write a Python program to merge two sorted lists into a single sorted list."
   ]
  },
  {
   "cell_type": "code",
   "execution_count": 9,
   "id": "397eb51a-bc15-43f1-b334-d0b9868d0be8",
   "metadata": {},
   "outputs": [
    {
     "name": "stdout",
     "output_type": "stream",
     "text": [
      "Merged list: [1, 2, 3, 4, 5, 6, 7, 8]\n"
     ]
    }
   ],
   "source": [
    "def merge_sorted_lists(list1, list2):\n",
    "    merged_list = []\n",
    "    i = 0  # index for list1\n",
    "    j = 0  # index for list2\n",
    "\n",
    "    # Merge the two lists until one of them is exhausted\n",
    "    while i < len(list1) and j < len(list2):\n",
    "        if list1[i] < list2[j]:\n",
    "            merged_list.append(list1[i])\n",
    "            i += 1\n",
    "        else:\n",
    "            merged_list.append(list2[j])\n",
    "            j += 1\n",
    "\n",
    "    # Add the remaining elements from list1, if any\n",
    "    while i < len(list1):\n",
    "        merged_list.append(list1[i])\n",
    "        i += 1\n",
    "\n",
    "    # Add the remaining elements from list2, if any\n",
    "    while j < len(list2):\n",
    "        merged_list.append(list2[j])\n",
    "        j += 1\n",
    "\n",
    "    return merged_list\n",
    "\n",
    "# Test the function\n",
    "list1 = [1, 3, 5, 7]\n",
    "list2 = [2, 4, 6, 8]\n",
    "merged = merge_sorted_lists(list1, list2)\n",
    "print(\"Merged list:\", merged)\n"
   ]
  },
  {
   "cell_type": "markdown",
   "id": "d0bf9298-12d6-4a56-9108-6df356aee39b",
   "metadata": {},
   "source": [
    "26. Implement a function to find the mode of a list of numbers."
   ]
  },
  {
   "cell_type": "code",
   "execution_count": 10,
   "id": "33069990-0a6a-4506-ad1d-04bea17575f6",
   "metadata": {},
   "outputs": [
    {
     "name": "stdout",
     "output_type": "stream",
     "text": [
      "Mode: [4]\n"
     ]
    }
   ],
   "source": [
    "from collections import Counter\n",
    "\n",
    "def find_mode(numbers):\n",
    "    # Count the occurrences of each number in the list\n",
    "    counter = Counter(numbers)\n",
    "\n",
    "    # Find the number(s) with the maximum count (mode)\n",
    "    max_count = max(counter.values())\n",
    "    mode = [num for num, count in counter.items() if count == max_count]\n",
    "\n",
    "    return mode\n",
    "\n",
    "# Test the function\n",
    "numbers = [1, 2, 3, 4, 5, 2, 3, 4, 4]\n",
    "mode = find_mode(numbers)\n",
    "print(\"Mode:\", mode)"
   ]
  },
  {
   "cell_type": "markdown",
   "id": "c5b889ae-cb0c-4c2f-8c86-22e04e53ae10",
   "metadata": {},
   "source": [
    "27. Write a program to find the greatest common divisor (GCD) of two numbers."
   ]
  },
  {
   "cell_type": "code",
   "execution_count": 14,
   "id": "904a6131-281d-48dc-bd16-56d571d273bf",
   "metadata": {},
   "outputs": [
    {
     "name": "stdin",
     "output_type": "stream",
     "text": [
      "Enter the first number:  126\n",
      "Enter the second number:  124\n"
     ]
    },
    {
     "name": "stdout",
     "output_type": "stream",
     "text": [
      "GCD: 2\n"
     ]
    }
   ],
   "source": [
    "def find_gcd(a, b):\n",
    "    while b != 0:\n",
    "        a, b = b, a % b\n",
    "\n",
    "    return a\n",
    "\n",
    "# Test the function\n",
    "num1 = int(input(\"Enter the first number: \"))\n",
    "num2 = int(input(\"Enter the second number: \"))\n",
    "gcd = find_gcd(num1, num2)\n",
    "print(\"GCD:\", gcd)"
   ]
  },
  {
   "cell_type": "markdown",
   "id": "01115bc8-c39f-46a5-a627-a2f777e305e5",
   "metadata": {},
   "source": [
    "28. Implement a function to calculate the square root of a given number."
   ]
  },
  {
   "cell_type": "code",
   "execution_count": 15,
   "id": "5d5463f0-5be6-4b34-b4df-04685605674d",
   "metadata": {},
   "outputs": [
    {
     "name": "stdin",
     "output_type": "stream",
     "text": [
      "Enter a number:  168\n"
     ]
    },
    {
     "name": "stdout",
     "output_type": "stream",
     "text": [
      "Square root: 12.961481455286988\n"
     ]
    }
   ],
   "source": [
    "def square_root(n, precision=0.0001):\n",
    "    if n < 0:\n",
    "        raise ValueError(\"Square root is not defined for negative numbers.\")\n",
    "\n",
    "    # Initial guess for the square root\n",
    "    x = n / 2\n",
    "\n",
    "    while abs(x * x - n) > precision:\n",
    "        # Update the guess using the Babylonian method\n",
    "        x = (x + n / x) / 2\n",
    "\n",
    "    return x\n",
    "\n",
    "# Test the function\n",
    "num = float(input(\"Enter a number: \"))\n",
    "sqrt = square_root(num)\n",
    "print(\"Square root:\", sqrt)"
   ]
  }
 ],
 "metadata": {
  "kernelspec": {
   "display_name": "Python 3 (ipykernel)",
   "language": "python",
   "name": "python3"
  },
  "language_info": {
   "codemirror_mode": {
    "name": "ipython",
    "version": 3
   },
   "file_extension": ".py",
   "mimetype": "text/x-python",
   "name": "python",
   "nbconvert_exporter": "python",
   "pygments_lexer": "ipython3",
   "version": "3.10.6"
  }
 },
 "nbformat": 4,
 "nbformat_minor": 5
}
