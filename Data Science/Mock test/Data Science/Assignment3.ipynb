{
 "cells": [
  {
   "cell_type": "markdown",
   "id": "98dad181-243d-4c3f-af5d-711f3b4fc508",
   "metadata": {},
   "source": [
    "<h3>1. Scenario: A company wants to analyze the sales performance of its products in different regions. They have collected the following data:<br>\n",
    "   Region A: [10, 15, 12, 8, 14]</br>\n",
    "   Region B: [18, 20, 16, 22, 25]</br>\n",
    "   Calculate the mean sales for each region.</h3>\n"
   ]
  },
  {
   "cell_type": "markdown",
   "id": "1fc9ae96-7063-426e-bf50-175eaefd1211",
   "metadata": {},
   "source": [
    "Mean for Region A: 11.8<br>\n",
    "Mean for Region B: 20.2"
   ]
  },
  {
   "cell_type": "markdown",
   "id": "9df9e7a8-a80d-4cb8-aafc-5b9d33b2f281",
   "metadata": {},
   "source": [
    "<h3>2. Scenario: A survey is conducted to measure customer satisfaction on a scale of 1 to 5. The data collected is as follows:<br>\n",
    "   [4, 5, 2, 3, 5, 4, 3, 2, 4, 5]<br>\n",
    "   Calculate the mode of the survey responses.</h3>\n"
   ]
  },
  {
   "cell_type": "markdown",
   "id": "fdda0165-9c54-410e-b283-55dd7525cc1d",
   "metadata": {},
   "source": [
    "Mode is 4"
   ]
  },
  {
   "cell_type": "markdown",
   "id": "3c333717-7585-4d2b-a573-19fea15172f9",
   "metadata": {},
   "source": [
    "<h3>3. Scenario: A company wants to compare the salaries of two departments. The salary data for Department A and Department B are as follows:<br>\n",
    "   Department A: [5000, 6000, 5500, 7000]<br>\n",
    "   Department B: [4500, 5500, 5800, 6000, 5200]<br>\n",
    "   Calculate the median salary for each department.</h3>\n"
   ]
  },
  {
   "cell_type": "markdown",
   "id": "2b3aacff-17b7-4734-afc8-bd4358dad396",
   "metadata": {},
   "source": [
    "Median for department A: 5750\n",
    "Median for Department B: 5500"
   ]
  },
  {
   "cell_type": "markdown",
   "id": "b72b3607-473a-4d32-a314-66a661276a3a",
   "metadata": {},
   "source": [
    "<h3>4. Scenario: A data analyst wants to determine the variability in the daily stock prices of a company. The data collected is as follows:<br>\n",
    "   [25.5, 24.8, 26.1, 25.3, 24.9]<br>\n",
    "   Calculate the range of the stock prices.</h3>\n"
   ]
  },
  {
   "cell_type": "markdown",
   "id": "5d0fc3bd-e7c3-4b73-b8d5-08580e5db739",
   "metadata": {},
   "source": [
    "range is 24.8 to 26.1"
   ]
  },
  {
   "cell_type": "markdown",
   "id": "ec69353f-8609-4155-a6c9-15cc7cfd0858",
   "metadata": {},
   "source": [
    "<h3>5. Scenario: A study is conducted to compare the performance of two different teaching methods. The test scores of the students in each group are as follows:<br>\n",
    "   Group A: [85, 90, 92, 88, 91]<br>\n",
    "   Group B: [82, 88, 90, 86, 87]<br>\n",
    "   Perform a t-test to determine if there is a significant difference in the mean scores between the two groups.</h3>\n"
   ]
  },
  {
   "cell_type": "markdown",
   "id": "6030a752-69c2-4a16-ac16-8931646418c7",
   "metadata": {},
   "source": [
    "Hypothesis:\n",
    "\n",
    "- Null hypothesis: There is no significant difference in the mean scores between the two groups.\n",
    "- Alternative hypothesis: There is a significant difference in the mean scores between the two groups.\n",
    "\n",
    "Significance level:\n",
    "\n",
    "We will use a significance level of 0.05, which means that we are 95% confident that the results of our test are accurate.\n",
    "\n",
    "The t-statistic for this test is calculated as follows:\n",
    "\n",
    "t = (mean_A - mean_B) / (sqrt(var_A / n_A + var_B / n_B))\n",
    "\n",
    "where:\n",
    "\n",
    "- mean_A is the mean score for group A\n",
    "- mean_B is the mean score for group B\n",
    "- var_A is the variance of group A\n",
    "- var_B is the variance of group B\n",
    "- n_A is the number of students in group A\n",
    "- n_B is the number of students in group B\n",
    "\n",
    "In this case, the t-statistic is calculated as follows:\n",
    "\n",
    "t = (85 + 90 + 92 + 88 + 91 - 82 - 88 - 90 - 86 - 87) / (sqrt((12.25 + 10.25) / 5 + (10.25 + 9.25) / 5))\n",
    "\n",
    "t = 1.73\n",
    "\n",
    "P-value:\n",
    "\n",
    "The p-value for this test is calculated as follows:\n",
    "\n",
    "p = 2 * (1 - t.cdf(1.73, df = 10))\n",
    "\n",
    "where:\n",
    "\n",
    "- t.cdf() is the cumulative distribution function for the t-distribution\n",
    "- df = 10 is the degrees of freedom\n",
    "\n",
    "In this case, the p-value is calculated as follows:\n",
    "\n",
    "p = 2 * (1 - 0.9599)\n",
    "\n",
    "p = 0.0401\n",
    "\n",
    "Conclusion:\n",
    "\n",
    "The p-value is less than the significance level of 0.05, so we reject the null hypothesis. This means that there is a significant difference in the mean scores between the two groups.\n",
    "\n",
    "Interpretation:\n",
    "\n",
    "The mean score for group A is 88.2, and the mean score for group B is 85.4. This means that the students in group A scored, on average, 2.8 points higher than the students in group B. The p-value of 0.0401 indicates that this difference is statistically significant.\n",
    "\n",
    "We can conclude that the teaching method used in group A is more effective than the teaching method used in group B."
   ]
  },
  {
   "cell_type": "markdown",
   "id": "6d08f724-0628-40b5-bae1-f91c002ad19d",
   "metadata": {},
   "source": [
    "<h3>6. Scenario: A company wants to analyze the relationship between advertising expenditure and sales. The data collected is as follows:<br>\n",
    "   Advertising Expenditure (in thousands): [10, 15, 12, 8, 14]<br>\n",
    "   Sales (in thousands): [25, 30, 28, 20, 26]<br>\n",
    "   Calculate the correlation coefficient between advertising expenditure and sales.</h3\n"
   ]
  },
  {
   "cell_type": "markdown",
   "id": "9becc24f-013e-422c-865b-9af65d330b11",
   "metadata": {},
   "source": [
    "The correlation coefficient between advertising expenditure and sales can be calculated using the following formula:\n",
    "\n",
    "r = cov(x, y) / (std(x) * std(y))\n",
    "\n",
    "where:\n",
    "\n",
    "- r is the correlation coefficient\n",
    "- cov(x, y) is the covariance between x and y\n",
    "- std(x) is the standard deviation of x\n",
    "- std(y) is the standard deviation of y\n",
    "\n",
    "which is 0.8757511375750133. This means that there is a strong positive correlation between advertising expenditure and sales. This means that as advertising expenditure increases, sales tend to increase as well."
   ]
  },
  {
   "cell_type": "markdown",
   "id": "5c581890-31c4-44a1-883c-235721a3c61f",
   "metadata": {},
   "source": [
    "<h3>7. Scenario: A survey is conducted to measure the heights of a group of people. The data collected is as follows:<br>\n",
    "   [160, 170, 165, 155, 175, 180, 170]<br>\n",
    "   Calculate the standard deviation of the heights</h3>\n"
   ]
  },
  {
   "cell_type": "markdown",
   "id": "38bfb897-2ebe-494d-8b10-5dd6d2d7c96c",
   "metadata": {},
   "source": [
    "The standard deviation of the heights can be calculated using the following formula:\n",
    "    \n",
    "std = sqrt(sum((x - mean)**2) / n)\n",
    "\n",
    "where:\n",
    "\n",
    "- std is the standard deviation\n",
    "- sum is the sum of the squared deviations from the mean\n",
    "- mean is the mean of the data\n",
    "- n is the number of data points\n",
    "\n",
    "which is 7.953949089757174. This means that the heights of the people in the survey are typically within 7.95 centimeters of the mean height."
   ]
  },
  {
   "cell_type": "markdown",
   "id": "c99c896f-c874-4792-adff-b962c54f5128",
   "metadata": {},
   "source": [
    "<h3>8. Scenario: A company wants to analyze the relationship between employee tenure and job satisfaction. The data collected is as follows:<br>\n",
    "   Employee Tenure (in years): [2, 3, 5, 4, 6, 2, 4]<br>\n",
    "   Job Satisfaction (on a scale of 1 to 10): [7, 8, 6, 9, 5, 7, 6]<br>\n",
    "   Perform a linear regression analysis to predict job satisfaction based on employee tenure.</h3>\n"
   ]
  },
  {
   "cell_type": "markdown",
   "id": "02564f22-aa55-4194-8daa-d47994f5648b",
   "metadata": {},
   "source": [
    "Step 1: Define the variables.\n",
    "The following variables are defined:\n",
    "\n",
    "Tenure: The number of years an employee has been with the company.\n",
    "Job Satisfaction: A score on a scale of 1 to 10, where 1 is very dissatisfied and 10 is very satisfied.\n",
    "Step 2: Calculate the mean and standard deviation of the data.\n",
    "The mean of the tenure data is 4 years, and the standard deviation is 1.5 years. The mean of the job satisfaction data is 7.14, and the standard deviation is 1.22.\n",
    "\n",
    "Step 3: Calculate the slope and y-intercept of the regression line.\n",
    "The slope of the regression line is 0.7, and the y-intercept is 6.3. This means that for every one year increase in employee tenure, the predicted job satisfaction score is expected to increase by 0.7 points. The y-intercept indicates that the predicted job satisfaction score for an employee with zero years of tenure is 6.3."
   ]
  },
  {
   "cell_type": "markdown",
   "id": "2d3ab9a6-22c2-4069-95d7-fe649eb2e352",
   "metadata": {},
   "source": [
    "\n",
    "<h3>.9. Scenario: A study is conducted to compare the effectiveness of two different medications. The recovery times of the patients in each group are as follows:<br>\n",
    "   Medication A: [10, 12, 14, 11, 13]<br>\n",
    "   Medication B: [15, 17, 16, 14, 18]<br>\n",
    "   Perform an analysis of variance (ANOVA) to determine if there is a significant difference in the mean recovery times between the two medications</h3>\n"
   ]
  },
  {
   "cell_type": "markdown",
   "id": "1a5b6c35-b954-4580-aa63-6bdf41e87f67",
   "metadata": {},
   "source": [
    "The null hypothesis is that there is no significant difference in the mean recovery times between the two medications. The alternative hypothesis is that there is a significant difference in the mean recovery times between the two medications.\n",
    "\n",
    "The F-statistic is a measure of the difference between the means of the two groups. The F-statistic is calculated as follows:\n",
    "\n",
    "F = (MSbetween)/(MSwithin)\n",
    "\n",
    "\n",
    "where:\n",
    "\n",
    "- MSbetween is the mean square between groups\n",
    "- MSwithin is the mean square within groups\n",
    "\n",
    "The p-value is the probability of getting the observed results if the null hypothesis is true. The p-value is calculated as follows:\n",
    "\n",
    "p = 1 - p(F >= f_critical)\n",
    "\n",
    "where:\n",
    "\n",
    "- f_critical is the critical value of the F-distribution\n",
    "\n",
    "F-statistic: 6.480740740740741\n",
    "p-value: 0.04347826086956521\n",
    "\n",
    "F-statistic is 6.480740740740741 and the p-value is 0.04347826086956521. Since the p-value is less than the significance level of 0.05, we reject the null hypothesis and conclude that there is a significant difference in the mean recovery times between the two medications."
   ]
  },
  {
   "cell_type": "markdown",
   "id": "3c36458e-e998-4ef7-a48e-23a50ac1f163",
   "metadata": {},
   "source": [
    "<h3>10. Scenario: A company wants to analyze customer feedback ratings on a scale of 1 to 10. The data collected is\n",
    "\n",
    " as follows:\n",
    "        \n",
    "    [8, 9, 7, 6, 8, 10, 9, 8, 7, 8]\n",
    "    \n",
    "    Calculate the 75th percentile of the feedback ratings.</h3>\n"
   ]
  },
  {
   "cell_type": "markdown",
   "id": "96a434f4-2c6a-420a-93f8-ee0bd7171295",
   "metadata": {},
   "source": [
    "Sort the data from least to greatest.\n",
    "\n",
    "[6, 7, 7, 8, 8, 8, 8, 9, 9, 10]\n",
    "\n",
    "The 75th percentile is the 7th rating in the data set, since there are 10 ratings in total.\n",
    "\n",
    "The rating at the 7th index is 8, so the 75th percentile is 8.\n"
   ]
  },
  {
   "cell_type": "markdown",
   "id": "865d9af4-e400-4ead-9c8f-3317f8709e78",
   "metadata": {},
   "source": [
    "<h3>11. Scenario: A quality control department wants to test the weight consistency of a product. The weights of a sample of products are as follows:\n",
    "    \n",
    "    [10.2, 9.8, 10.0, 10.5, 10.3, 10.1]\n",
    "    \n",
    "    Perform a hypothesis test to determine if the mean weight differs significantly from 10 grams.</h3>\n"
   ]
  },
  {
   "cell_type": "markdown",
   "id": "5b0ce668-4d62-4e1c-bb34-358d0da254b1",
   "metadata": {},
   "source": [
    "The null hypothesis is that the mean weight of the products is 10 grams. The alternative hypothesis is that the mean weight of the products differs from 10 grams.\n",
    "\n",
    "The test statistic is a measure of the difference between the observed mean and the hypothesized mean. The test statistic is calculated as follows:\n",
    "\n",
    "t = (x_bar - mu)/(sigma/sqrt(n))\n",
    "\n",
    "where:\n",
    "\n",
    "- x_bar is the observed mean\n",
    "- mu is the hypothesized mean\n",
    "- sigma is the standard deviation\n",
    "- n is the sample size\n",
    "\n",
    "The p-value is the probability of getting the observed results if the null hypothesis is true. The p-value is calculated as follows:\n",
    "\n",
    "p = 1 - p(t >= t_critical)\n",
    "\n",
    "where:\n",
    "\n",
    "- t_critical is the critical value of the t-distribution\n",
    "\n",
    "\n",
    "If the p-value is less than the significance level, then we reject the null hypothesis and conclude that the mean weight of the products differs significantly from 10 grams.\n",
    "\n",
    "In this case, the p-value is less than the significance level of 0.05, so we reject the null hypothesis and conclude that the mean weight of the products differs significantly from 10 grams.\n",
    "\n",
    "t-statistic: 1.6382978723404255\n",
    "p-value: 0.10257630897011344\n",
    "\n",
    "t-statistic is 1.6382978723404255 and the p-value is 0.10257630897011344. Since the p-value is greater than the significance level of 0.05, we fail to reject the null hypothesis and conclude that the mean weight of the products does not differ significantly from 10 grams.\n"
   ]
  },
  {
   "cell_type": "markdown",
   "id": "df3d6e1c-b234-4d38-9633-c92d587c97f2",
   "metadata": {},
   "source": [
    "<h3>13. Scenario: A survey is conducted to measure customer satisfaction with a product on a scale of 1 to 10. The data collected is as follows:\n",
    "    \n",
    "    [7, 9, 6, 8, 10, 7, 8, 9, 7, 8]\n",
    "    \n",
    "    Calculate the 95% confidence interval for the population mean satisfaction score.</h3>\n"
   ]
  },
  {
   "cell_type": "markdown",
   "id": "09437b55-c9c8-4c3d-aee1-10362569f12d",
   "metadata": {},
   "source": [
    "The sample mean is the average of the data points. In this case, the sample mean is calculated as follows:\n",
    "\n",
    "mean = (7 + 9 + 6 + 8 + 10 + 7 + 8 + 9 + 7 + 8) / 10 = 7.8\n",
    "\n",
    "The sample standard deviation is a measure of how spread out the data points are. It is calculated as follows:\n",
    "\n",
    "std_dev = sqrt(sum((x - mean)^2) / (n - 1))\n",
    "\n",
    "where:\n",
    "\n",
    "- x is a data point\n",
    "- mean is the sample mean\n",
    "- n is the number of data points\n",
    "\n",
    "In this case, the sample standard deviation is calculated as follows:\n",
    "\n",
    "std_dev = sqrt((7 - 7.8)^2 + (9 - 7.8)^2 + (6 - 7.8)^2 + (8 - 7.8)^2 + (10 - 7.8)^2 + (7 - 7.8)^2 + (8 - 7.8)^2 + (9 - 7.8)^2 + (7 - 7.8)^2 + (8 - 7.8)^2) / (10 - 1))\n",
    "\n",
    "std_dev = sqrt(24.01) = 4.9\n",
    "\n",
    "The margin of error is a measure of how accurate the confidence interval is. It is calculated as follows:\n",
    "\n",
    "margin_of_error = z * std_dev / sqrt(n)\n",
    "\n",
    "where:\n",
    "\n",
    "- z is the z-score for the desired confidence level\n",
    "- std_dev is the sample standard deviation\n",
    "- n is the number of data points\n",
    "\n",
    "In this case, we are using a 95% confidence level, so the z-score is 1.96. Therefore, the margin of error is calculated as follows:\n",
    "\n",
    "margin_of_error = 1.96 * 4.9 / sqrt(10) = 1.43\n",
    "\n",
    "The confidence interval is calculated as follows:\n",
    "\n",
    "confidence_interval = mean +- margin_of_error\n",
    "\n",
    "confidence_interval = 7.8 +- 1.43\n",
    "\n",
    "confidence_interval = (6.37, 9.23)\n",
    "\n",
    "We can be 95% confident that the true population mean satisfaction score is between 6.37 and 9.23.\n"
   ]
  },
  {
   "cell_type": "markdown",
   "id": "05291207-f75c-418a-9cc8-337bb5186cea",
   "metadata": {},
   "source": [
    "<h3>14. Scenario: A company wants to analyze the effect of temperature on product performance. The data collected is as follows:\n",
    "    \n",
    "    Temperature (in degrees Celsius): [20, 22, 23, 19, 21]\n",
    "    \n",
    "    Performance (on a scale of 1 to 10): [8, 7, 9, 6, 8]\n",
    "    \n",
    "    Perform a simple linear regression to predict performance based on temperature.</h3>\n"
   ]
  },
  {
   "cell_type": "markdown",
   "id": "78838e5a-ba7c-4670-b0d1-19a2622e4db2",
   "metadata": {},
   "source": [
    "The slope and intercept of the linear regression line can be calculated using the following formulas:\n",
    "\n",
    "    slope = (y2 - y1)/(x2 - x1)\n",
    "    intercept = y1 - slope * x1\n",
    "\n",
    "where:\n",
    "\n",
    "- y is the performance score\n",
    "- x is the temperature in degrees Celsius\n",
    "- y1 and x1 are the first data point\n",
    "- y2 and x2 are the second data point\n",
    "\n",
    "        slope = (9 - 6)/(23 - 19) = 1/2\n",
    "        intercept = 6 - 1/2 * 20 = 4\n",
    "\n",
    "\n",
    "        predicted_performance = 1/2 * 21 + 4 = 7\n"
   ]
  },
  {
   "cell_type": "markdown",
   "id": "26d4bc98-a956-48c9-9d7b-ee94da53e69f",
   "metadata": {},
   "source": [
    "<h3>16. Scenario: A company wants to analyze the distribution of customer ages. The data collected is as follows:\n",
    "    \n",
    "    [25, 30, 35, 40, 45, 50, 55, 60, 65, 70]\n",
    "    \n",
    "    Calculate the interquartile range (IQR) of the ages.</h3>\n"
   ]
  },
  {
   "cell_type": "markdown",
   "id": "8fa29997-a85c-40ea-adf8-a74d7b48ba39",
   "metadata": {},
   "source": [
    "The data is ordered from least to greatest as follows:\n",
    "    \n",
    "[25, 30, 35, 40, 45, 50, 55, 60, 65, 70]\n",
    "\n",
    "The median is the middle value of the data set. In this case, the median is 45.\n",
    "\n",
    "The first quartile (Q1) is the median of the lower half of the data set. In this case, the first quartile is 35.\n",
    "\n",
    "The third quartile (Q3) is the median of the upper half of the data set. In this case, the third quartile is 55.\n",
    "\n",
    "The interquartile range (IQR) is the difference between the third quartile and the first quartile. In this case, the IQR is 55 - 35 = 20."
   ]
  },
  {
   "cell_type": "markdown",
   "id": "c1580565-72bf-445b-9780-2153b6d1c364",
   "metadata": {},
   "source": [
    "<h3>18. Scenario: A company wants to analyze the effect of price on sales. The data collected is as follows:\n",
    "    \n",
    "    Price (in dollars): [10, 15, 12, 8, 14]\n",
    "    \n",
    "    Sales: [100, 80, 90, 110, 95]\n",
    "    \n",
    "    Perform a simple linear regression to predic</h3>\n"
   ]
  },
  {
   "cell_type": "markdown",
   "id": "ef4bf87a-cfc7-496f-96c9-19cdea895b80",
   "metadata": {},
   "source": [
    "    slope = (y2 - y1)/(x2 - x1)\n",
    "    intercept = y1 - slope * x1\n",
    "\n",
    "    slope = (90 - 80)/(15 - 10) = 5\n",
    "    intercept = 80 - 5 * 10 = 20\n",
    "\n",
    "    predicted_sales = slope * price + intercept\n",
    "\n",
    "    predicted_sales = 5 * 12 + 20 = 70\n"
   ]
  },
  {
   "cell_type": "markdown",
   "id": "8e298e7c-99c2-4df8-a92b-b3359e848f38",
   "metadata": {},
   "source": [
    "<h3>19. Scenario: A survey is conducted to measure the satisfaction levels of customers with a new product. The data collected is as follows:\n",
    "    \n",
    "    [7, 8, 9, 6, 8, 7, 9, 7, 8, 7]\n",
    "    \n",
    "    Calculate the standard error of the mean satisfaction score.</h3>\n"
   ]
  },
  {
   "cell_type": "markdown",
   "id": "d08a8cec-a7d4-4423-ac61-7a17db8063b9",
   "metadata": {},
   "source": [
    "standard_error = sqrt(variance)\n",
    "\n",
    "variance = sum((x - mean)^2) / (n - 1)\n",
    "\n",
    "mean = sum(data) / len(data) = 7.8\n",
    "\n",
    "variance = sum((x - mean)^2) / (n - 1) = 24.01\n",
    "\n",
    "standard_error = sqrt(variance) = 4.9\n",
    "\n",
    "the standard error of the mean satisfaction score is 4.9. This means that there is a 68% chance that the true mean satisfaction score is within 4.9 points of 7.8."
   ]
  },
  {
   "cell_type": "markdown",
   "id": "37bb7edd-962d-4ea7-a6fe-1ff77539c42a",
   "metadata": {},
   "source": [
    "<h3>20. Scenario: A company wants to analyze the relationship between advertising expenditure and sales. The data collected is as follows:\n",
    "    \n",
    "    Advertising Expenditure (in thousands): [10, 15, 12, 8, 14]\n",
    "    \n",
    "    Sales (in thousands): [25, 30, 28, 20, 26]\n",
    "\n",
    "    \n",
    "    Perform a multiple regression analysis to predict sales based on advertising expenditure.</h3>"
   ]
  },
  {
   "cell_type": "markdown",
   "id": "39d94f18-1da9-4d8d-a503-17632453a9eb",
   "metadata": {},
   "source": [
    "The linear regression model can be created using the following formula:\n",
    "    \n",
    "    sales = b0 + b1 * advertising_expenditure\n",
    "    \n",
    "where:\n",
    "\n",
    "- sales is the predicted sales\n",
    "- b0 is the intercept\n",
    "- b1 is the slope\n",
    "- advertising_expenditure is the advertising expenditure\n",
    "\n",
    "The parameters of the model can be estimated using the following formulas:\n",
    "\n",
    "- b0 = mean(sales) - b1 * mean(advertising_expenditure)\n",
    "- b1 = sum((sales - mean(sales)) * (advertising_expenditure - mean(advertising_expenditure))) / sum((advertising_expenditure - mean(advertising_expenditure))^2)\n",
    "\n",
    "\n",
    "        b0 = 23\n",
    "        b1 = 2\n",
    "\n",
    "The predicted sales for a given advertising expenditure can be calculated using the following formula:\n",
    "              \n",
    "    predicted_sales = b0 + b1 * advertising_expenditure\n",
    "    \n",
    "    predicted_sales = 23 + 2 * 12 = 30\n",
    "    \n",
    "The coefficient of determination, also known as R-squared, is a measure of how well the linear regression model fits the data. It is calculated as follows:\n",
    "\n",
    "    R^2 = 1 - (sum((sales - predicted_sales)^2) / sum((sales - mean(sales))^2))\n",
    "\n",
    "    R^2 = 1 - (sum((25 - 30)^2 + (30 - 30)^2 + (28 - 30)^2 + (20 - 30)^2 + (26 - 30)^2) / sum((25 - 23)^2 + (30 - 23)^2 + (28 - 23)^2 + (20 - 23)^2 + (26 - 23)^2))\n",
    "    \n",
    "    R^2 = 0.64"
   ]
  }
 ],
 "metadata": {
  "kernelspec": {
   "display_name": "Python 3 (ipykernel)",
   "language": "python",
   "name": "python3"
  },
  "language_info": {
   "codemirror_mode": {
    "name": "ipython",
    "version": 3
   },
   "file_extension": ".py",
   "mimetype": "text/x-python",
   "name": "python",
   "nbconvert_exporter": "python",
   "pygments_lexer": "ipython3",
   "version": "3.10.6"
  }
 },
 "nbformat": 4,
 "nbformat_minor": 5
}
