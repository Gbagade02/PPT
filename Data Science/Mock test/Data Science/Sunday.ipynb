{
 "cells": [
  {
   "cell_type": "markdown",
   "id": "b2398462-0237-4e42-b331-ee6c657fa239",
   "metadata": {},
   "source": [
    "17. Write a function that takes a list of numbers as input and returns a new list containing only the even numbers from the input list. Use list comprehension to solve this problem.\n",
    "\n",
    "Example:\n",
    "\n",
    "Input: [1, 2, 3, 4, 5, 6, 7, 8, 9, 10]\n",
    "\n",
    "Output: [2, 4, 6, 8, 10]"
   ]
  },
  {
   "cell_type": "code",
   "execution_count": 1,
   "id": "cdd93ffa-0a62-4f49-868e-4f60fffdee85",
   "metadata": {},
   "outputs": [],
   "source": [
    "def return_even(input_list):\n",
    "    output_list = []\n",
    "    for i in input_list:\n",
    "        if i % 2 == 0:\n",
    "            output_list.append(i)\n",
    "    return output_list\n",
    "        "
   ]
  },
  {
   "cell_type": "markdown",
   "id": "67b8fffc-2841-41e1-80dc-28d34cca9a82",
   "metadata": {},
   "source": [
    "18. Implement a decorator function called ‘timer’ that measures the execution time of a function. The ‘timer’ decorator should print the time taken by the decorated function to execute. Use the ‘time’ module in Python to calculate the execution time."
   ]
  },
  {
   "cell_type": "code",
   "execution_count": 3,
   "id": "c4850ce4-5ed1-46ad-9cd8-07961f69722d",
   "metadata": {},
   "outputs": [
    {
     "name": "stdout",
     "output_type": "stream",
     "text": [
      "Execution time of calculate_sum: 0.000002 seconds\n",
      "Sum: 55\n"
     ]
    }
   ],
   "source": [
    "import time\n",
    "\n",
    "def timer(func):\n",
    "    def wrapper(*args, **kwargs):\n",
    "        start_time = time.time()\n",
    "        result = func(*args, **kwargs)\n",
    "        end_time = time.time()\n",
    "        execution_time = end_time - start_time\n",
    "        print(f\"Execution time of {func.__name__}: {execution_time:.6f} seconds\")\n",
    "        return result\n",
    "    return wrapper\n",
    "\n",
    "@timer\n",
    "def calculate_sum(n):\n",
    "    total = 0\n",
    "    for i in range(1, n+1):\n",
    "        total += i\n",
    "    return total\n",
    "\n",
    "result = calculate_sum(10)\n",
    "print(f\"Sum: {result}\")"
   ]
  },
  {
   "cell_type": "markdown",
   "id": "250ee011-54d3-4a78-a10e-94a0a2603a70",
   "metadata": {},
   "source": [
    "19. Write a function called ‘calculate_mean’ that takes a list of numbers as input and returns the mean (average) of the numbers. The function should calculate the mean using the sum of the numbers divided by the total"
   ]
  },
  {
   "cell_type": "code",
   "execution_count": 13,
   "id": "7fc5cdbe-02df-42d3-9f43-b646b7fd1b2c",
   "metadata": {},
   "outputs": [
    {
     "name": "stdout",
     "output_type": "stream",
     "text": [
      "Length: 6 and total: 300\n",
      "50\n"
     ]
    }
   ],
   "source": [
    "def mean_number(lisit1):\n",
    "    lenght = len(list1)\n",
    "    total = sum(list1)\n",
    "    print (f\"Length: {lenght} and total: {total}\")\n",
    "    return total//lenght\n",
    "\n",
    "list1 = [50,50,50,50,50,50]\n",
    "print(mean_number(list1))"
   ]
  },
  {
   "cell_type": "markdown",
   "id": "6823ead0-cdb6-4138-9200-6444d9f33e6d",
   "metadata": {},
   "source": [
    "20. Write a function called ‘perform_hypothesis_test’ that takes two lists of numbers as input, representing two samples. The function should perform a two-sample t-test and return the p-value. Use the ‘scipy.stats’ module in Python to calculate the t-test and p-value."
   ]
  },
  {
   "cell_type": "code",
   "execution_count": null,
   "id": "e23a7f7b-c659-4373-aa8f-32f792205857",
   "metadata": {},
   "outputs": [],
   "source": []
  }
 ],
 "metadata": {
  "kernelspec": {
   "display_name": "Python 3 (ipykernel)",
   "language": "python",
   "name": "python3"
  },
  "language_info": {
   "codemirror_mode": {
    "name": "ipython",
    "version": 3
   },
   "file_extension": ".py",
   "mimetype": "text/x-python",
   "name": "python",
   "nbconvert_exporter": "python",
   "pygments_lexer": "ipython3",
   "version": "3.10.6"
  }
 },
 "nbformat": 4,
 "nbformat_minor": 5
}
