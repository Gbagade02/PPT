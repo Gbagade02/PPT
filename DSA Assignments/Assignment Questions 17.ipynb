{
 "cells": [
  {
   "cell_type": "markdown",
   "id": "9b95d9d1-d62c-402e-9a93-458b75dfc722",
   "metadata": {},
   "source": [
    "Given a string s, find the first non-repeating character in it and return its index. If it does not exist, return -1."
   ]
  },
  {
   "cell_type": "code",
   "execution_count": 2,
   "id": "ed94b60c-7415-4992-8b74-9ffddee8956d",
   "metadata": {},
   "outputs": [],
   "source": [
    "def find_first_non_repeating_character(s):\n",
    "    char_count = {}\n",
    "    for ch in s:\n",
    "        if ch in char_count:\n",
    "            char_count[ch] += 1\n",
    "        else:\n",
    "            char_count[ch] = 1\n",
    "    \n",
    "    for i, ch in enumerate(s):\n",
    "        if char_count[ch] == 1:\n",
    "            return i\n",
    "    \n",
    "    return -1"
   ]
  },
  {
   "cell_type": "markdown",
   "id": "f07ae767-9ad3-4755-80b3-3b18c8fa2e27",
   "metadata": {},
   "source": [
    "<aside>\n",
    "💡 **Question 2**\n",
    "\n",
    "Given a **circular integer array** `nums` of length `n`, return *the maximum possible sum of a non-empty **subarray** of* `nums`.\n",
    "\n",
    "A **circular array** means the end of the array connects to the beginning of the array. Formally, the next element of `nums[i]` is `nums[(i + 1) % n]` and the previous element of `nums[i]` is `nums[(i - 1 + n) % n]`.\n",
    "\n",
    "A **subarray** may only include each element of the fixed buffer `nums` at most once. Formally, for a subarray `nums[i], nums[i + 1], ..., nums[j]`, there does not exist `i <= k1`, `k2 <= j` with `k1 % n == k2 % n`.\n",
    "\n",
    "</aside>"
   ]
  },
  {
   "cell_type": "code",
   "execution_count": 3,
   "id": "bd711c19-df9a-4664-9870-e4e547252da4",
   "metadata": {},
   "outputs": [],
   "source": [
    "def max_subarray_sum_circular(nums):\n",
    "    n = len(nums)\n",
    "\n",
    "    # Case 1: Maximum subarray sum within circular array (non-wraparound)\n",
    "    max_sum = float('-inf')\n",
    "    cur_sum = 0\n",
    "\n",
    "    for num in nums:\n",
    "        cur_sum = max(cur_sum + num, num)\n",
    "        max_sum = max(max_sum, cur_sum)\n",
    "\n",
    "    # Case 2: Maximum subarray sum wraps around the circular array\n",
    "    min_sum = float('inf')\n",
    "    cur_sum = 0\n",
    "\n",
    "    for num in nums:\n",
    "        cur_sum = min(cur_sum + num, num)\n",
    "        min_sum = min(min_sum, cur_sum)\n",
    "\n",
    "    total_sum = sum(nums)\n",
    "\n",
    "    if total_sum == min_sum:  # All elements are negative\n",
    "        return max_sum\n",
    "\n",
    "    return max(max_sum, total_sum - min_sum)\n"
   ]
  },
  {
   "cell_type": "markdown",
   "id": "5343045a-3cf9-4af1-9ed5-dfb3a953ab90",
   "metadata": {},
   "source": [
    "<aside>\n",
    "💡 **Question 3**\n",
    "\n",
    "The school cafeteria offers circular and square sandwiches at lunch break, referred to by numbers `0` and `1` respectively. All students stand in a queue. Each student either prefers square or circular sandwiches.\n",
    "\n",
    "The number of sandwiches in the cafeteria is equal to the number of students. The sandwiches are placed in a **stack**. At each step:\n",
    "\n",
    "- If the student at the front of the queue **prefers** the sandwich on the top of the stack, they will **take it** and leave the queue.\n",
    "- Otherwise, they will **leave it** and go to the queue's end.\n",
    "\n",
    "This continues until none of the queue students want to take the top sandwich and are thus unable to eat.\n",
    "\n",
    "You are given two integer arrays `students` and `sandwiches` where `sandwiches[i]` is the type of the `ith` sandwich in the stack (`i = 0` is the top of the stack) and `students[j]` is the preference of the `jth` student in the initial queue (`j = 0` is the front of the queue). Return *the number of students that are unable to eat.*\n",
    "\n",
    "</aside>"
   ]
  },
  {
   "cell_type": "code",
   "execution_count": 4,
   "id": "ccad56f7-1f9c-4637-8b6c-93db7a661cbd",
   "metadata": {},
   "outputs": [],
   "source": [
    "from collections import deque\n",
    "\n",
    "def count_students_unable_to_eat(students, sandwiches):\n",
    "    queue = deque(students)\n",
    "    stack = sandwiches\n",
    "    \n",
    "    while queue and stack:\n",
    "        if queue[0] == stack[0]:\n",
    "            queue.popleft()\n",
    "            stack.pop(0)\n",
    "        else:\n",
    "            queue.append(queue.popleft())\n",
    "    \n",
    "    return len(queue)\n"
   ]
  },
  {
   "cell_type": "markdown",
   "id": "01f45c95-18ab-4e91-8709-4cbc88ad4037",
   "metadata": {},
   "source": [
    "<aside>\n",
    "💡 **uestion 4**\n",
    "\n",
    "You have a `RecentCounter` class which counts the number of recent requests within a certain time frame.\n",
    "\n",
    "Implement the `RecentCounter` class:\n",
    "\n",
    "- `RecentCounter()` Initializes the counter with zero recent requests.\n",
    "- `int ping(int t)` Adds a new request at time `t`, where `t` represents some time in milliseconds, and returns the number of requests that has happened in the past `3000` milliseconds (including the new request). Specifically, return the number of requests that have happened in the inclusive range `[t - 3000, t]`.\n",
    "\n",
    "It is **guaranteed** that every call to `ping` uses a strictly larger value of `t` than the previous call.\n",
    "\n",
    "</aside>"
   ]
  },
  {
   "cell_type": "code",
   "execution_count": 5,
   "id": "d5bb23c1-e6f3-452a-825e-0dbf26184608",
   "metadata": {},
   "outputs": [],
   "source": [
    "from collections import deque\n",
    "\n",
    "class RecentCounter:\n",
    "    def __init__(self):\n",
    "        self.requests = deque()\n",
    "\n",
    "    def ping(self, t: int) -> int:\n",
    "        # Add the new request timestamp to the queue\n",
    "        self.requests.append(t)\n",
    "        \n",
    "        # Remove the outdated requests from the front of the queue\n",
    "        while self.requests and self.requests[0] < t - 3000:\n",
    "            self.requests.popleft()\n",
    "        \n",
    "        # Return the number of requests in the queue\n",
    "        return len(self.requests)\n"
   ]
  },
  {
   "cell_type": "markdown",
   "id": "dfb63832-3375-4b6f-90e5-533190d61216",
   "metadata": {},
   "source": [
    "<aside>\n",
    "💡 **Question 5**\n",
    "\n",
    "There are `n` friends that are playing a game. The friends are sitting in a circle and are numbered from `1` to `n` in **clockwise order**. More formally, moving clockwise from the `ith` friend brings you to the `(i+1)th` friend for `1 <= i < n`, and moving clockwise from the `nth` friend brings you to the `1st` friend.\n",
    "\n",
    "The rules of the game are as follows:\n",
    "\n",
    "1. **Start** at the `1st` friend.\n",
    "2. Count the next `k` friends in the clockwise direction **including** the friend you started at. The counting wraps around the circle and may count some friends more than once.\n",
    "3. The last friend you counted leaves the circle and loses the game.\n",
    "4. If there is still more than one friend in the circle, go back to step `2` **starting** from the friend **immediately clockwise** of the friend who just lost and repeat.\n",
    "5. Else, the last friend in the circle wins the game.\n",
    "\n",
    "Given the number of friends, `n`, and an integer `k`, return *the winner of the game*.\n",
    "\n",
    "</aside>"
   ]
  },
  {
   "cell_type": "code",
   "execution_count": 6,
   "id": "9f425840-9f5e-4b37-85fe-8862a3199815",
   "metadata": {},
   "outputs": [],
   "source": [
    "def find_game_winner(n, k):\n",
    "    circle = list(range(1, n + 1))\n",
    "    current = 0\n",
    "\n",
    "    while len(circle) > 1:\n",
    "        current = (current + k - 1) % len(circle)\n",
    "        circle.pop(current)\n",
    "\n",
    "    return circle[0]"
   ]
  },
  {
   "cell_type": "markdown",
   "id": "b6011df7-f279-46e3-8d18-89376f4497d0",
   "metadata": {},
   "source": [
    "<aside>\n",
    "💡 **Question 6**\n",
    "\n",
    "You are given an integer array `deck`. There is a deck of cards where every card has a unique integer. The integer on the `ith` card is `deck[i]`.\n",
    "\n",
    "You can order the deck in any order you want. Initially, all the cards start face down (unrevealed) in one deck.\n",
    "\n",
    "You will do the following steps repeatedly until all cards are revealed:\n",
    "\n",
    "1. Take the top card of the deck, reveal it, and take it out of the deck.\n",
    "2. If there are still cards in the deck then put the next top card of the deck at the bottom of the deck.\n",
    "3. If there are still unrevealed cards, go back to step 1. Otherwise, stop.\n",
    "\n",
    "Return *an ordering of the deck that would reveal the cards in increasing order*.\n",
    "\n",
    "**Note** that the first entry in the answer is considered to be the top of the deck.\n",
    "\n",
    "</aside>"
   ]
  },
  {
   "cell_type": "code",
   "execution_count": 7,
   "id": "8453b487-9ab4-4926-9c52-ac734eba2707",
   "metadata": {},
   "outputs": [],
   "source": [
    "from collections import deque\n",
    "\n",
    "def reveal_cards_increasing_order(deck):\n",
    "    deck.sort()\n",
    "    revealed = deque()\n",
    "\n",
    "    for card in deck[::-1]:\n",
    "        if revealed:\n",
    "            revealed.appendleft(revealed.pop())\n",
    "        revealed.appendleft(card)\n",
    "\n",
    "    return list(revealed)\n"
   ]
  },
  {
   "cell_type": "markdown",
   "id": "1f206983-a3ac-4bcf-a9e7-f39bd608d727",
   "metadata": {},
   "source": [
    "<aside>\n",
    "💡 **Question 7**\n",
    "\n",
    "Design a queue that supports `push` and `pop` operations in the front, middle, and back.\n",
    "\n",
    "Implement the `FrontMiddleBack` class:\n",
    "\n",
    "- `FrontMiddleBack()` Initializes the queue.\n",
    "- `void pushFront(int val)` Adds `val` to the **front** of the queue.\n",
    "- `void pushMiddle(int val)` Adds `val` to the **middle** of the queue.\n",
    "- `void pushBack(int val)` Adds `val` to the **back** of the queue.\n",
    "- `int popFront()` Removes the **front** element of the queue and returns it. If the queue is empty, return `1`.\n",
    "- `int popMiddle()` Removes the **middle** element of the queue and returns it. If the queue is empty, return `1`.\n",
    "- `int popBack()` Removes the **back** element of the queue and returns it. If the queue is empty, return `1`.\n",
    "\n",
    "**Notice** that when there are **two** middle position choices, the operation is performed on the **frontmost** middle position choice. For example:\n",
    "\n",
    "- Pushing `6` into the middle of `[1, 2, 3, 4, 5]` results in `[1, 2, 6, 3, 4, 5]`.\n",
    "- Popping the middle from `[1, 2, 3, 4, 5, 6]` returns `3` and results in `[1, 2, 4, 5, 6]`.\n",
    "</aside>"
   ]
  }
 ],
 "metadata": {
  "kernelspec": {
   "display_name": "Python 3 (ipykernel)",
   "language": "python",
   "name": "python3"
  },
  "language_info": {
   "codemirror_mode": {
    "name": "ipython",
    "version": 3
   },
   "file_extension": ".py",
   "mimetype": "text/x-python",
   "name": "python",
   "nbconvert_exporter": "python",
   "pygments_lexer": "ipython3",
   "version": "3.10.6"
  }
 },
 "nbformat": 4,
 "nbformat_minor": 5
}
