{
 "cells": [
  {
   "cell_type": "markdown",
   "id": "4cf5fb54-2204-43c1-92a4-b14869d57d67",
   "metadata": {},
   "source": [
    "<aside>\n",
    "💡 **Question 1**\n",
    "\n",
    "Given two strings s1 and s2, return *the lowest **ASCII** sum of deleted characters to make two strings equal*.\n",
    "\n",
    "**Example 1:**\n",
    "\n",
    "**Input:** s1 = \"sea\", s2 = \"eat\"\n",
    "\n",
    "**Output:** 231\n",
    "\n",
    "**Explanation:** Deleting \"s\" from \"sea\" adds the ASCII value of \"s\" (115) to the sum.\n",
    "\n",
    "Deleting \"t\" from \"eat\" adds 116 to the sum.\n",
    "\n",
    "At the end, both strings are equal, and 115 + 116 = 231 is the minimum sum possible to achieve this.\n",
    "\n",
    "</aside>"
   ]
  },
  {
   "cell_type": "code",
   "execution_count": 1,
   "id": "c71309b9-ff63-4e8c-bc27-50cae1950ba6",
   "metadata": {},
   "outputs": [
    {
     "name": "stdout",
     "output_type": "stream",
     "text": [
      "231\n"
     ]
    }
   ],
   "source": [
    "def minimumDeleteSum(s1, s2):\n",
    "        m, n = len(s1), len(s2)\n",
    "        # Initialize a 2D array of size (m+1)x(n+1) to store the subproblem results\n",
    "        dp = [[0] * (n + 1) for _ in range(m + 1)]\n",
    "        \n",
    "        # Compute the subproblem results in a bottom-up manner\n",
    "        for i in range(m - 1, -1, -1):\n",
    "            # Compute the cost of deleting character s1[i]\n",
    "            dp[i][n] = dp[i + 1][n] + ord(s1[i])\n",
    "        for j in range(n - 1, -1, -1):\n",
    "            # Compute the cost of deleting character s2[j]\n",
    "            dp[m][j] = dp[m][j + 1] + ord(s2[j])\n",
    "        for i in range(m - 1, -1, -1):\n",
    "            for j in range(n - 1, -1, -1):\n",
    "                if s1[i] == s2[j]:\n",
    "                    # If the characters match, no deletion is needed\n",
    "                    dp[i][j] = dp[i + 1][j + 1]\n",
    "                else:\n",
    "                    # Otherwise, we need to delete either s1[i] or s2[j]\n",
    "                    dp[i][j] = min(dp[i + 1][j] + ord(s1[i]), dp[i][j + 1] + ord(s2[j]))\n",
    "        \n",
    "        # Return the final result\n",
    "        return dp[0][0]\n",
    "#driver code\n",
    "s1 = \"sea\"\n",
    "s2 = \"eat\"\n",
    "print(minimumDeleteSum(s1,s2))"
   ]
  },
  {
   "cell_type": "markdown",
   "id": "acccb726-5eba-471f-ba60-55fd295c0925",
   "metadata": {},
   "source": [
    "<aside>\n",
    "💡 **Question 2**\n",
    "\n",
    "Given a string s containing only three types of characters: '(', ')' and '*', return true *if* s *is **valid***.\n",
    "\n",
    "The following rules define a **valid** string:\n",
    "\n",
    "- Any left parenthesis '(' must have a corresponding right parenthesis ')'.\n",
    "- Any right parenthesis ')' must have a corresponding left parenthesis '('.\n",
    "- Left parenthesis '(' must go before the corresponding right parenthesis ')'.\n",
    "- '*' could be treated as a single right parenthesis ')' or a single left parenthesis '(' or an empty string \"\".\n",
    "\n",
    "**Example 1:**\n",
    "\n",
    "**Input:** s = \"()\"\n",
    "\n",
    "**Output:**\n",
    "\n",
    "true\n",
    "\n",
    "</aside>"
   ]
  },
  {
   "cell_type": "code",
   "execution_count": 2,
   "id": "fa3f4281-3206-4ca6-8cac-c38094f3c765",
   "metadata": {},
   "outputs": [
    {
     "name": "stdout",
     "output_type": "stream",
     "text": [
      "True\n"
     ]
    }
   ],
   "source": [
    "def checkValidString(s):\n",
    "        leftmin = leftmax = 0\n",
    "        for c in s:\n",
    "            if c == \"(\":\n",
    "                leftmax += 1\n",
    "                leftmin += 1\n",
    "            if c == \")\":\n",
    "                leftmax -= 1\n",
    "                leftmin = max(0, leftmin-1)\n",
    "            if c == \"*\":\n",
    "                leftmax +=1\n",
    "                leftmin = max(0, leftmin-1)\n",
    "            if leftmax < 0:\n",
    "                return False\n",
    "        if leftmin == 0:\n",
    "            return True\n",
    "# Driver code\n",
    "s = \"()\"\n",
    "print(checkValidString(s))"
   ]
  },
  {
   "cell_type": "markdown",
   "id": "d52bf719-c4fc-42a2-a9dc-ac69aa49fe7a",
   "metadata": {},
   "source": [
    "<aside>\n",
    "💡 **Question 3**\n",
    "\n",
    "Given two strings word1 and word2, return *the minimum number of **steps** required to make* word1 *and* word2 *the same*.\n",
    "\n",
    "In one **step**, you can delete exactly one character in either string.\n",
    "\n",
    "**Example 1:**\n",
    "\n",
    "**Input:** word1 = \"sea\", word2 = \"eat\"\n",
    "\n",
    "**Output:** 2\n",
    "\n",
    "**Explanation:** You need one step to make \"sea\" to \"ea\" and another step to make \"eat\" to \"ea\".\n",
    "\n",
    "</aside>"
   ]
  },
  {
   "cell_type": "code",
   "execution_count": null,
   "id": "3f05e70f-5210-453f-9c3c-b3736fb92ee1",
   "metadata": {},
   "outputs": [],
   "source": [
    "def minDistance(self, word1: str, word2: str) -> int:\n",
    "        m, n = len(word1), len(word2)\n",
    "        dp = [[0] * (n + 1) for _ in range(m + 1)]\n",
    "        \n",
    "        # fill in the dynamic programming table\n",
    "        for i in range(1, m + 1):\n",
    "            for j in range(1, n + 1):\n",
    "                if word1[i - 1] == word2[j - 1]:\n",
    "                    dp[i][j] = dp[i - 1][j - 1] + 1\n",
    "                else:\n",
    "                    dp[i][j] = max(dp[i - 1][j], dp[i][j - 1])\n",
    "        \n",
    "        # return the minimum number of deletions required\n",
    "        return m + n - 2 * dp[m][n]\n",
    "    \n",
    "# Driver Code\n",
    "word1 = 'sea'\n",
    "word2 = \"eat\"\n",
    "print"
   ]
  }
 ],
 "metadata": {
  "kernelspec": {
   "display_name": "Python 3 (ipykernel)",
   "language": "python",
   "name": "python3"
  },
  "language_info": {
   "codemirror_mode": {
    "name": "ipython",
    "version": 3
   },
   "file_extension": ".py",
   "mimetype": "text/x-python",
   "name": "python",
   "nbconvert_exporter": "python",
   "pygments_lexer": "ipython3",
   "version": "3.10.6"
  }
 },
 "nbformat": 4,
 "nbformat_minor": 5
}
