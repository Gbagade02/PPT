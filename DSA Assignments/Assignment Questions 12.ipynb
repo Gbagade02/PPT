{
 "cells": [
  {
   "cell_type": "markdown",
   "id": "39bfe65b-160a-407b-b41e-396d0b663d6e",
   "metadata": {},
   "source": [
    "<aside>\n",
    "💡 **Question 1**\n",
    "\n",
    "Given a singly linked list, delete **middle** of the linked list. For example, if given linked list is 1->2->**3**->4->5 then linked list should be modified to 1->2->4->5.If there are **even** nodes, then there would be **two middle** nodes, we need to delete the second middle element. For example, if given linked list is 1->2->3->4->5->6 then it should be modified to 1->2->3->5->6.If the input linked list is NULL or has 1 node, then it should return NULL\n",
    "\n",
    "</aside>"
   ]
  },
  {
   "cell_type": "code",
   "execution_count": 1,
   "id": "167c7aa3-dec9-4ae7-8349-d2dc31c47482",
   "metadata": {},
   "outputs": [
    {
     "name": "stdout",
     "output_type": "stream",
     "text": [
      "1 2 4 5 "
     ]
    }
   ],
   "source": [
    "class ListNode:\n",
    "    def __init__(self, val=0, next=None):\n",
    "        self.val = val\n",
    "        self.next = next\n",
    "\n",
    "def deleteMiddleNode(head):\n",
    "    if head is None or head.next is None:\n",
    "        return None\n",
    "\n",
    "    slow = head\n",
    "    fast = head\n",
    "    prev = None\n",
    "\n",
    "    while fast is not None and fast.next is not None:\n",
    "        fast = fast.next.next\n",
    "        prev = slow\n",
    "        slow = slow.next\n",
    "\n",
    "    # Adjust pointers to delete middle node(s)\n",
    "    prev.next = slow.next\n",
    "\n",
    "    return head\n",
    "\n",
    "# Test case 1\n",
    "head1 = ListNode(1)\n",
    "head1.next = ListNode(2)\n",
    "head1.next.next = ListNode(3)\n",
    "head1.next.next.next = ListNode(4)\n",
    "head1.next.next.next.next = ListNode(5)\n",
    "\n",
    "newHead1 = deleteMiddleNode(head1)\n",
    "\n",
    "# Print the modified linked list\n",
    "while newHead1 is not None:\n",
    "    print(newHead1.val, end=\" \")\n",
    "    newHead1 = newHead1.next\n"
   ]
  },
  {
   "cell_type": "markdown",
   "id": "a5e9ff10-b91b-4b68-b473-948ce60cb74c",
   "metadata": {},
   "source": [
    "Given a linked list of N nodes. The task is to check if the linked list has a loop. Linked list can contain self loop."
   ]
  },
  {
   "cell_type": "code",
   "execution_count": 2,
   "id": "be92d296-9e98-46da-87b6-d6e6c1d131f4",
   "metadata": {},
   "outputs": [
    {
     "name": "stdout",
     "output_type": "stream",
     "text": [
      "True\n"
     ]
    }
   ],
   "source": [
    "class ListNode:\n",
    "    def __init__(self, val=0, next=None):\n",
    "        self.val = val\n",
    "        self.next = next\n",
    "\n",
    "def hasLoop(head):\n",
    "    slow = head\n",
    "    fast = head\n",
    "\n",
    "    while fast is not None and fast.next is not None:\n",
    "        slow = slow.next\n",
    "        fast = fast.next.next\n",
    "\n",
    "        if slow == fast:\n",
    "            return True\n",
    "\n",
    "    return False\n",
    "\n",
    "# Example usage\n",
    "# Create a linked list with a loop\n",
    "head = ListNode(1)\n",
    "head.next = ListNode(2)\n",
    "head.next.next = ListNode(3)\n",
    "head.next.next.next = ListNode(4)\n",
    "head.next.next.next.next = ListNode(5)\n",
    "\n",
    "# Create a loop in the linked list\n",
    "head.next.next.next.next.next = head.next.next\n",
    "\n",
    "# Check if the linked list has a loop\n",
    "result = hasLoop(head)\n",
    "\n",
    "print(result)\n",
    "# Output: True"
   ]
  },
  {
   "cell_type": "markdown",
   "id": "525cf581-317a-452d-a127-b05e8cb6a4eb",
   "metadata": {},
   "source": [
    "Given a linked list consisting of L nodes and given a number N. The task is to find the Nth node from the end of the linked list."
   ]
  },
  {
   "cell_type": "code",
   "execution_count": 3,
   "id": "a195e4fb-3ad9-4f7f-9d43-fbc8bd92ce03",
   "metadata": {},
   "outputs": [
    {
     "name": "stdout",
     "output_type": "stream",
     "text": [
      "4\n"
     ]
    }
   ],
   "source": [
    "class ListNode:\n",
    "    def __init__(self, val=0, next=None):\n",
    "        self.val = val\n",
    "        self.next = next\n",
    "\n",
    "def findNthFromEnd(head, N):\n",
    "    slow = head\n",
    "    fast = head\n",
    "\n",
    "    # Move the fast pointer N nodes ahead\n",
    "    for _ in range(N):\n",
    "        if fast is None:\n",
    "            # Handle the case when N is greater than the length of the linked list\n",
    "            return None\n",
    "        fast = fast.next\n",
    "\n",
    "    # Move both pointers one node at a time until the fast pointer reaches the end\n",
    "    while fast is not None:\n",
    "        slow = slow.next\n",
    "        fast = fast.next\n",
    "\n",
    "    return slow.val\n",
    "\n",
    "# Example usage\n",
    "# Create a linked list: 1 -> 2 -> 3 -> 4 -> 5\n",
    "head = ListNode(1)\n",
    "head.next = ListNode(2)\n",
    "head.next.next = ListNode(3)\n",
    "head.next.next.next = ListNode(4)\n",
    "head.next.next.next.next = ListNode(5)\n",
    "\n",
    "# Find the 2nd node from the end\n",
    "result = findNthFromEnd(head, 2)\n",
    "\n",
    "print(result)\n",
    "# Output: 4"
   ]
  },
  {
   "cell_type": "markdown",
   "id": "50cd6c52-d3b8-4213-9b19-174400fbfa53",
   "metadata": {},
   "source": [
    "<aside>\n",
    "💡 **Question 4**\n",
    "\n",
    "Given a singly linked list of characters, write a function that returns true if the given list is a palindrome, else false.\n",
    "\n",
    "</aside>"
   ]
  },
  {
   "cell_type": "code",
   "execution_count": 4,
   "id": "c0ab11f8-8d30-4721-9096-b67d53cd5df3",
   "metadata": {},
   "outputs": [
    {
     "name": "stdout",
     "output_type": "stream",
     "text": [
      "False\n"
     ]
    }
   ],
   "source": [
    "class ListNode:\n",
    "    def __init__(self, val=0, next=None):\n",
    "        self.val = val\n",
    "        self.next = next\n",
    "\n",
    "def isPalindrome(head):\n",
    "    if head is None or head.next is None:\n",
    "        return True\n",
    "\n",
    "    # Step 1: Find the middle node using slow and fast pointers\n",
    "    slow = head\n",
    "    fast = head\n",
    "\n",
    "    while fast.next is not None and fast.next.next is not None:\n",
    "        slow = slow.next\n",
    "        fast = fast.next.next\n",
    "\n",
    "    # Step 2: Reverse the second half of the linked list\n",
    "    second_half = reverseLinkedList(slow.next)\n",
    "    slow.next = None  # Disconnect the first half from the second half\n",
    "\n",
    "    # Step 3: Compare the reversed second half with the first half\n",
    "    is_palindrome = compareLinkedLists(head, second_half)\n",
    "\n",
    "    # Step 4: Restore the original order by reversing the second half again\n",
    "    second_half = reverseLinkedList(second_half)\n",
    "    slow.next = second_half\n",
    "\n",
    "    return is_palindrome\n",
    "\n",
    "def reverseLinkedList(head):\n",
    "    prev = None\n",
    "    curr = head\n",
    "\n",
    "    while curr is not None:\n",
    "        next_node = curr.next\n",
    "        curr.next = prev\n",
    "        prev = curr\n",
    "        curr = next_node\n",
    "\n",
    "    return prev\n",
    "\n",
    "def compareLinkedLists(head1, head2):\n",
    "    while head1 is not None and head2 is not None:\n",
    "        if head1.val != head2.val:\n",
    "            return False\n",
    "        head1 = head1.next\n",
    "        head2 = head2.next\n",
    "\n",
    "    return head1 is None and head2 is None\n",
    "\n",
    "# Example usage\n",
    "# Create a palindrome linked list: 'r' -> 'a' -> 'c' -> 'e' -> 'c' -> 'a' -> 'r'\n",
    "head = ListNode('r')\n",
    "head.next = ListNode('a')\n",
    "head.next.next = ListNode('c')\n",
    "head.next.next.next = ListNode('e')\n",
    "head.next.next.next.next = ListNode('c')\n",
    "head.next.next.next.next.next = ListNode('a')\n",
    "head.next.next.next.next.next.next = ListNode('r')\n",
    "\n",
    "# Check if the linked list is a palindrome\n",
    "result = isPalindrome(head)\n",
    "\n",
    "print(result)"
   ]
  },
  {
   "cell_type": "markdown",
   "id": "fe3bb0b2-e2cb-4c27-83e4-ad21710b4031",
   "metadata": {},
   "source": [
    "<aside>\n",
    "💡 **Question 5**\n",
    "\n",
    "Given a linked list of **N** nodes such that it may contain a loop.\n",
    "\n",
    "A loop here means that the last node of the link list is connected to the node at position X(1-based index). If the link list does not have any loop, X=0.\n",
    "\n",
    "Remove the loop from the linked list, if it is present, i.e. unlink the last node which is forming the loop.\n",
    "\n",
    "</aside>"
   ]
  },
  {
   "cell_type": "code",
   "execution_count": 5,
   "id": "1851ead4-4152-47ce-9bdb-4a0b771ed2d2",
   "metadata": {},
   "outputs": [
    {
     "name": "stdout",
     "output_type": "stream",
     "text": [
      "1 2 3 4 5 "
     ]
    }
   ],
   "source": [
    "class ListNode:\n",
    "    def __init__(self, val=0, next=None):\n",
    "        self.val = val\n",
    "        self.next = next\n",
    "\n",
    "def detectAndRemoveLoop(head):\n",
    "    if head is None or head.next is None:\n",
    "        return\n",
    "\n",
    "    slow = head\n",
    "    fast = head\n",
    "\n",
    "    # Step 1: Detect if there is a loop\n",
    "    while fast is not None and fast.next is not None:\n",
    "        slow = slow.next\n",
    "        fast = fast.next.next\n",
    "\n",
    "        if slow == fast:\n",
    "            break\n",
    "\n",
    "    # If no loop is found\n",
    "    if slow != fast:\n",
    "        return\n",
    "\n",
    "    # Step 2: Move the fast pointer back to the head\n",
    "    fast = head\n",
    "\n",
    "    # Step 3: Move both pointers one step at a time until they meet again\n",
    "    while slow.next != fast.next:\n",
    "        slow = slow.next\n",
    "        fast = fast.next\n",
    "\n",
    "    # Step 4: Remove the loop by setting the next of the node where the fast pointer stopped to None\n",
    "    slow.next = None\n",
    "\n",
    "# Example usage\n",
    "# Create a linked list with a loop: 1 -> 2 -> 3 -> 4 -> 5 -> 3 (loop back to 3)\n",
    "head = ListNode(1)\n",
    "head.next = ListNode(2)\n",
    "head.next.next = ListNode(3)\n",
    "head.next.next.next = ListNode(4)\n",
    "head.next.next.next.next = ListNode(5)\n",
    "head.next.next.next.next.next = head.next.next  # Create a loop\n",
    "\n",
    "# Check if there is a loop and remove it\n",
    "detectAndRemoveLoop(head)\n",
    "\n",
    "# Print the updated linked list without the loop\n",
    "current = head\n",
    "while current is not None:\n",
    "    print(current.val, end=\" \")\n",
    "    current = current.next\n",
    "\n",
    "# Output: 1 2 3 4 5"
   ]
  },
  {
   "cell_type": "markdown",
   "id": "53e77617-4ee1-4a72-9907-8f1dd7494d71",
   "metadata": {},
   "source": [
    "<aside>\n",
    "💡 **Question 6**\n",
    "\n",
    "Given a linked list and two integers M and N. Traverse the linked list such that you retain M nodes then delete next N nodes, continue the same till end of the linked list.\n",
    "\n",
    "</aside>"
   ]
  },
  {
   "cell_type": "code",
   "execution_count": 6,
   "id": "745eeb44-fad9-4229-9d60-8803f02098bf",
   "metadata": {},
   "outputs": [
    {
     "name": "stdout",
     "output_type": "stream",
     "text": [
      "1 2 3 6 7 8 "
     ]
    }
   ],
   "source": [
    "class ListNode:\n",
    "    def __init__(self, val=0, next=None):\n",
    "        self.val = val\n",
    "        self.next = next\n",
    "\n",
    "def deleteNodes(head, M, N):\n",
    "    current = head\n",
    "    previous = None\n",
    "\n",
    "    while current is not None:\n",
    "        # Traverse M nodes\n",
    "        for _ in range(M):\n",
    "            if current is None:\n",
    "                return head\n",
    "            previous = current\n",
    "            current = current.next\n",
    "\n",
    "        # Delete N nodes\n",
    "        for _ in range(N):\n",
    "            if current is None:\n",
    "                break\n",
    "            current = current.next\n",
    "\n",
    "        # Remove the N nodes from the linked list\n",
    "        previous.next = current\n",
    "\n",
    "    return head\n",
    "\n",
    "# Example usage\n",
    "# Create a linked list: 1 -> 2 -> 3 -> 4 -> 5 -> 6 -> 7 -> 8 -> 9 -> 10\n",
    "head = ListNode(1)\n",
    "current = head\n",
    "for i in range(2, 11):\n",
    "    current.next = ListNode(i)\n",
    "    current = current.next\n",
    "\n",
    "M = 3\n",
    "N = 2\n",
    "\n",
    "# Delete every 2 nodes after retaining every 3 nodes\n",
    "new_head = deleteNodes(head, M, N)\n",
    "\n",
    "# Print the modified linked list\n",
    "current = new_head\n",
    "while current is not None:\n",
    "    print(current.val, end=\" \")\n",
    "    current = current.next\n",
    "\n",
    "# Output: 1 2 3 6 7 8"
   ]
  },
  {
   "cell_type": "markdown",
   "id": "3cfc3cb4-cac4-4f14-be12-9886de39befd",
   "metadata": {},
   "source": [
    "<aside>\n",
    "💡 **Question 7**\n",
    "\n",
    "Given two linked lists, insert nodes of second list into first list at alternate positions of first list.\n",
    "For example, if first list is 5->7->17->13->11 and second is 12->10->2->4->6, the first list should become 5->12->7->10->17->2->13->4->11->6 and second list should become empty. The nodes of second list should only be inserted when there are positions available. For example, if the first list is 1->2->3 and second list is 4->5->6->7->8, then first list should become 1->4->2->5->3->6 and second list to 7->8.\n",
    "\n",
    "Use of extra space is not allowed (Not allowed to create additional nodes), i.e., insertion must be done in-place. Expected time complexity is O(n) where n is number of nodes in first list.\n",
    "\n",
    "</aside>"
   ]
  },
  {
   "cell_type": "code",
   "execution_count": 7,
   "id": "351a9509-38c7-4152-acc4-da1d054f46ab",
   "metadata": {},
   "outputs": [
    {
     "name": "stdout",
     "output_type": "stream",
     "text": [
      "5 12 7 10 17 2 13 4 11 6 "
     ]
    }
   ],
   "source": [
    "class ListNode:\n",
    "    def __init__(self, val=0, next=None):\n",
    "        self.val = val\n",
    "        self.next = next\n",
    "\n",
    "def mergeLists(list1_head, list2_head):\n",
    "    if list1_head is None:\n",
    "        return list2_head\n",
    "    if list2_head is None:\n",
    "        return list1_head\n",
    "\n",
    "    list1_current = list1_head\n",
    "    list2_current = list2_head\n",
    "\n",
    "    while list1_current is not None and list2_current is not None:\n",
    "        list1_next = list1_current.next\n",
    "        list2_next = list2_current.next\n",
    "\n",
    "        list2_current.next = list1_next\n",
    "        list1_current.next = list2_current\n",
    "\n",
    "        list1_current = list1_next\n",
    "        list2_current = list2_next\n",
    "\n",
    "    if list2_current is not None:\n",
    "        # Append the remaining nodes of the second list to the end of the first list\n",
    "        list1_current.next = list2_current\n",
    "\n",
    "    return list1_head\n",
    "\n",
    "# Example usage\n",
    "# Create the first linked list: 5 -> 7 -> 17 -> 13 -> 11\n",
    "list1_head = ListNode(5)\n",
    "list1_head.next = ListNode(7)\n",
    "list1_head.next.next = ListNode(17)\n",
    "list1_head.next.next.next = ListNode(13)\n",
    "list1_head.next.next.next.next = ListNode(11)\n",
    "\n",
    "# Create the second linked list: 12 -> 10 -> 2 -> 4 -> 6\n",
    "list2_head = ListNode(12)\n",
    "list2_head.next = ListNode(10)\n",
    "list2_head.next.next = ListNode(2)\n",
    "list2_head.next.next.next = ListNode(4)\n",
    "list2_head.next.next.next.next = ListNode(6)\n",
    "\n",
    "# Merge the second list into the first list\n",
    "merged_head = mergeLists(list1_head, list2_head)\n",
    "\n",
    "# Print the modified first list\n",
    "current = merged_head\n",
    "while current is not None:\n",
    "    print(current.val, end=\" \")\n",
    "    current = current.next\n",
    "\n",
    "# Output: 5 12 7 10 17 2 13 4 11 6"
   ]
  },
  {
   "cell_type": "markdown",
   "id": "45c6148f-dba1-4abe-87dd-0d2f14151fc3",
   "metadata": {},
   "source": [
    "<aside>\n",
    "💡 **Question 8**\n",
    "\n",
    "Given a singly linked list, find if the linked list is [circular](https://www.geeksforgeeks.org/circular-linked-list/amp/) or not.\n",
    "\n",
    "> A linked list is called circular if it is not NULL-terminated and all nodes are connected in the form of a cycle. Below is an example of a circular linked list.\n",
    "> \n",
    "</aside>"
   ]
  },
  {
   "cell_type": "code",
   "execution_count": null,
   "id": "494560f2-5eb9-4002-be45-861ca94f640e",
   "metadata": {},
   "outputs": [],
   "source": []
  }
 ],
 "metadata": {
  "kernelspec": {
   "display_name": "Python 3 (ipykernel)",
   "language": "python",
   "name": "python3"
  },
  "language_info": {
   "codemirror_mode": {
    "name": "ipython",
    "version": 3
   },
   "file_extension": ".py",
   "mimetype": "text/x-python",
   "name": "python",
   "nbconvert_exporter": "python",
   "pygments_lexer": "ipython3",
   "version": "3.10.6"
  }
 },
 "nbformat": 4,
 "nbformat_minor": 5
}
