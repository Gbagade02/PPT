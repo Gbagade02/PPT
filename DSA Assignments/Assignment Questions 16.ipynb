{
 "cells": [
  {
   "cell_type": "markdown",
   "id": "573be674-32aa-47e3-bd8d-9f2668e32468",
   "metadata": {},
   "source": [
    "<aside>\n",
    "💡 **Question 1**\n",
    "\n",
    "Given an array, for each element find the value of the nearest element to the right which is having a frequency greater than that of the current element. If there does not exist an answer for a position, then make the value ‘-1’.\n",
    "\n",
    "</aside>"
   ]
  },
  {
   "cell_type": "code",
   "execution_count": 15,
   "id": "12871f16-369c-4671-b0fd-6cf92b7059fd",
   "metadata": {},
   "outputs": [
    {
     "name": "stdout",
     "output_type": "stream",
     "text": [
      "[-1, -1, 1, 2, 2, 1, -1]\n"
     ]
    }
   ],
   "source": [
    "def NFG(a, n):\n",
    " \n",
    "    if (n <= 0):\n",
    "        print(\"List empty\")\n",
    "        return []\n",
    " \n",
    "    # stack data structure to store the position\n",
    "    # of array element\n",
    "    stack = [0]*n\n",
    " \n",
    "    # freq is a dictionary which maintains the\n",
    "    # frequency of each element\n",
    "    freq = {}\n",
    "    for i in a:\n",
    "        freq[a[i]] = 0\n",
    "    for i in a:\n",
    "        freq[a[i]] += 1\n",
    " \n",
    "    # res to store the value of next greater\n",
    "    # frequency element for each element\n",
    "    res = [0]*n\n",
    " \n",
    "    # initialize top of stack to -1\n",
    "    top = -1\n",
    " \n",
    "    # push the first position of array in the stack\n",
    "    top += 1\n",
    "    stack[top] = 0\n",
    " \n",
    "    # now iterate for the rest of elements\n",
    "    for i in range(1, n):\n",
    " \n",
    "        ''' If the frequency of the element which is\n",
    "            pointed by the top of stack is greater\n",
    "            than frequency of the current element\n",
    "            then push the current position i in stack'''\n",
    "        if (freq[a[stack[top]]] > freq[a[i]]):\n",
    "            top += 1\n",
    "            stack[top] = i\n",
    " \n",
    "        else:\n",
    "            ''' If the frequency of the element which\n",
    "            is pointed by the top of stack is less\n",
    "            than frequency of the current element, then\n",
    "            pop the stack and continuing popping until\n",
    "            the above condition is true while the stack\n",
    "            is not empty'''\n",
    " \n",
    "            while (top > -1 and freq[a[stack[top]]] < freq[a[i]]):\n",
    "                res[stack[top]] = a[i]\n",
    "                top -= 1\n",
    " \n",
    "            # now push the current element\n",
    "            top += 1\n",
    "            stack[top] = i\n",
    " \n",
    "    '''After iterating over the loop, the remaining\n",
    "    position of elements in stack do not have the\n",
    "    next greater element, so print -1 for them'''\n",
    "    while (top > -1):\n",
    "        res[stack[top]] = -1\n",
    "        top -= 1\n",
    " \n",
    "    # return the res list containing next\n",
    "    # greater frequency element\n",
    "    return res\n",
    " \n",
    " \n",
    "# Driver Code\n",
    "print(NFG([1, 1, 2, 3, 4, 2, 1], 7))"
   ]
  },
  {
   "cell_type": "markdown",
   "id": "8173befd-dd35-441e-bd1b-307d51e6e38e",
   "metadata": {},
   "source": [
    "<aside>\n",
    "💡 **Question 2**\n",
    "\n",
    "Given a stack of integers, sort it in ascending order using another temporary stack\n",
    "\n",
    "</aside>"
   ]
  },
  {
   "cell_type": "code",
   "execution_count": 16,
   "id": "20b0a74b-9188-4c85-a031-35d6913b6622",
   "metadata": {},
   "outputs": [
    {
     "name": "stdout",
     "output_type": "stream",
     "text": [
      "[9, 7, 5, 4, 2, 1]\n"
     ]
    }
   ],
   "source": [
    "def sortStack(stack):\n",
    "    temp_stack = []\n",
    "\n",
    "    while stack:\n",
    "        temp = stack.pop()\n",
    "\n",
    "        while temp_stack and temp_stack[-1] > temp:\n",
    "            stack.append(temp_stack.pop())\n",
    "\n",
    "        temp_stack.append(temp)\n",
    "\n",
    "    while temp_stack:\n",
    "        stack.append(temp_stack.pop())\n",
    "\n",
    "    return stack\n",
    "\n",
    "stack = [4, 2, 9, 7, 1, 5]\n",
    "sorted_stack = sortStack(stack)\n",
    "print(sorted_stack)"
   ]
  },
  {
   "cell_type": "markdown",
   "id": "e582b351-6ac0-40d9-adbf-398d9750e854",
   "metadata": {},
   "source": [
    "Given a stack with push(), pop(), and empty() operations, The task is to delete the middle element of it without using any additional data structure."
   ]
  },
  {
   "cell_type": "code",
   "execution_count": 20,
   "id": "096c627b-79fc-4a45-bf34-5b0ecc7ed05c",
   "metadata": {},
   "outputs": [
    {
     "name": "stdout",
     "output_type": "stream",
     "text": [
      "7  \n",
      "6  \n",
      "5  \n",
      "3  \n",
      "2  \n",
      "1  \n"
     ]
    }
   ],
   "source": [
    "def deleteMid(st):\n",
    "    n = len(st)\n",
    "    tempSt = []\n",
    "    count = 0\n",
    " \n",
    "    # Put first n/2 element of st in tempSt\n",
    "    while (count < (n / 2)-1):\n",
    "        c = st[0]\n",
    "        st.pop(0)\n",
    "        tempSt.insert(0, c)\n",
    "        count = count+1\n",
    " \n",
    "    # Delete middle element\n",
    "    st.pop(0)\n",
    " \n",
    "    # Put all (n/2) element of tempSt in st\n",
    "    while (len(tempSt) != 0):\n",
    "        st.insert(0, tempSt[0])\n",
    "        tempSt.pop(0)\n",
    " \n",
    " \n",
    "# Driver Code\n",
    "st = []\n",
    " \n",
    "# insert elements into the stack\n",
    "st.insert(0, 1)\n",
    "st.insert(0, 2)\n",
    "st.insert(0, 3)\n",
    "st.insert(0, 4)\n",
    "st.insert(0, 5)\n",
    "st.insert(0, 6)\n",
    "st.insert(0, 7)\n",
    "deleteMid(st)\n",
    " \n",
    "# Printing stack after deletion of middle.\n",
    "while (len(st) != 0):\n",
    "    p = st[0]\n",
    "    st.pop(0)\n",
    "    print(p, \" \")\n"
   ]
  },
  {
   "cell_type": "markdown",
   "id": "aca8fec4-7d77-4c8a-bad5-667b2b08c36b",
   "metadata": {},
   "source": [
    "<aside>\n",
    "💡 **Question 4**\n",
    "\n",
    "Given a Queue consisting of first **n** natural numbers (in random order). The task is to check whether the given Queue elements can be arranged in increasing order in another Queue using a stack. The operation allowed are:\n",
    "\n",
    "1. Push and pop elements from the stack\n",
    "2. Pop (Or Dequeue) from the given Queue.\n",
    "3. Push (Or Enqueue) in the another Queue.\n",
    "</aside>"
   ]
  },
  {
   "cell_type": "code",
   "execution_count": 1,
   "id": "f3953da6-dabf-40b9-8dba-de3a9785f8d2",
   "metadata": {},
   "outputs": [
    {
     "name": "stdout",
     "output_type": "stream",
     "text": [
      "True\n"
     ]
    }
   ],
   "source": [
    "from queue import Queue\n",
    "\n",
    "def checkQueueOrder(source):\n",
    "    n = source.qsize()\n",
    "    stack = []\n",
    "    destination = Queue()\n",
    "    expected = 1\n",
    "\n",
    "    while not source.empty():\n",
    "        if source.queue[0] == expected:\n",
    "            destination.put(source.get())\n",
    "            expected += 1\n",
    "        elif stack and stack[-1] == expected:\n",
    "            destination.put(stack.pop())\n",
    "            expected += 1\n",
    "        else:\n",
    "            stack.append(source.get())\n",
    "\n",
    "    while stack:\n",
    "        destination.put(stack.pop())\n",
    "        expected += 1\n",
    "\n",
    "    for i in range(1, n+1):\n",
    "        if destination.get() != i:\n",
    "            return False\n",
    "\n",
    "    return True\n",
    "\n",
    "# Example usage\n",
    "source = Queue()\n",
    "source.put(2)\n",
    "source.put(1)\n",
    "source.put(4)\n",
    "source.put(3)\n",
    "\n",
    "result = checkQueueOrder(source)\n",
    "print(result)  # Output: True\n"
   ]
  },
  {
   "cell_type": "markdown",
   "id": "6c0597d5-d022-4375-aa3e-a5cba1cd26be",
   "metadata": {},
   "source": [
    "Given a number , write a program to reverse this number using stack."
   ]
  },
  {
   "cell_type": "code",
   "execution_count": 2,
   "id": "7f906078-2c7b-412a-b161-827820dd0afb",
   "metadata": {},
   "outputs": [
    {
     "name": "stdout",
     "output_type": "stream",
     "text": [
      "54321\n"
     ]
    }
   ],
   "source": [
    "def reverseNumber(number):\n",
    "    stack = []\n",
    "    number_str = str(number)\n",
    "\n",
    "    # Push each digit onto the stack\n",
    "    for digit in number_str:\n",
    "        stack.append(digit)\n",
    "\n",
    "    reversed_number_str = \"\"\n",
    "\n",
    "    # Pop each digit from the stack and append it to the reversed number string\n",
    "    while stack:\n",
    "        reversed_number_str += stack.pop()\n",
    "\n",
    "    reversed_number = int(reversed_number_str)\n",
    "    return reversed_number\n",
    "\n",
    "# Example usage\n",
    "number = 12345\n",
    "reversed_number = reverseNumber(number)\n",
    "print(reversed_number)"
   ]
  },
  {
   "cell_type": "markdown",
   "id": "a54ab526-593f-43b9-a0e2-ffe6bd1505b2",
   "metadata": {},
   "source": [
    "<aside>\n",
    "💡 **Question 6**\n",
    "\n",
    "Given an integer k and a **[queue](https://www.geeksforgeeks.org/queue-data-structure/)** of integers, The task is to reverse the order of the first **k** elements of the queue, leaving the other elements in the same relative order.\n",
    "\n",
    "Only following standard operations are allowed on queue.\n",
    "\n",
    "- **enqueue(x) :** Add an item x to rear of queue\n",
    "- **dequeue() :** Remove an item from front of queue\n",
    "- **size() :** Returns number of elements in queue.\n",
    "- **front() :** Finds front item.\n",
    "</aside>"
   ]
  },
  {
   "cell_type": "code",
   "execution_count": 1,
   "id": "9033ead3-dedb-47d6-8f27-676ad0095397",
   "metadata": {},
   "outputs": [
    {
     "name": "stdout",
     "output_type": "stream",
     "text": [
      "3\n",
      "2\n",
      "1\n",
      "4\n",
      "5\n"
     ]
    }
   ],
   "source": [
    "from queue import Queue\n",
    "\n",
    "def reverseFirstK(queue, k):\n",
    "    if k <= 0 or k > queue.qsize():\n",
    "        return queue\n",
    "\n",
    "    stack = []\n",
    "    temp_queue = Queue()\n",
    "\n",
    "    # Push the first k elements onto the stack\n",
    "    for _ in range(k):\n",
    "        stack.append(queue.get())\n",
    "\n",
    "    # Enqueue the elements from the stack into the temporary queue\n",
    "    while stack:\n",
    "        temp_queue.put(stack.pop())\n",
    "\n",
    "    # Enqueue the remaining elements from the original queue into the temporary queue\n",
    "    while not queue.empty():\n",
    "        temp_queue.put(queue.get())\n",
    "\n",
    "    # Copy the elements from the temporary queue back to the original queue\n",
    "    while not temp_queue.empty():\n",
    "        queue.put(temp_queue.get())\n",
    "\n",
    "    return queue\n",
    "\n",
    "# Example usage\n",
    "queue = Queue()\n",
    "queue.put(1)\n",
    "queue.put(2)\n",
    "queue.put(3)\n",
    "queue.put(4)\n",
    "queue.put(5)\n",
    "\n",
    "k = 3\n",
    "reversed_queue = reverseFirstK(queue, k)\n",
    "\n",
    "# Print the elements of the modified queue\n",
    "while not reversed_queue.empty():\n",
    "    print(reversed_queue.get())  # Output: 3, 2, 1, 4, 5\n"
   ]
  },
  {
   "cell_type": "markdown",
   "id": "786611e8-4cdb-4dc9-9196-df095f5a356e",
   "metadata": {},
   "source": [
    "Given a sequence of n strings, the task is to check if any two similar words come together and then destroy each other then print the number of words left in the sequence after this pairwise destruction."
   ]
  },
  {
   "cell_type": "code",
   "execution_count": 2,
   "id": "0a1ad3ad-03d3-4203-8dd8-8b10361d18b5",
   "metadata": {},
   "outputs": [
    {
     "name": "stdout",
     "output_type": "stream",
     "text": [
      "3\n"
     ]
    }
   ],
   "source": [
    "def countRemainingWords(words):\n",
    "    stack = []\n",
    "\n",
    "    for word in words:\n",
    "        if not stack:\n",
    "            stack.append(word)\n",
    "        elif word == stack[-1]:\n",
    "            stack.pop()\n",
    "        else:\n",
    "            stack.append(word)\n",
    "\n",
    "    remaining_words = len(stack)\n",
    "    return remaining_words\n",
    "\n",
    "# Example usage\n",
    "word_sequence = [\"hello\", \"world\", \"world\", \"destroy\", \"hello\"]\n",
    "remaining_count = countRemainingWords(word_sequence)\n",
    "print(remaining_count)  # Output: 1"
   ]
  },
  {
   "cell_type": "code",
   "execution_count": null,
   "id": "9d2c3fb1-3d23-4bb9-99d2-7a8c227bf351",
   "metadata": {},
   "outputs": [],
   "source": []
  }
 ],
 "metadata": {
  "kernelspec": {
   "display_name": "Python 3 (ipykernel)",
   "language": "python",
   "name": "python3"
  },
  "language_info": {
   "codemirror_mode": {
    "name": "ipython",
    "version": 3
   },
   "file_extension": ".py",
   "mimetype": "text/x-python",
   "name": "python",
   "nbconvert_exporter": "python",
   "pygments_lexer": "ipython3",
   "version": "3.10.6"
  }
 },
 "nbformat": 4,
 "nbformat_minor": 5
}
