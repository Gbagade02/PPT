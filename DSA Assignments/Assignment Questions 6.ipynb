{
 "cells": [
  {
   "cell_type": "markdown",
   "id": "30f7cfb8-abfc-4a61-9fe2-58681ac2d237",
   "metadata": {},
   "source": [
    "<aside>\n",
    "💡 **Question 2**\n",
    "\n",
    "You are given an m x n integer matrix matrix with the following two properties:\n",
    "\n",
    "- Each row is sorted in non-decreasing order.\n",
    "- The first integer of each row is greater than the last integer of the previous row.\n",
    "\n",
    "Given an integer target, return true *if* target *is in* matrix *or* false *otherwise*.\n",
    "\n",
    "You must write a solution in O(log(m * n)) time complexity.\n",
    "\n",
    "</aside>"
   ]
  },
  {
   "cell_type": "code",
   "execution_count": 1,
   "id": "419719a6-b2f7-416a-b49e-6fc7be4ef7d1",
   "metadata": {},
   "outputs": [
    {
     "name": "stdout",
     "output_type": "stream",
     "text": [
      "True\n"
     ]
    }
   ],
   "source": [
    "def find_in_sorted_matrix(matrix, target):  \n",
    "    start = 0\n",
    "    end = len(matrix) * len(matrix[0]) - 1\n",
    "\n",
    "    while start <= end:\n",
    "        mid = (start + end) // 2\n",
    "\n",
    "        row = mid // len(matrix[0])\n",
    "        col = mid % len(matrix[0])\n",
    "\n",
    "        if matrix[row][col] == target:\n",
    "            return True\n",
    "        elif matrix[row][col] < target:\n",
    "            start = mid + 1\n",
    "        else:\n",
    "            end = mid - 1\n",
    "\n",
    "    return False\n",
    "\n",
    "# Driver Code\n",
    "matrix = [[1,3,5,7],[10,11,16,20],[23,30,34,60]]\n",
    "target = 3\n",
    "print(find_in_sorted_matrix(matrix, target))"
   ]
  },
  {
   "cell_type": "markdown",
   "id": "8a8e1d0f-631e-4866-ad92-55314f0c4242",
   "metadata": {},
   "source": [
    "<aside>\n",
    "💡 **Question 4**\n",
    "\n",
    "Given a binary array nums, return *the maximum length of a contiguous subarray with an equal number of* 0 *and* 1.\n",
    "\n",
    "**Example 1:**\n",
    "\n",
    "**Input:** nums = [0,1]\n",
    "\n",
    "**Output:** 2\n",
    "\n",
    "**Explanation:**\n",
    "\n",
    "[0, 1] is the longest contiguous subarray with an equal number of 0 and 1.\n",
    "\n",
    "</aside>"
   ]
  },
  {
   "cell_type": "code",
   "execution_count": 1,
   "id": "a6794b6f-cbb9-4c7c-a253-74bb87f4a3fa",
   "metadata": {},
   "outputs": [
    {
     "name": "stdout",
     "output_type": "stream",
     "text": [
      "1\n"
     ]
    }
   ],
   "source": [
    "def max_len_subarray_with_equal_0_and_1(nums):\n",
    "    start = 0\n",
    "    end = 0\n",
    "    count_0 = 0\n",
    "    count_1 = 0\n",
    "    max_len = 0\n",
    "    \n",
    "    while end < len(nums):\n",
    "        if nums[end] == 0:\n",
    "            count_0 += 1\n",
    "        else:\n",
    "            count_1 += 1\n",
    "            \n",
    "        while count_0 > count_1:\n",
    "            if nums[start] == 0:\n",
    "                count_0 -= 1\n",
    "            else:\n",
    "                count_1 -= 1\n",
    "            start += 1\n",
    "        \n",
    "        max_len = max(max_len, end - start + 1)\n",
    "        end += 1\n",
    "\n",
    "    return max_len\n",
    "\n",
    "# Driver Code\n",
    "nums = [0,1]\n",
    "print(max_len_subarray_with_equal_0_and_1(nums))"
   ]
  },
  {
   "cell_type": "code",
   "execution_count": null,
   "id": "26a22d15-34e5-4695-9361-c4985d44aeda",
   "metadata": {},
   "outputs": [],
   "source": []
  }
 ],
 "metadata": {
  "kernelspec": {
   "display_name": "Python 3 (ipykernel)",
   "language": "python",
   "name": "python3"
  },
  "language_info": {
   "codemirror_mode": {
    "name": "ipython",
    "version": 3
   },
   "file_extension": ".py",
   "mimetype": "text/x-python",
   "name": "python",
   "nbconvert_exporter": "python",
   "pygments_lexer": "ipython3",
   "version": "3.10.6"
  }
 },
 "nbformat": 4,
 "nbformat_minor": 5
}
