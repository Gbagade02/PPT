{
 "cells": [
  {
   "cell_type": "markdown",
   "id": "53ab4072-fd9c-43d2-bdb2-bbb9d0695109",
   "metadata": {},
   "source": [
    "<aside>\n",
    "💡 **Question 1**\n",
    "\n",
    "Given an array **arr[ ]** of size **N** having elements, the task is to find the next greater element for each element of the array in order of their appearance in the array.Next greater element of an element in the array is the nearest element on the right which is greater than the current element.If there does not exist next greater of current element, then next greater element for current element is -1. For example, next greater of the last element is always -1.\n",
    "\n",
    "</aside>"
   ]
  },
  {
   "cell_type": "code",
   "execution_count": 1,
   "id": "b0eb69d9-ade0-4af1-b1cb-6a2710a1ef39",
   "metadata": {},
   "outputs": [
    {
     "name": "stdout",
     "output_type": "stream",
     "text": [
      "[5, 25, 25, 35, 35, -1, -1]\n"
     ]
    }
   ],
   "source": [
    "def find_next_greater_elements(arr):\n",
    "    stack = []\n",
    "    result = [-1] * len(arr)\n",
    "    \n",
    "    for i in range(len(arr) - 1, -1, -1):\n",
    "        while stack and stack[-1] <= arr[i]:\n",
    "            stack.pop()\n",
    "        \n",
    "        if stack:\n",
    "            result[i] = stack[-1]\n",
    "            \n",
    "        stack.append(arr[i])\n",
    "        \n",
    "        \n",
    "    return result\n",
    "\n",
    "# Driver Code\n",
    "arr = [4, 5, 2, 25, 7, 35, 14]\n",
    "next_greater = find_next_greater_elements(arr)\n",
    "print(next_greater)  "
   ]
  },
  {
   "cell_type": "markdown",
   "id": "f2773466-ced3-4a9b-9d78-77cbab8aecb1",
   "metadata": {},
   "source": [
    "<aside>\n",
    "💡 **Question 2**\n",
    "\n",
    "Given an array **a** of integers of length **n**, find the nearest smaller number for every element such that the smaller element is on left side.If no small element present on the left print -1.\n",
    "\n",
    "</aside>"
   ]
  },
  {
   "cell_type": "code",
   "execution_count": 2,
   "id": "d9787135-a34e-4b68-80f7-e6d43c12ef97",
   "metadata": {},
   "outputs": [
    {
     "name": "stdout",
     "output_type": "stream",
     "text": [
      "[-1, 4, -1, 2, 2, 7, 7]\n"
     ]
    }
   ],
   "source": [
    "def find_nearest_smaller_elements(arr):\n",
    "    stack = []\n",
    "    result = [-1] * len(arr)\n",
    "\n",
    "    for i in range(len(arr)):\n",
    "        while stack and stack[-1] >= arr[i]:\n",
    "            stack.pop()\n",
    "\n",
    "        if stack:\n",
    "            result[i] = stack[-1]\n",
    "\n",
    "        stack.append(arr[i])\n",
    "\n",
    "    return result\n",
    "\n",
    "arr = [4, 5, 2, 25, 7, 35, 14]\n",
    "nearest_smaller = find_nearest_smaller_elements(arr)\n",
    "print(nearest_smaller)"
   ]
  },
  {
   "cell_type": "markdown",
   "id": "d4f7ec9e-0e96-48d2-b8f3-b60549017491",
   "metadata": {},
   "source": [
    "<aside>\n",
    "💡 **Question 3**\n",
    "\n",
    "Implement a Stack using two queues **q1** and **q2**.\n",
    "\n",
    "</aside>"
   ]
  },
  {
   "cell_type": "code",
   "execution_count": 3,
   "id": "d19765c5-45b0-4d9c-a49f-ed0a9ff4149e",
   "metadata": {},
   "outputs": [
    {
     "name": "stdout",
     "output_type": "stream",
     "text": [
      "3\n",
      "2\n",
      "False\n",
      "True\n"
     ]
    }
   ],
   "source": [
    "class StackUsingQueues:\n",
    "    def __init__(self):\n",
    "        self.q1 = []\n",
    "        self.q2 = []\n",
    "\n",
    "    def push(self, element):\n",
    "        self.q2.append(element)\n",
    "        while self.q1:\n",
    "            self.q2.append(self.q1.pop(0))\n",
    "        self.q1, self.q2 = self.q2, self.q1\n",
    "\n",
    "    def pop(self):\n",
    "        if not self.q1:\n",
    "            raise Exception(\"Stack is empty\")\n",
    "        return self.q1.pop(0)\n",
    "\n",
    "    def top(self):\n",
    "        if not self.q1:\n",
    "            raise Exception(\"Stack is empty\")\n",
    "        return self.q1[0]\n",
    "\n",
    "    def isEmpty(self):\n",
    "        return len(self.q1) == 0\n",
    "    \n",
    "stack = StackUsingQueues()\n",
    "stack.push(1)\n",
    "stack.push(2)\n",
    "stack.push(3)\n",
    "print(stack.pop())  # Output: 3\n",
    "print(stack.top())  # Output: 2\n",
    "print(stack.isEmpty())  # Output: False\n",
    "stack.pop()\n",
    "stack.pop()\n",
    "print(stack.isEmpty()) "
   ]
  },
  {
   "cell_type": "markdown",
   "id": "e87e554f-a467-4c0f-9a22-c505fb485af4",
   "metadata": {},
   "source": [
    "<aside>\n",
    "💡 **Question 4**\n",
    "\n",
    "You are given a stack **St**. You have to reverse the stack using recursion.\n",
    "\n",
    "</aside>"
   ]
  },
  {
   "cell_type": "code",
   "execution_count": 4,
   "id": "b096d411-938f-4d06-8ddb-8a70b9a31804",
   "metadata": {},
   "outputs": [
    {
     "name": "stdout",
     "output_type": "stream",
     "text": [
      "[1, 2, 3, 4, 5]\n"
     ]
    }
   ],
   "source": [
    "def reverseStack(stack):\n",
    "    if len(stack) <= 1:\n",
    "        return stack\n",
    "\n",
    "    top_element = stack.pop()\n",
    "    reversed_stack = reverseStack(stack)\n",
    "    reversed_stack.append(top_element)\n",
    "    return reversed_stack\n",
    "\n",
    "\n",
    "stack = [1, 2, 3, 4, 5]\n",
    "reversed_stack = reverseStack(stack)\n",
    "print(reversed_stack)"
   ]
  },
  {
   "cell_type": "markdown",
   "id": "8284565f-a998-4a81-ac64-f9f47e5f1171",
   "metadata": {},
   "source": [
    "<aside>\n",
    "💡 **Question 5**\n",
    "\n",
    "You are given a string **S**, the task is to reverse the string using stack.\n",
    "\n",
    "</aside>"
   ]
  },
  {
   "cell_type": "code",
   "execution_count": 5,
   "id": "b2c9b16e-3f2f-4869-8fe1-eb6b11a28cf6",
   "metadata": {},
   "outputs": [
    {
     "name": "stdout",
     "output_type": "stream",
     "text": [
      "!dlroW ,olleH\n"
     ]
    }
   ],
   "source": [
    "def reverseString(s):\n",
    "    stack = []\n",
    "    for char in s:\n",
    "        stack.append(char)\n",
    "\n",
    "    reversed_string = \"\"\n",
    "    while stack:\n",
    "        reversed_string += stack.pop()\n",
    "\n",
    "    return reversed_string\n",
    "\n",
    "s = \"Hello, World!\"\n",
    "reversed_string = reverseString(s)\n",
    "print(reversed_string)"
   ]
  },
  {
   "cell_type": "markdown",
   "id": "a28d4305-9a84-4342-bce1-40c22edd81b4",
   "metadata": {},
   "source": [
    "<aside>\n",
    "💡 **Question 6**\n",
    "\n",
    "Given string **S** representing a postfix expression, the task is to evaluate the expression and find the final value. Operators will only include the basic arithmetic operators like ***, /, + and -**.\n",
    "\n",
    "</aside>"
   ]
  },
  {
   "cell_type": "code",
   "execution_count": 6,
   "id": "f22abeaf-2354-4703-bdf2-f713818b65d6",
   "metadata": {},
   "outputs": [
    {
     "name": "stdout",
     "output_type": "stream",
     "text": [
      "39.0\n"
     ]
    }
   ],
   "source": [
    "def evaluatePostfixExpression(expression):\n",
    "    stack = []\n",
    "\n",
    "    for char in expression:\n",
    "        if char.isdigit():\n",
    "            stack.append(int(char))\n",
    "        else:\n",
    "            operand2 = stack.pop()\n",
    "            operand1 = stack.pop()\n",
    "            result = performOperation(operand1, operand2, char)\n",
    "            stack.append(result)\n",
    "\n",
    "    return stack.pop()\n",
    "\n",
    "def performOperation(operand1, operand2, operator):\n",
    "    if operator == '+':\n",
    "        return operand1 + operand2\n",
    "    elif operator == '-':\n",
    "        return operand1 - operand2\n",
    "    elif operator == '*':\n",
    "        return operand1 * operand2\n",
    "    elif operator == '/':\n",
    "        return operand1 / operand2\n",
    "    \n",
    "expression = \"53+62/*35*+\"\n",
    "result = evaluatePostfixExpression(expression)\n",
    "print(result)"
   ]
  },
  {
   "cell_type": "markdown",
   "id": "c9a747b3-424b-4cd0-87df-3c38ebc4d73d",
   "metadata": {},
   "source": [
    "<aside>\n",
    "💡 **Question 7**\n",
    "\n",
    "Design a stack that supports push, pop, top, and retrieving the minimum element in constant time.\n",
    "\n",
    "Implement the `MinStack` class:\n",
    "\n",
    "- `MinStack()` initializes the stack object.\n",
    "- `void push(int val)` pushes the element `val` onto the stack.\n",
    "- `void pop()` removes the element on the top of the stack.\n",
    "- `int top()` gets the top element of the stack.\n",
    "- `int getMin()` retrieves the minimum element in the stack.\n",
    "\n",
    "You must implement a solution with `O(1)` time complexity for each function.\n",
    "\n",
    "</aside>"
   ]
  },
  {
   "cell_type": "code",
   "execution_count": 7,
   "id": "d5f4e765-3f63-4a7b-8f29-67bab2645549",
   "metadata": {},
   "outputs": [],
   "source": [
    "class MinStack:\n",
    "    def __init__(self):\n",
    "        self.stack = []\n",
    "        self.min_stack = []\n",
    "\n",
    "    def push(self, val):\n",
    "        self.stack.append(val)\n",
    "        if not self.min_stack or val <= self.min_stack[-1]:\n",
    "            self.min_stack.append(val)\n",
    "\n",
    "    def pop(self):\n",
    "        if self.stack[-1] == self.min_stack[-1]:\n",
    "            self.min_stack.pop()\n",
    "        self.stack.pop()\n",
    "\n",
    "    def top(self):\n",
    "        return self.stack[-1]\n",
    "\n",
    "    def getMin(self):\n",
    "        return self.min_stack[-1]"
   ]
  },
  {
   "cell_type": "markdown",
   "id": "678297fb-8e0f-4574-a3ef-fbc61fd7bfb7",
   "metadata": {},
   "source": [
    "<aside>\n",
    "💡 **Question 8**\n",
    "\n",
    "Given `n` non-negative integers representing an elevation map where the width of each bar is `1`, compute how much water it can trap after raining.\n",
    "\n",
    "</aside>"
   ]
  },
  {
   "cell_type": "code",
   "execution_count": 8,
   "id": "256995ba-7815-4b15-b5a6-bfa971bb4c92",
   "metadata": {},
   "outputs": [
    {
     "name": "stdout",
     "output_type": "stream",
     "text": [
      "6\n"
     ]
    }
   ],
   "source": [
    "def trap(height):\n",
    "    left = 0\n",
    "    right = len(height) - 1\n",
    "    left_max = right_max = water_trapped = 0\n",
    "\n",
    "    while left <= right:\n",
    "        if height[left] <= height[right]:\n",
    "            left_max = max(left_max, height[left])\n",
    "            water_trapped += left_max - height[left]\n",
    "            left += 1\n",
    "        else:\n",
    "            right_max = max(right_max, height[right])\n",
    "            water_trapped += right_max - height[right]\n",
    "            right -= 1\n",
    "\n",
    "    return water_trapped\n",
    "\n",
    "elevation_map = [0, 1, 0, 2, 1, 0, 1, 3, 2, 1, 2, 1]\n",
    "water_trapped = trap(elevation_map)\n",
    "print(water_trapped)"
   ]
  },
  {
   "cell_type": "code",
   "execution_count": null,
   "id": "d2bae99e-03ca-4f77-883f-deb23b0777d2",
   "metadata": {},
   "outputs": [],
   "source": []
  }
 ],
 "metadata": {
  "kernelspec": {
   "display_name": "Python 3 (ipykernel)",
   "language": "python",
   "name": "python3"
  },
  "language_info": {
   "codemirror_mode": {
    "name": "ipython",
    "version": 3
   },
   "file_extension": ".py",
   "mimetype": "text/x-python",
   "name": "python",
   "nbconvert_exporter": "python",
   "pygments_lexer": "ipython3",
   "version": "3.10.6"
  }
 },
 "nbformat": 4,
 "nbformat_minor": 5
}
