{
 "cells": [
  {
   "cell_type": "markdown",
   "id": "72640162-7a9d-4c01-9722-4d56549c93d1",
   "metadata": {},
   "source": [
    "Given a linked list of **N** nodes such that it may contain a loop.\n",
    "\n",
    "A loop here means that the last node of the link list is connected to the node at position X(1-based index). If the link list does not have any loop, X=0.\n",
    "\n",
    "Remove the loop from the linked list, if it is present, i.e. unlink the last node which is forming the loop."
   ]
  },
  {
   "cell_type": "code",
   "execution_count": 1,
   "id": "fc49278f-8c6f-458f-b4e2-f2ebb2c8cae1",
   "metadata": {},
   "outputs": [
    {
     "name": "stdout",
     "output_type": "stream",
     "text": [
      "1->2->3->4->"
     ]
    }
   ],
   "source": [
    "class Node:\n",
    "    def __init__(self, data=None):\n",
    "        self.data = data\n",
    "        self.next = None\n",
    "\n",
    "def detect_and_remove_loop(head):\n",
    "    slow = head\n",
    "    fast = head\n",
    "\n",
    "    # Detect the loop\n",
    "    while fast and fast.next:\n",
    "        slow = slow.next\n",
    "        fast = fast.next.next\n",
    "        if slow == fast:  # Loop detected\n",
    "            break\n",
    "\n",
    "    if not fast or not fast.next:\n",
    "        # No loop present\n",
    "        return head\n",
    "\n",
    "    # Find the start of the loop\n",
    "    slow = head\n",
    "    while slow != fast:\n",
    "        slow = slow.next\n",
    "        fast = fast.next\n",
    "\n",
    "    # Find the node before the start of the loop\n",
    "    while fast.next != slow:\n",
    "        fast = fast.next\n",
    "\n",
    "    # Remove the loop\n",
    "    fast.next = None\n",
    "\n",
    "    return head\n",
    "\n",
    "\n",
    "# Create the linked list with a loop\n",
    "head = Node(1)\n",
    "head.next = Node(2)\n",
    "head.next.next = Node(3)\n",
    "head.next.next.next = Node(4)\n",
    "head.next.next.next.next = head.next  # Loop at position X=2\n",
    "\n",
    "# Detect and remove the loop\n",
    "new_head = detect_and_remove_loop(head)\n",
    "\n",
    "# Print the modified list\n",
    "current = new_head\n",
    "while current:\n",
    "    print(current.data, end=\"->\")\n",
    "    current = current.next"
   ]
  },
  {
   "cell_type": "markdown",
   "id": "a61a8c68-b1e4-463c-8c37-66911cdbaaa1",
   "metadata": {},
   "source": [
    "<aside>\n",
    "💡 **Question 2**\n",
    "\n",
    "A number **N** is represented in Linked List such that each digit corresponds to a node in linked list. You need to add 1 to it.\n",
    "\n",
    "</aside>"
   ]
  },
  {
   "cell_type": "code",
   "execution_count": 2,
   "id": "62149c17-5291-434c-be30-b5919b83e68a",
   "metadata": {},
   "outputs": [
    {
     "name": "stdout",
     "output_type": "stream",
     "text": [
      "457"
     ]
    }
   ],
   "source": [
    "class Node:\n",
    "    def __init__(self, data=None):\n",
    "        self.data = data\n",
    "        self.next = None\n",
    "\n",
    "def add_one(head):\n",
    "    if not head:\n",
    "        return Node(1)  # Edge case: Empty list, return new node with value 1\n",
    "\n",
    "    # Traverse to the rightmost non-9 node\n",
    "    current = head\n",
    "    last_non_nine = None\n",
    "    while current:\n",
    "        if current.data != 9:\n",
    "            last_non_nine = current\n",
    "        current = current.next\n",
    "\n",
    "    if last_non_nine:\n",
    "        # Increment the value of the last non-9 node by 1\n",
    "        last_non_nine.data += 1\n",
    "        current = last_non_nine.next\n",
    "        # Set all subsequent nodes to 0\n",
    "        while current:\n",
    "            current.data = 0\n",
    "            current = current.next\n",
    "    else:\n",
    "        # All nodes are 9, create a new node with value 1\n",
    "        new_node = Node(1)\n",
    "        new_node.next = head\n",
    "        head = new_node\n",
    "\n",
    "    return head\n",
    "\n",
    "# Create the linked list\n",
    "head = Node(4)\n",
    "head.next = Node(5)\n",
    "head.next.next = Node(6)\n",
    "\n",
    "# Add 1 to the linked list\n",
    "new_head = add_one(head)\n",
    "\n",
    "# Print the modified list\n",
    "current = new_head\n",
    "while current:\n",
    "    print(current.data, end=\"\")\n",
    "    current = current.next"
   ]
  },
  {
   "cell_type": "markdown",
   "id": "c5081594-2aa2-4bbb-80d4-753b1b00eee9",
   "metadata": {},
   "source": [
    "<aside>\n",
    "💡 **Question 3**\n",
    "\n",
    "Given a Linked List of size N, where every node represents a sub-linked-list and contains two pointers:(i) a **next** pointer to the next node,(ii) a **bottom** pointer to a linked list where this node is head.Each of the sub-linked-list is in sorted order.Flatten the Link List such that all the nodes appear in a single level while maintaining the sorted order. **Note:** The flattened list will be printed using the bottom pointer instead of next pointer.\n",
    "\n",
    "</aside>"
   ]
  }
 ],
 "metadata": {
  "kernelspec": {
   "display_name": "Python 3 (ipykernel)",
   "language": "python",
   "name": "python3"
  },
  "language_info": {
   "codemirror_mode": {
    "name": "ipython",
    "version": 3
   },
   "file_extension": ".py",
   "mimetype": "text/x-python",
   "name": "python",
   "nbconvert_exporter": "python",
   "pygments_lexer": "ipython3",
   "version": "3.10.6"
  }
 },
 "nbformat": 4,
 "nbformat_minor": 5
}
