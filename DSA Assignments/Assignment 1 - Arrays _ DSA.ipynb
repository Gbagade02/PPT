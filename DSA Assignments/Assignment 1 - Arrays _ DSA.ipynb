{
 "cells": [
  {
   "cell_type": "markdown",
   "id": "925e8fc2-8ed7-4df8-9271-64e09a3959b7",
   "metadata": {},
   "source": [
    " **Q1.** Given an array of integers nums and an integer target, return indices of the two numbers such that they add up to target.\n",
    "\n",
    "You may assume that each input would have exactly one solution, and you may not use the same element twice.\n",
    "\n",
    "You can return the answer in any order.\n",
    "\n",
    "**Example:**\n",
    "Input: nums = [2,7,11,15], target = 9\n",
    "Output0 [0,1]\n",
    "\n",
    "**Explanation:** Because nums[0] + nums[1] == 9, we return [0, 1][\n"
   ]
  },
  {
   "cell_type": "code",
   "execution_count": 5,
   "id": "4b83f05a-6c65-4a5f-9171-4fe34d04fe36",
   "metadata": {},
   "outputs": [
    {
     "name": "stdout",
     "output_type": "stream",
     "text": [
      "[0, 1]\n"
     ]
    }
   ],
   "source": [
    "def two_sum(nums, target):\n",
    "    nums_dict = {}\n",
    "    \n",
    "    for i, num in enumerate(nums):\n",
    "        \n",
    "        remaining = target - num\n",
    "        \n",
    "        if remaining in nums_dict:\n",
    "            return [nums_dict[remaining], i]\n",
    "\n",
    "        nums_dict[num] = i \n",
    "\n",
    "\n",
    "\n",
    "nums = [2,7,11,15]\n",
    "target = 9\n",
    "result = two_sum(nums, target)\n",
    "print(result)"
   ]
  },
  {
   "cell_type": "markdown",
   "id": "33e869c4-9686-46f7-9358-b699d8fab627",
   "metadata": {},
   "source": [
    "**Q2.** Given an integer array nums and an integer val, remove all occurrences of val in nums in-place. The order of the elements may be changed. Then return the number of elements in nums which are not equal to val.\n",
    "\n",
    "Consider the number of elements in nums which are not equal to val be k, to get accepted, you need to do the following things:\n",
    "\n",
    "- Change the array nums such that the first k elements of nums contain the elements which are not equal to val. The remaining elements of nums are not important as well as the size of nums.\n",
    "- Return k.\n",
    "\n",
    "**Example :**\n",
    "Input: nums = [3,2,2,3], val = 3\n",
    "Output: 2, nums = [2,2,_*,_*]\n",
    "\n",
    "**Explanation:** Your function should return k = 2, with the first two elements of nums being 2. It does not matter what you leave beyond the returned k (hence they are underscores)\n"
   ]
  },
  {
   "cell_type": "code",
   "execution_count": 9,
   "id": "d2139ba9-1631-4c02-a73a-6f2de607f3d0",
   "metadata": {},
   "outputs": [
    {
     "name": "stdout",
     "output_type": "stream",
     "text": [
      "Output:  2\n",
      "nums =  [2, 2, '*', '*']\n"
     ]
    }
   ],
   "source": [
    "def rm_element(nums, val):\n",
    "    result = 0\n",
    "    \n",
    "    for i in range(len(nums)):\n",
    "        if nums[i] != val:\n",
    "            nums[result] = nums[i]\n",
    "            result = result+1\n",
    "    return result\n",
    "\n",
    "\n",
    "nums = [3,2,2,3]\n",
    "val = 3\n",
    "result = rm_element(nums, val)\n",
    "print(\"Output: \", result)\n",
    "print(\"nums = \",  nums[:result] + ['*'] * (len(nums) - result))"
   ]
  },
  {
   "cell_type": "markdown",
   "id": "e2f40b7c-8190-4da2-a9e9-6be41660f0a7",
   "metadata": {},
   "source": [
    "**Q3.** Given a sorted array of distinct integers and a target value, return the index if the target is found. If not, return the index where it would be if it were inserted in order.\n",
    "\n",
    "You must write an algorithm with O(log n) runtime complexity.\n",
    "\n",
    "**Example 1:**\n",
    "Input: nums = [1,3,5,6], target = 5\n",
    "\n",
    "Output: 2"
   ]
  },
  {
   "cell_type": "code",
   "execution_count": 12,
   "id": "a267e671-d824-4056-a6e2-89d2332a2e8a",
   "metadata": {},
   "outputs": [
    {
     "name": "stdout",
     "output_type": "stream",
     "text": [
      "Output: 2\n"
     ]
    }
   ],
   "source": [
    "def search_insert(nums, target):\n",
    "    left = 0\n",
    "    right = len(nums) -1\n",
    "    \n",
    "    while left <= right:\n",
    "        mid = left + (right - left) // 2\n",
    "        \n",
    "        if nums[mid] == target:\n",
    "            return mid\n",
    "        if nums[mid] < target:\n",
    "            left = mid+1\n",
    "        else:\n",
    "            right = mid -1\n",
    "    \n",
    "    return left\n",
    "            \n",
    "nums = [1,3,5,6]\n",
    "target = 5\n",
    "result = search_insert(nums, target)\n",
    "print(\"Output:\", result)"
   ]
  },
  {
   "cell_type": "markdown",
   "id": "a87cffec-4937-4d92-ae3d-890e855eccdc",
   "metadata": {},
   "source": [
    " **Q4.** You are given a large integer represented as an integer array digits, where each digits[i] is the ith digit of the integer. The digits are ordered from most significant to least significant in left-to-right order. The large integer does not contain any leading 0's.\n",
    "\n",
    "Increment the large integer by one and return the resulting array of digits.\n",
    "\n",
    "**Example 1:**\n",
    "Input: digits = [1,2,3]\n",
    "Output: [1,2,4]\n",
    "\n",
    "**Explanation:** The array represents the integer 123.\n",
    "\n",
    "Incrementing by one gives 123 + 1 = 124.\n",
    "Thus, the result should be [1,2,4]."
   ]
  },
  {
   "cell_type": "code",
   "execution_count": 18,
   "id": "436fc065-a598-4143-87ad-a6ef0c5086c3",
   "metadata": {},
   "outputs": [
    {
     "name": "stdout",
     "output_type": "stream",
     "text": [
      "Output:  [1, 2, 3, 4, 6]\n"
     ]
    }
   ],
   "source": [
    "def plus_one(nums):\n",
    "    k = len(nums)\n",
    "    nums[k-1] = nums[k-1] + 1\n",
    "    return nums\n",
    "\n",
    "nums = [1,2,3,4,5]\n",
    "result = plus_one(nums)\n",
    "print(\"Output: \", result)"
   ]
  },
  {
   "cell_type": "markdown",
   "id": "7eff38ee-8e9a-452a-b68d-abe12bf16668",
   "metadata": {},
   "source": [
    " **Q5.** You are given two integer arrays nums1 and nums2, sorted in non-decreasing order, and two integers m and n, representing the number of elements in nums1 and nums2 respectively.\n",
    "\n",
    "Merge nums1 and nums2 into a single array sorted in non-decreasing order.\n",
    "\n",
    "The final sorted array should not be returned by the function, but instead be stored inside the array nums1. To accommodate this, nums1 has a length of m + n, where the first m elements denote the elements that should be merged, and the last n elements are set to 0 and should be ignored. nums2 has a length of n.\n",
    "\n",
    "**Example 1:**\n",
    "Input: nums1 = [1,2,3,0,0,0], m = 3, nums2 = [2,5,6], n = 3\n",
    "Output: [1,2,2,3,5,6]\n",
    "\n",
    "**Explanation:** The arrays we are merging are [1,2,3] and [2,5,6].\n",
    "The result of the merge is [1,2,2,3,5,6] with the underlined elements coming from nums1."
   ]
  },
  {
   "cell_type": "code",
   "execution_count": 19,
   "id": "5c0a70a7-cb74-4028-a81d-4ed36e9f0999",
   "metadata": {},
   "outputs": [
    {
     "name": "stdout",
     "output_type": "stream",
     "text": [
      "Output: [1, 2, 2, 3, 5, 6]\n"
     ]
    }
   ],
   "source": [
    "def merge(nums1, m, nums2, n):\n",
    "    p1 = m - 1\n",
    "    p2 = n - 1\n",
    "    p = m + n - 1\n",
    "    \n",
    "    while p1 >= 0 and p2 >= 0:\n",
    "        if nums1[p1] <= nums2[p2]:\n",
    "            nums1[p] = nums2[p2]\n",
    "            p2 -= 1\n",
    "        else:\n",
    "            nums1[p] = nums1[p1]\n",
    "            p1 -= 1\n",
    "        p -= 1\n",
    "\n",
    "    while p2 >= 0:\n",
    "        nums1[p] = nums2[p2]\n",
    "        p2 -= 1\n",
    "        p -= 1\n",
    "    \n",
    "    return nums1\n",
    "\n",
    "\n",
    "\n",
    "nums1 = [1, 2, 3, 0, 0, 0]\n",
    "m = 3\n",
    "nums2 = [2, 5, 6]\n",
    "n = 3\n",
    "result = merge(nums1, m, nums2, n)\n",
    "print(\"Output:\", result)"
   ]
  },
  {
   "cell_type": "markdown",
   "id": "01c685cb-c3b5-4fb4-a818-c0502028dce7",
   "metadata": {},
   "source": [
    "**Q6.** Given an integer array nums, return true if any value appears at least twice in the array, and return false if every element is distinct.\n",
    "\n",
    "**Example 1:**\n",
    "Input: nums = [1,2,3,1]\n",
    "\n",
    "Output: true\n"
   ]
  },
  {
   "cell_type": "code",
   "execution_count": 20,
   "id": "819d604b-e15a-4429-b315-035e064e781d",
   "metadata": {},
   "outputs": [
    {
     "name": "stdout",
     "output_type": "stream",
     "text": [
      "Output: True\n"
     ]
    }
   ],
   "source": [
    "def contains_duplicate(nums):\n",
    "    num_set = set()\n",
    "\n",
    "    for num in nums:\n",
    "        if num in num_set:\n",
    "            return True\n",
    "        num_set.add(num)\n",
    "\n",
    "    return False\n",
    "\n",
    "nums = [1, 2, 3, 1]\n",
    "result = contains_duplicate(nums)\n",
    "print(\"Output:\", result)"
   ]
  },
  {
   "cell_type": "markdown",
   "id": "50b1840e-3511-440d-8895-4fc33b85ea30",
   "metadata": {},
   "source": [
    "**Q7.** Given an integer array nums, move all 0's to the end of it while maintaining the relative order of the nonzero elements.\n",
    "\n",
    "Note that you must do this in-place without making a copy of the array.\n",
    "\n",
    "**Example 1:**\n",
    "Input: nums = [0,1,0,3,12]\n",
    "Output: [1,3,12,0,0]\n"
   ]
  },
  {
   "cell_type": "code",
   "execution_count": 21,
   "id": "a6ba29db-850e-495d-bfac-aa254b4f770c",
   "metadata": {},
   "outputs": [
    {
     "name": "stdout",
     "output_type": "stream",
     "text": [
      "Output: [1, 3, 12, 0, 0]\n"
     ]
    }
   ],
   "source": [
    "def move_zeros(nums):\n",
    "    non_zero = 0\n",
    "\n",
    "    for curr in range(len(nums)):\n",
    "        if nums[curr] != 0:\n",
    "            nums[non_zero] = nums[curr]\n",
    "            non_zero += 1\n",
    "\n",
    "    while non_zero < len(nums):\n",
    "        nums[non_zero] = 0\n",
    "        non_zero += 1\n",
    "\n",
    "    return nums\n",
    "\n",
    "nums = [0, 1, 0, 3, 12]\n",
    "result = move_zeros(nums)\n",
    "print(\"Output:\", result)"
   ]
  },
  {
   "cell_type": "markdown",
   "id": "60660710-f30e-42be-ba85-8b9703556f60",
   "metadata": {},
   "source": [
    "**Q8.** You have a set of integers s, which originally contains all the numbers from 1 to n. Unfortunately, due to some error, one of the numbers in s got duplicated to another number in the set, which results in repetition of one number and loss of another number.\n",
    "\n",
    "You are given an integer array nums representing the data status of this set after the error.\n",
    "\n",
    "Find the number that occurs twice and the number that is missing and return them in the form of an array.\n",
    "\n",
    "**Example 1:**\n",
    "Input: nums = [1,2,2,4]\n",
    "Output: [2,3]\n"
   ]
  },
  {
   "cell_type": "code",
   "execution_count": 22,
   "id": "4a1c5e9c-e579-41f8-bd4a-a4caaaa61b19",
   "metadata": {},
   "outputs": [
    {
     "name": "stdout",
     "output_type": "stream",
     "text": [
      "Output: [2, 3]\n"
     ]
    }
   ],
   "source": [
    "def find_error_nums(nums):\n",
    "    n = len(nums)\n",
    "    nums_set = set(nums)\n",
    "    missing_num = sum(range(1, n + 1)) - sum(nums_set)\n",
    "    duplicate_num = sum(nums) - sum(nums_set)\n",
    "    return [duplicate_num, missing_num]\n",
    "\n",
    "nums = [1, 2, 2, 4]\n",
    "result = find_error_nums(nums)\n",
    "print(\"Output:\", result)"
   ]
  },
  {
   "cell_type": "code",
   "execution_count": null,
   "id": "f961c907-6583-4a4c-a170-b1b02c142df0",
   "metadata": {},
   "outputs": [],
   "source": [
    "nums = [1, 2, 2, 4]"
   ]
  }
 ],
 "metadata": {
  "kernelspec": {
   "display_name": "Python 3 (ipykernel)",
   "language": "python",
   "name": "python3"
  },
  "language_info": {
   "codemirror_mode": {
    "name": "ipython",
    "version": 3
   },
   "file_extension": ".py",
   "mimetype": "text/x-python",
   "name": "python",
   "nbconvert_exporter": "python",
   "pygments_lexer": "ipython3",
   "version": "3.10.6"
  }
 },
 "nbformat": 4,
 "nbformat_minor": 5
}
