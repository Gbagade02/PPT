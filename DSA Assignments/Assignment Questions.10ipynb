{
 "cells": [
  {
   "cell_type": "markdown",
   "id": "00ef6cc7-4040-46af-95bc-07162bb4508d",
   "metadata": {},
   "source": [
    "Given an integer `n`, return *`true` if it is a power of three. Otherwise, return `false`*.\n",
    "\n",
    "An integer `n` is a power of three, if there exists an integer `x` such that `n == 3x`."
   ]
  },
  {
   "cell_type": "code",
   "execution_count": 2,
   "id": "3202bc50-36fd-48f9-b4b6-21dac71bbd59",
   "metadata": {},
   "outputs": [
    {
     "name": "stdout",
     "output_type": "stream",
     "text": [
      "True\n"
     ]
    }
   ],
   "source": [
    "def is_power_of_3(n):\n",
    "    \n",
    "    if n <= 0:\n",
    "        return False\n",
    "    if n == 1:\n",
    "        return True\n",
    "    if n % 3 == 0:\n",
    "        return is_power_of_3(n//3)\n",
    "    else:\n",
    "        return False\n",
    "    \n",
    "# Driver Code\n",
    "print(is_power_of_3(27))"
   ]
  },
  {
   "cell_type": "markdown",
   "id": "bffa3df0-56f0-4fd7-806b-efb46f35270b",
   "metadata": {},
   "source": [
    "<aside>\n",
    "💡 **Question 2**\n",
    "\n",
    "You have a list `arr` of all integers in the range `[1, n]` sorted in a strictly increasing order. Apply the following algorithm on `arr`:\n",
    "\n",
    "- Starting from left to right, remove the first number and every other number afterward until you reach the end of the list.\n",
    "- Repeat the previous step again, but this time from right to left, remove the rightmost number and every other number from the remaining numbers.\n",
    "- Keep repeating the steps again, alternating left to right and right to left, until a single number remains.\n",
    "\n",
    "Given the integer `n`, return *the last number that remains in* `arr`.\n",
    "\n",
    "</aside>"
   ]
  },
  {
   "cell_type": "code",
   "execution_count": 5,
   "id": "0319c9b9-72e5-4717-89cf-c1f4a34eff67",
   "metadata": {},
   "outputs": [
    {
     "name": "stdout",
     "output_type": "stream",
     "text": [
      "6\n"
     ]
    }
   ],
   "source": [
    "def lastRemaining(n):\n",
    "        if n%2: n = n-1  \n",
    "        if not n: return 1 \n",
    "        return n - 2*(lastRemaining(n//2)-1)\n",
    "    \n",
    "#Drvier Code\n",
    "n = 9\n",
    "print(lastRemaining(n))"
   ]
  },
  {
   "cell_type": "markdown",
   "id": "40255449-f921-43e9-bd1a-de2bd1da8e53",
   "metadata": {},
   "source": [
    "Given a set represented as a string, write a recursive code to print all subsets of it. The subsets can be printed in any order.\n",
    "\n",
    "**Example 1:**\n",
    "\n",
    "Input :  set = “abc”\n",
    "\n",
    "Output : { “”, “a”, “b”, “c”, “ab”, “ac”, “bc”, “abc”}"
   ]
  },
  {
   "cell_type": "code",
   "execution_count": 6,
   "id": "4c1ac05f-99ff-4026-b31a-4363e51005a8",
   "metadata": {},
   "outputs": [
    {
     "name": "stdout",
     "output_type": "stream",
     "text": [
      "abc\n",
      "ab\n",
      "ac\n",
      "a\n",
      "bc\n",
      "b\n",
      "c\n",
      "\n",
      "None\n"
     ]
    }
   ],
   "source": [
    "def powerSet(string, index, curr):\n",
    "    if index == len(string):\n",
    "        print(curr)\n",
    "        return\n",
    "    \n",
    "    powerSet(string, index + 1,\n",
    "             curr + string[index])\n",
    "    powerSet(string, index + 1, curr)\n",
    "    \n",
    "# Driver code\n",
    "s1 = \"abc\"\n",
    "index = 0\n",
    "curr = \"\"\n",
    "print(powerSet(s1, index, curr))"
   ]
  },
  {
   "cell_type": "markdown",
   "id": "5cf61ea1-d1e9-4119-81cd-6b04d341dc0c",
   "metadata": {},
   "source": [
    "Given a string calculate length of the string using recursion."
   ]
  },
  {
   "cell_type": "code",
   "execution_count": 10,
   "id": "3da3f596-ad36-496a-a726-b6b06a9caac9",
   "metadata": {},
   "outputs": [
    {
     "name": "stdout",
     "output_type": "stream",
     "text": [
      "6\n"
     ]
    }
   ],
   "source": [
    "def lenght(s):\n",
    "    \n",
    "    if s == \"\":\n",
    "        return 0\n",
    "    return 1 + lenght(s[1:])\n",
    "    \n",
    "\n",
    "#Driver Code\n",
    "s = \"Gaurav\"\n",
    "print(lenght(s))"
   ]
  },
  {
   "cell_type": "markdown",
   "id": "9d380755-452c-4019-8e31-19388dc34476",
   "metadata": {},
   "source": [
    "<aside>\n",
    "💡 **Question 5**\n",
    "\n",
    "We are given a string S, we need to find count of all contiguous substrings starting and ending with same character.\n",
    "\n",
    "</aside>"
   ]
  },
  {
   "cell_type": "code",
   "execution_count": 11,
   "id": "24c0d2ae-c58a-46c5-8a15-521917a91eef",
   "metadata": {},
   "outputs": [
    {
     "name": "stdout",
     "output_type": "stream",
     "text": [
      "7\n"
     ]
    }
   ],
   "source": [
    "def countSubstrs(str, i, j, n):\n",
    " \n",
    "    # base cases\n",
    "    if (n == 1):\n",
    "        return 1\n",
    "    if (n <= 0):\n",
    "        return 0\n",
    " \n",
    "    res = (countSubstrs(str, i + 1, j, n - 1)\n",
    "        + countSubstrs(str, i, j - 1, n - 1)\n",
    "        - countSubstrs(str, i + 1, j - 1, n - 2))    \n",
    " \n",
    "    if (str[i] == str[j]):\n",
    "        res += 1\n",
    " \n",
    "    return res\n",
    "\n",
    "\n",
    "\n",
    "\n",
    "# driver code\n",
    "str = \"abcab\"\n",
    "n = len(str)\n",
    "print(countSubstrs(str, 0, n - 1, n))"
   ]
  },
  {
   "cell_type": "markdown",
   "id": "7dc7f205-6d4a-44ba-97ed-03ddc7d78f49",
   "metadata": {},
   "source": [
    "<aside>\n",
    "💡 **Question 6**\n",
    "\n",
    "The [tower of Hanoi](https://en.wikipedia.org/wiki/Tower_of_Hanoi) is a famous puzzle where we have three rods and **N** disks. The objective of the puzzle is to move the entire stack to another rod. You are given the number of discs **N**. Initially, these discs are in the rod 1. You need to print all the steps of discs movement so that all the discs reach the 3rd rod. Also, you need to find the total moves.**Note:** The discs are arranged such that the **top disc is numbered 1** and the **bottom-most disc is numbered N**. Also, all the discs have **different sizes** and a bigger disc **cannot** be put on the top of a smaller disc. Refer the provided link to get a better clarity about the puzzle.\n",
    "\n",
    "</aside>"
   ]
  },
  {
   "cell_type": "code",
   "execution_count": 12,
   "id": "b173a43e-a18c-4c44-88b7-973d311adfb8",
   "metadata": {},
   "outputs": [
    {
     "name": "stdout",
     "output_type": "stream",
     "text": [
      "Move disk 1 from rod A to rod C\n",
      "Move disk 2 from rod A to rod B\n",
      "Move disk 1 from rod C to rod B\n",
      "Move disk 3 from rod A to rod C\n",
      "Move disk 1 from rod B to rod A\n",
      "Move disk 2 from rod B to rod C\n",
      "Move disk 1 from rod A to rod C\n"
     ]
    }
   ],
   "source": [
    "def TowerOfHanoi(n, from_rod, to_rod, aux_rod):\n",
    "    if n == 0:\n",
    "        return\n",
    "    TowerOfHanoi(n-1, from_rod, aux_rod, to_rod)\n",
    "    print(\"Move disk\", n, \"from rod\", from_rod, \"to rod\", to_rod)\n",
    "    TowerOfHanoi(n-1, aux_rod, to_rod, from_rod)\n",
    "\n",
    "# Driver code\n",
    "N = 3\n",
    "TowerOfHanoi(N, 'A', 'C', 'B')"
   ]
  },
  {
   "cell_type": "markdown",
   "id": "2d46c0e6-ed52-4520-897d-1a69f47277da",
   "metadata": {},
   "source": [
    "<aside>\n",
    "💡 **Question 7**\n",
    "\n",
    "Given a string **str**, the task is to print all the permutations of **str**. A **permutation** is an arrangement of all or part of a set of objects, with regard to the order of the arrangement. For instance, the words ‘bat’ and ‘tab’ represents two distinct permutation (or arrangements) of a similar three letter word\n",
    "\n",
    "</aside>"
   ]
  },
  {
   "cell_type": "code",
   "execution_count": 13,
   "id": "a4babbb9-be7c-4b48-88bc-628437a9ad4b",
   "metadata": {},
   "outputs": [
    {
     "name": "stdout",
     "output_type": "stream",
     "text": [
      "ABC  ACB  BAC  BCA  CAB  CBA  "
     ]
    }
   ],
   "source": [
    "def permute(s, answer):\n",
    "    if (len(s) == 0):\n",
    "        print(answer, end=\"  \")\n",
    "        return\n",
    " \n",
    "    for i in range(len(s)):\n",
    "        ch = s[i]\n",
    "        left_substr = s[0:i]\n",
    "        right_substr = s[i + 1:]\n",
    "        rest = left_substr + right_substr\n",
    "        permute(rest, answer + ch)\n",
    "\n",
    "# Driver Code\n",
    "answer = \"\" \n",
    "s = \"ABC\"\n",
    "permute(s, answer)"
   ]
  },
  {
   "cell_type": "markdown",
   "id": "f0525c44-1007-4855-a0c9-d5e912ce23d8",
   "metadata": {},
   "source": [
    "<aside>\n",
    "💡 **Question 8**\n",
    "\n",
    "Given a string, count total number of consonants in it. A consonant is an English alphabet character that is not vowel (a, e, i, o and u). Examples of constants are b, c, d, f, and g.\n",
    "\n",
    "</aside>"
   ]
  },
  {
   "cell_type": "code",
   "execution_count": null,
   "id": "49caecf3-3613-4640-843e-c88ce2cb2e5b",
   "metadata": {},
   "outputs": [],
   "source": [
    "# Driver code\n",
    "string = \"abc de\"\n",
    "print(totalConsonants(string, len(string)))"
   ]
  }
 ],
 "metadata": {
  "kernelspec": {
   "display_name": "Python 3 (ipykernel)",
   "language": "python",
   "name": "python3"
  },
  "language_info": {
   "codemirror_mode": {
    "name": "ipython",
    "version": 3
   },
   "file_extension": ".py",
   "mimetype": "text/x-python",
   "name": "python",
   "nbconvert_exporter": "python",
   "pygments_lexer": "ipython3",
   "version": "3.10.6"
  }
 },
 "nbformat": 4,
 "nbformat_minor": 5
}
