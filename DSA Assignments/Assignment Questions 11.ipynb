{
 "cells": [
  {
   "cell_type": "markdown",
   "id": "4858cece-3ef0-46a5-ae35-00be743ce425",
   "metadata": {},
   "source": [
    "<aside>\n",
    "💡 **Question 1**\n",
    "\n",
    "Given a non-negative integer `x`, return *the square root of* `x` *rounded down to the nearest integer*. The returned integer should be **non-negative** as well.\n",
    "\n",
    "You **must not use** any built-in exponent function or operator.\n",
    "\n",
    "- For example, do not use `pow(x, 0.5)` in c++ or `x ** 0.5` in python.\n",
    "</aside>"
   ]
  },
  {
   "cell_type": "code",
   "execution_count": 1,
   "id": "5a652d15-01be-4c35-a266-a177bbcb33bd",
   "metadata": {},
   "outputs": [
    {
     "name": "stdout",
     "output_type": "stream",
     "text": [
      "2\n"
     ]
    }
   ],
   "source": [
    "def mySqrt(x):\n",
    "    if x == 0:\n",
    "        return 0\n",
    "    \n",
    "    left = 1\n",
    "    right = x\n",
    "    \n",
    "    while left <= right:\n",
    "        mid = (left + right) // 2\n",
    "        if mid * mid == x:\n",
    "            return mid\n",
    "        elif mid * mid < x:\n",
    "            left = mid + 1\n",
    "        else:\n",
    "            right = mid - 1\n",
    "    \n",
    "    return right\n",
    "\n",
    "# driver code\n",
    "x = 5\n",
    "print(mySqrt(x))"
   ]
  },
  {
   "cell_type": "markdown",
   "id": "dc27ddcc-0299-4411-a0d4-3c1640c16531",
   "metadata": {},
   "source": [
    "<aside>\n",
    "💡 **Question 2**\n",
    "\n",
    "A peak element is an element that is strictly greater than its neighbors.\n",
    "\n",
    "Given a **0-indexed** integer array `nums`, find a peak element, and return its index. If the array contains multiple peaks, return the index to **any of the peaks**.\n",
    "\n",
    "You may imagine that `nums[-1] = nums[n] = -∞`. In other words, an element is always considered to be strictly greater than a neighbor that is outside the array.\n",
    "\n",
    "You must write an algorithm that runs in `O(log n)` time.\n",
    "\n",
    "</aside>"
   ]
  },
  {
   "cell_type": "code",
   "execution_count": 5,
   "id": "0d735d0e-2cc7-48ab-97d2-175734d5ae45",
   "metadata": {},
   "outputs": [
    {
     "name": "stdout",
     "output_type": "stream",
     "text": [
      "5\n"
     ]
    }
   ],
   "source": [
    "def peak(nums):\n",
    "    left  = 0\n",
    "    right = len(nums) - 1\n",
    "    \n",
    "    while(left<right):\n",
    "        mid = left + (right - left) // 2\n",
    "        if nums[mid] < nums[mid + 1]:\n",
    "            left = mid + 1\n",
    "        else:\n",
    "            right = mid\n",
    "            \n",
    "    return left\n",
    "\n",
    "\n",
    "# Driver Code\n",
    "nums = [1,2,1,3,5,6,4]\n",
    "print(peak(nums))"
   ]
  },
  {
   "cell_type": "markdown",
   "id": "303d081c-c72b-484e-8103-913ae02c4c87",
   "metadata": {},
   "source": [
    "Given an array nums containing n distinct numbers in the range [0, n], return the only number in the range that is missing from the array."
   ]
  },
  {
   "cell_type": "code",
   "execution_count": 6,
   "id": "b95aaa63-6b3a-47e8-8de2-f7c25ccdfda9",
   "metadata": {},
   "outputs": [
    {
     "name": "stdout",
     "output_type": "stream",
     "text": [
      "2\n"
     ]
    }
   ],
   "source": [
    "def missingNumber(nums):\n",
    "    n = len(nums)\n",
    "    total_sum = n * (n + 1) // 2\n",
    "    array_sum = sum(nums)\n",
    "    return total_sum - array_sum\n",
    "\n",
    "# Driver Code\n",
    "nums = [3,0,1]\n",
    "print(missingNumber(nums))"
   ]
  },
  {
   "cell_type": "markdown",
   "id": "e4758b2e-29fe-44e3-9871-7d737d6ad10f",
   "metadata": {},
   "source": [
    "Given an array of integers `nums` containing `n + 1` integers where each integer is in the range `[1, n]` inclusive.\n",
    "\n",
    "There is only **one repeated number** in `nums`, return *this repeated number*.\n",
    "\n",
    "You must solve the problem **without** modifying the array `nums` and uses only constant extra space."
   ]
  },
  {
   "cell_type": "code",
   "execution_count": 7,
   "id": "5da49115-bcf2-4668-86fa-fca2330f90c9",
   "metadata": {},
   "outputs": [
    {
     "name": "stdout",
     "output_type": "stream",
     "text": [
      "3\n"
     ]
    }
   ],
   "source": [
    "def findDuplicate(nums):\n",
    "    left = 1\n",
    "    right = len(nums) - 1\n",
    "\n",
    "    while left < right:\n",
    "        mid = left + (right - left) // 2\n",
    "\n",
    "        count = 0\n",
    "        for num in nums:\n",
    "            if num <= mid:\n",
    "                count += 1\n",
    "\n",
    "        if count > mid:\n",
    "            right = mid\n",
    "        else:\n",
    "            left = mid + 1\n",
    "\n",
    "    return left\n",
    "\n",
    "# Driver Code\n",
    "nums = [3,1,3,4,2]\n",
    "print(findDuplicate(nums))"
   ]
  },
  {
   "cell_type": "markdown",
   "id": "f0fdcb1e-c62c-4c28-bb32-76c53775b544",
   "metadata": {},
   "source": [
    "Given two integer arrays nums1 and nums2, return an array of their intersection. Each element in the result must be unique and you may return the result in any order."
   ]
  },
  {
   "cell_type": "code",
   "execution_count": 8,
   "id": "ecdff3df-0cda-43d0-b023-8c216e2f3033",
   "metadata": {},
   "outputs": [
    {
     "name": "stdout",
     "output_type": "stream",
     "text": [
      "[9, 4]\n"
     ]
    }
   ],
   "source": [
    "def intersection(nums1, nums2):\n",
    "    set1 = set(nums1)\n",
    "    set2 = set(nums2)\n",
    "    return list(set1.intersection(set2))\n",
    "\n",
    "# Driver Code\n",
    "nums1 = [4,9,5]\n",
    "nums2 = [9,4,9,8,4]\n",
    "print(intersection(nums1, nums2))"
   ]
  },
  {
   "cell_type": "markdown",
   "id": "75604f5c-ce00-43e8-beab-e138bb3a708c",
   "metadata": {},
   "source": [
    "<aside>\n",
    "💡 **Question 6**\n",
    "\n",
    "Suppose an array of length `n` sorted in ascending order is **rotated** between `1` and `n` times. For example, the array `nums = [0,1,2,4,5,6,7]` might become:\n",
    "\n",
    "- `[4,5,6,7,0,1,2]` if it was rotated `4` times.\n",
    "- `[0,1,2,4,5,6,7]` if it was rotated `7` times.\n",
    "\n",
    "Notice that **rotating** an array `[a[0], a[1], a[2], ..., a[n-1]]` 1 time results in the array `[a[n-1], a[0], a[1], a[2], ..., a[n-2]]`.\n",
    "\n",
    "Given the sorted rotated array `nums` of **unique** elements, return *the minimum element of this array*.\n",
    "\n",
    "You must write an algorithm that runs in `O(log n) time.`\n",
    "\n",
    "</aside>"
   ]
  },
  {
   "cell_type": "code",
   "execution_count": 9,
   "id": "418f549e-3614-4e0a-b8b4-8bcc6ca14808",
   "metadata": {},
   "outputs": [
    {
     "name": "stdout",
     "output_type": "stream",
     "text": [
      "1\n"
     ]
    }
   ],
   "source": [
    "def findMin(nums):\n",
    "    left = 0\n",
    "    right = len(nums) - 1\n",
    "    \n",
    "    while left < right:\n",
    "        mid = left + (right - left) // 2\n",
    "        \n",
    "        if nums[mid] > nums[right]:\n",
    "            left = mid + 1\n",
    "            \n",
    "        else:\n",
    "            right = mid\n",
    "    return nums[left]\n",
    "\n",
    "# Drvier Code\n",
    "nums = [3,4,5,1,2]\n",
    "print(findMin(nums))"
   ]
  },
  {
   "cell_type": "markdown",
   "id": "bc740899-d29e-4977-8eb8-d8fd92297eec",
   "metadata": {},
   "source": [
    "<aside>\n",
    "💡 **Question 7**\n",
    "\n",
    "Given an array of integers `nums` sorted in non-decreasing order, find the starting and ending position of a given `target` value.\n",
    "\n",
    "If `target` is not found in the array, return `[-1, -1]`.\n",
    "\n",
    "You must write an algorithm with `O(log n)` runtime complexity.\n",
    "\n",
    "</aside>"
   ]
  },
  {
   "cell_type": "code",
   "execution_count": 10,
   "id": "1b305fc9-4ac5-4983-8a4f-0d15c97baea3",
   "metadata": {},
   "outputs": [
    {
     "name": "stdout",
     "output_type": "stream",
     "text": [
      "[3, 4]\n"
     ]
    }
   ],
   "source": [
    "def searchRange(nums, target):\n",
    "    left = findLeft(nums, target)\n",
    "    right = findRight(nums, target)\n",
    "\n",
    "    return [left, right]\n",
    "\n",
    "def findLeft(nums, target):\n",
    "    left = 0\n",
    "    right = len(nums) - 1\n",
    "    result = -1\n",
    "\n",
    "    while left <= right:\n",
    "        mid = left + (right - left) // 2\n",
    "\n",
    "        if nums[mid] >= target:\n",
    "            right = mid - 1\n",
    "            if nums[mid] == target:\n",
    "                result = mid\n",
    "        else:\n",
    "            left = mid + 1\n",
    "\n",
    "    return result\n",
    "\n",
    "def findRight(nums, target):\n",
    "    left = 0\n",
    "    right = len(nums) - 1\n",
    "    result = -1\n",
    "\n",
    "    while left <= right:\n",
    "        mid = left + (right - left) // 2\n",
    "\n",
    "        if nums[mid] <= target:\n",
    "            left = mid + 1\n",
    "            if nums[mid] == target:\n",
    "                result = mid\n",
    "        else:\n",
    "            right = mid - 1\n",
    "\n",
    "    return result\n",
    "\n",
    "# Driver Code\n",
    "nums = [5,7,7,8,8,10] \n",
    "target = 8\n",
    "print(searchRange(nums, target))"
   ]
  },
  {
   "cell_type": "markdown",
   "id": "2851496f-1a88-4e72-b24b-0ddf9a83ee68",
   "metadata": {},
   "source": [
    "Given two integer arrays nums1 and nums2, return an array of their intersection. Each element in the result must appear as many times as it shows in both arrays and you may return the result in any order."
   ]
  },
  {
   "cell_type": "code",
   "execution_count": null,
   "id": "0d074994-a4ff-495b-8620-bf1006de571c",
   "metadata": {},
   "outputs": [],
   "source": [
    "def intersect(self, nums1, nums2):\n",
    "    \n",
    "    sortedArr1 = sorted(nums1)\n",
    "    sortedArr2 = sorted(nums2)\n",
    "    \n",
    "    i = 0\n",
    "    j = 0\n",
    "    \n",
    "    output = []\n",
    "    while i < len(sortedArr1) and j < len(sortedArr2):\n",
    "        \n",
    "        if sortedArr1[i] < sortedArr2[j]:\n",
    "                i += 1\n",
    "                \n",
    "        elif sortedArr2[j] < sortedArr1[i]:\n",
    "                j += 1\n",
    "                \n",
    "        else:\n",
    "                output.append(sortedArr1[i])\n",
    "                i += 1\n",
    "                j += 1\n",
    "    return output "
   ]
  },
  {
   "cell_type": "markdown",
   "id": "b43cf6e0-7dae-4e8e-8fd7-f113006d0c27",
   "metadata": {},
   "source": [
    "Given two integer arrays nums1 and nums2, return an array of their intersection. Each element in the result must appear as many times as it shows in both arrays and you may return the result in any order."
   ]
  },
  {
   "cell_type": "code",
   "execution_count": 1,
   "id": "bf778fa2-aeb8-4801-86eb-f79b3bd46f57",
   "metadata": {},
   "outputs": [
    {
     "name": "stdout",
     "output_type": "stream",
     "text": [
      "[2, 2]\n"
     ]
    }
   ],
   "source": [
    "def intersect(nums1, nums2):\n",
    "    # Sort the arrays\n",
    "    nums1.sort()\n",
    "    nums2.sort()\n",
    "    \n",
    "    intersection = []\n",
    "    i, j = 0, 0\n",
    "\n",
    "    # Perform binary search for each element in nums1\n",
    "    for num in nums1:\n",
    "        found = binary_search(nums2, num, j)\n",
    "        if found != -1:\n",
    "            # If element is found, add it to the intersection list\n",
    "            intersection.append(num)\n",
    "            j = found + 1\n",
    "\n",
    "    return intersection\n",
    "\n",
    "def binary_search(nums, target, start):\n",
    "    left, right = start, len(nums) - 1\n",
    "\n",
    "    while left <= right:\n",
    "        mid = (left + right) // 2\n",
    "        if nums[mid] == target:\n",
    "            if mid == start or nums[mid] != nums[mid - 1]:\n",
    "                return mid\n",
    "            else:\n",
    "                right = mid - 1\n",
    "        elif nums[mid] < target:\n",
    "            left = mid + 1\n",
    "        else:\n",
    "            right = mid - 1\n",
    "\n",
    "    return -1\n",
    "\n",
    "\n",
    "# Driver Code\n",
    "nums1 = [1,2,2,1]\n",
    "nums2 = [2,2]\n",
    "print(intersect(nums1,nums2))"
   ]
  },
  {
   "cell_type": "code",
   "execution_count": null,
   "id": "896874b8-d219-4485-9238-41471e79266d",
   "metadata": {},
   "outputs": [],
   "source": []
  }
 ],
 "metadata": {
  "kernelspec": {
   "display_name": "Python 3 (ipykernel)",
   "language": "python",
   "name": "python3"
  },
  "language_info": {
   "codemirror_mode": {
    "name": "ipython",
    "version": 3
   },
   "file_extension": ".py",
   "mimetype": "text/x-python",
   "name": "python",
   "nbconvert_exporter": "python",
   "pygments_lexer": "ipython3",
   "version": "3.10.6"
  }
 },
 "nbformat": 4,
 "nbformat_minor": 5
}
