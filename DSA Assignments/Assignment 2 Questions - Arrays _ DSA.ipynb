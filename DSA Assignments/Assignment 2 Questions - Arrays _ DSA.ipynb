{
 "cells": [
  {
   "cell_type": "markdown",
   "id": "e745b17b-f463-4581-b22f-be9f81b394e1",
   "metadata": {},
   "source": [
    "**Question 1**\n",
    "Given an integer array nums of 2n integers, group these integers into n pairs (a1, b1), (a2, b2),..., (an, bn) such that the sum of min(ai, bi) for all i is maximized. Return the maximized sum.\n",
    "\n",
    "**Example 1:**\n",
    "Input: nums = [1,4,3,2]\n",
    "Output: 4\n",
    "\n",
    "**Explanation:** All possible pairings (ignoring the ordering of elements) are:\n",
    "\n",
    "1. (1, 4), (2, 3) -> min(1, 4) + min(2, 3) = 1 + 2 = 3\n",
    "2. (1, 3), (2, 4) -> min(1, 3) + min(2, 4) = 1 + 2 = 3\n",
    "3. (1, 2), (3, 4) -> min(1, 2) + min(3, 4) = 1 + 3 = 4\n",
    "So the maximum possible sum is 4\n"
   ]
  },
  {
   "cell_type": "code",
   "execution_count": 5,
   "id": "b5843319-e3b0-4d91-9c06-b17c507eb8cc",
   "metadata": {},
   "outputs": [
    {
     "name": "stdout",
     "output_type": "stream",
     "text": [
      "4\n"
     ]
    }
   ],
   "source": [
    "def array_pair_sum(nums):\n",
    "    nums.sort()  # Sort the array in ascending order\n",
    "    max_sum = 0\n",
    "\n",
    "    for i in range(0, len(nums), 2):\n",
    "        max_sum += nums[i]\n",
    "\n",
    "    return max_sum\n",
    "\n",
    "nums = [1, 4, 3, 2]\n",
    "print(array_pair_sum(nums))"
   ]
  },
  {
   "cell_type": "markdown",
   "id": "1a7ac078-1412-481c-bbfb-29e9a80f5ab4",
   "metadata": {},
   "source": [
    "Question 2\n",
    "Alice has n candies, where the ith candy is of type candyType[i]. Alice noticed that she started to gain weight, so she visited a doctor. \n",
    "\n",
    "The doctor advised Alice to only eat n / 2 of the candies she has (n is always even). Alice likes her candies very much, and she wants to eat the maximum number of different types of candies while still following the doctor's advice. \n",
    "\n",
    "Given the integer array candyType of length n, return the maximum number of different types of candies she can eat if she only eats n / 2 of them.\n",
    "\n",
    "Example 1:\n",
    "Input: candyType = [1,1,2,2,3,3]\n",
    "Output: 3\n",
    "\n",
    "Explanation: Alice can only eat 6 / 2 = 3 candies. Since there are only 3 types, she can eat one of each type."
   ]
  },
  {
   "cell_type": "code",
   "execution_count": 7,
   "id": "85338184-e6da-46bc-93e5-ea3a73b922cc",
   "metadata": {},
   "outputs": [
    {
     "name": "stdout",
     "output_type": "stream",
     "text": [
      "3\n"
     ]
    }
   ],
   "source": [
    "def candyEat(candyType):\n",
    "    # Create a set of candy types.\n",
    "    candy_types = set(candyType)\n",
    "    # Calculate the number of candies Alice can eat.\n",
    "    num_candies = len(candy_types)\n",
    "    # Return the maximum number of different types of candies Alice can eat.\n",
    "    return min(num_candies, len(candyType) // 2)\n",
    "    \n",
    "candyType = [1,1,2,2,3,3]\n",
    "print(candyEat(candyType))"
   ]
  },
  {
   "cell_type": "markdown",
   "id": "845c2be7-72f9-47e0-b3a8-304f4d936cba",
   "metadata": {},
   "source": [
    "Question 3\n",
    "We define a harmonious array as an array where the difference between its maximum value\n",
    "and its minimum value is exactly 1.\n",
    "\n",
    "Given an integer array nums, return the length of its longest harmonious subsequence\n",
    "among all its possible subsequences.\n",
    "\n",
    "A subsequence of an array is a sequence that can be derived from the array by deleting some or no elements without changing the order of the remaining elements.\n",
    "\n",
    "Example 1:\n",
    "Input: nums = [1,3,2,2,5,2,3,7]\n",
    "Output: 5\n",
    "\n",
    "Explanation: The longest harmonious subsequence is [3,2,2,2,3]."
   ]
  },
  {
   "cell_type": "code",
   "execution_count": 1,
   "id": "b29f0bdf-007b-4a78-9b46-b9c6c625bfb8",
   "metadata": {},
   "outputs": [
    {
     "name": "stdout",
     "output_type": "stream",
     "text": [
      "5\n"
     ]
    }
   ],
   "source": [
    "def harmo(nums):\n",
    "    letter = {}\n",
    "    ans = 0\n",
    "    for i in nums:\n",
    "        if i not in letter:\n",
    "            letter[i] = 1\n",
    "        else:\n",
    "            letter[i]+=1\n",
    "    for i in letter:\n",
    "        if i+1 in letter.keys():\n",
    "            ans = max(ans, letter[i]+letter[i+1])\n",
    "    return ans\n",
    "\n",
    "nums = [1,3,2,2,5,2,3,7]\n",
    "print(harmo(nums))\n",
    "        "
   ]
  },
  {
   "cell_type": "markdown",
   "id": "ae3cd2cc-4e34-4ed1-bdb8-9ba150019ce6",
   "metadata": {},
   "source": [
    "Question 4\n",
    "You have a long flowerbed in which some of the plots are planted, and some are not.\n",
    "However, flowers cannot be planted in adjacent plots.\n",
    "Given an integer array flowerbed containing 0's and 1's, where 0 means empty and 1 means not empty, and an integer n, return true if n new flowers can be planted in the flowerbed without violating the no-adjacent-flowers rule and false otherwise.\n",
    "\n",
    "Example 1:\n",
    "Input: flowerbed = [1,0,0,0,1], n = 1\n",
    "Output: true"
   ]
  },
  {
   "cell_type": "code",
   "execution_count": 4,
   "id": "e7d74b36-5641-48c5-842d-dcf2a8b5350f",
   "metadata": {},
   "outputs": [
    {
     "name": "stdout",
     "output_type": "stream",
     "text": [
      "Is there any place to plan new Flower plant:  True\n"
     ]
    }
   ],
   "source": [
    "def csk(nums):\n",
    "    \n",
    "    for i in range(len(nums)):\n",
    "        if i > 0 and  i < len(nums)-1 and nums[i] == nums[i-1] == nums[i+1] == 0:\n",
    "            return True\n",
    "    return False\n",
    "\n",
    "\n",
    "\n",
    "\n",
    "#Driver code\n",
    "flowerbed = [1,0,0,0,1,1]\n",
    "print(\"Is there any place to plan new Flower plant: \", csk(flowerbed))"
   ]
  },
  {
   "cell_type": "markdown",
   "id": "3331660d-6127-4e00-936b-8f0484f12fae",
   "metadata": {},
   "source": [
    "Question 5\n",
    "Given an integer array nums, find three numbers whose product is maximum and return the maximum product.\n",
    "\n",
    "Example 1:\n",
    "Input: nums = [1,2,3]\n",
    "Output: 6"
   ]
  },
  {
   "cell_type": "code",
   "execution_count": 2,
   "id": "a9ce372a-a710-497b-848e-c0455e58c042",
   "metadata": {},
   "outputs": [
    {
     "name": "stdout",
     "output_type": "stream",
     "text": [
      "120\n"
     ]
    }
   ],
   "source": [
    "def max_p(nums):\n",
    "    \n",
    "    max_three_numbers = sorted(nums, reverse=True)[:3]\n",
    "    \n",
    "    return max_three_numbers[0] * max_three_numbers[1] * max_three_numbers[2]\n",
    "\n",
    "#Driver Code\n",
    "nums = [1,2,3,4,5,6]\n",
    "print(max_p(nums))"
   ]
  },
  {
   "cell_type": "markdown",
   "id": "82e58af3-ef68-46c2-a15a-29c941c7f1a5",
   "metadata": {},
   "source": [
    "Question 6\n",
    "Given an array of integers nums which is sorted in ascending order, and an integer target,\n",
    "write a function to search target in nums. If target exists, then return its index. Otherwise,\n",
    "return -1.\n",
    "\n",
    "You must write an algorithm with O(log n) runtime complexity.\n",
    "\n",
    "Input: nums = [-1,0,3,5,9,12], target = 9\n",
    "Output: 4\n",
    "\n",
    "Explanation: 9 exists in nums and its index is 4"
   ]
  },
  {
   "cell_type": "code",
   "execution_count": 3,
   "id": "76572615-0dc9-4936-adef-22e67c4fd9fd",
   "metadata": {},
   "outputs": [
    {
     "name": "stdout",
     "output_type": "stream",
     "text": [
      "9 exists in nums and its index is:  4\n"
     ]
    }
   ],
   "source": [
    "def b_search(target, nums):\n",
    "    \n",
    "    low = 0\n",
    "    high = len(nums) - 1\n",
    "    \n",
    "    while low <= high:\n",
    "        mid = (low + high) // 2\n",
    "        if nums[mid] == target:\n",
    "            return mid\n",
    "        elif nums[mid] > target:\n",
    "            high = mid - 1\n",
    "        else:\n",
    "            low = mid + 1\n",
    "    return -1\n",
    "\n",
    "# Driver Code\n",
    "nums = [-1,0,3,5,9,12]\n",
    "target = 9\n",
    "print(target, \"exists in nums and its index is: \", b_search(target, nums))"
   ]
  },
  {
   "cell_type": "markdown",
   "id": "325840b4-e9d4-47c9-933e-ca29831145ea",
   "metadata": {},
   "source": [
    "Question 7\n",
    "An array is monotonic if it is either monotone increasing or monotone decreasing.\n",
    "\n",
    "An array nums is monotone increasing if for all i <= j, nums[i] <= nums[j]. An array nums is\n",
    "monotone decreasing if for all i <= j, nums[i] >= nums[j].\n",
    "\n",
    "Given an integer array nums, return true if the given array is monotonic, or false otherwise.\n",
    "\n",
    "Example 1:\n",
    "Input: nums = [1,2,2,3]\n",
    "Output: true"
   ]
  },
  {
   "cell_type": "code",
   "execution_count": 2,
   "id": "7f0a5091-a652-43a9-949c-93fe95b3a3f3",
   "metadata": {},
   "outputs": [
    {
     "name": "stdout",
     "output_type": "stream",
     "text": [
      "False\n"
     ]
    }
   ],
   "source": [
    "def is_monotonic(nums):\n",
    "    if len(nums) == 1:\n",
    "        return True\n",
    "    temp = sorted(nums)\n",
    "    if temp == nums or temp == nums[::-1]:\n",
    "        return True\n",
    "    return False\n",
    "\n",
    "# Driver Code\n",
    "nums = [1,2,2,3,1]\n",
    "print(is_monotonic(nums))"
   ]
  },
  {
   "cell_type": "markdown",
   "id": "eb7cb9fd-23d4-4c02-a69b-7167b68fe6bc",
   "metadata": {},
   "source": [
    "Question 8\n",
    "You are given an integer array nums and an integer k.\n",
    "\n",
    "In one operation, you can choose any index i where 0 <= i < nums.length and change nums[i] to nums[i] + x where x is an integer from the range [-k, k]. You can apply this operation at most once for each index i.\n",
    "\n",
    "The score of nums is the difference between the maximum and minimum elements in nums.\n",
    "\n",
    "Return the minimum score of nums after applying the mentioned operation at most once for each index in it.\n",
    "\n",
    "Example 1:\n",
    "Input: nums = [1], k = 0\n",
    "Output: 0\n",
    "\n",
    "Explanation: The score is max(nums) - min(nums) = 1 - 1 = 0."
   ]
  },
  {
   "cell_type": "code",
   "execution_count": 3,
   "id": "37401f20-2be6-4a70-836d-93d8c69dc49c",
   "metadata": {},
   "outputs": [
    {
     "name": "stdout",
     "output_type": "stream",
     "text": [
      "0\n"
     ]
    }
   ],
   "source": [
    "def min_Score(nums, k):\n",
    "    min_element = min(nums)\n",
    "    max_element = max(nums)\n",
    "    \n",
    "    \n",
    "    min_score = max_element - min_element\n",
    "    \n",
    "    for i in range(len(nums)):\n",
    "        new_min_element = min(min_element, nums[i] - k)\n",
    "        new_max_element = max(max_element, nums[i] + k)\n",
    "        \n",
    "    min_score = min(min_score, new_max_element - new_min_element)\n",
    "    \n",
    "    return min_score\n",
    "    \n",
    "#Driver Code\n",
    "nums = [1]\n",
    "k = 0\n",
    "print(min_Score(nums, k))"
   ]
  },
  {
   "cell_type": "code",
   "execution_count": null,
   "id": "583209d4-987a-4634-af6f-df6bed8aba79",
   "metadata": {},
   "outputs": [],
   "source": []
  }
 ],
 "metadata": {
  "kernelspec": {
   "display_name": "Python 3 (ipykernel)",
   "language": "python",
   "name": "python3"
  },
  "language_info": {
   "codemirror_mode": {
    "name": "ipython",
    "version": 3
   },
   "file_extension": ".py",
   "mimetype": "text/x-python",
   "name": "python",
   "nbconvert_exporter": "python",
   "pygments_lexer": "ipython3",
   "version": "3.10.6"
  }
 },
 "nbformat": 4,
 "nbformat_minor": 5
}
