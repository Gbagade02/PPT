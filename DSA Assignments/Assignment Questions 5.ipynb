{
 "cells": [
  {
   "cell_type": "markdown",
   "id": "6c55dfd4-e90c-4cbe-8979-2afa154b6613",
   "metadata": {},
   "source": [
    "<aside>\n",
    "💡 **Question 1**\n",
    "\n",
    "Convert 1D Array Into 2D Array\n",
    "\n",
    "You are given a **0-indexed** 1-dimensional (1D) integer array original, and two integers, m and n. You are tasked with creating a 2-dimensional (2D) array with  m rows and n columns using **all** the elements from original.\n",
    "\n",
    "The elements from indices 0 to n - 1 (**inclusive**) of original should form the first row of the constructed 2D array, the elements from indices n to 2 * n - 1 (**inclusive**) should form the second row of the constructed 2D array, and so on.\n",
    "\n",
    "Return *an* m x n *2D array constructed according to the above procedure, or an empty 2D array if it is impossible*.\n",
    "\n",
    "</aside>"
   ]
  },
  {
   "cell_type": "code",
   "execution_count": 9,
   "id": "a31d6575-d1ad-48ce-a0a1-1b08d4015c00",
   "metadata": {},
   "outputs": [
    {
     "name": "stdout",
     "output_type": "stream",
     "text": [
      "[[1, 2], [3, 4]]\n"
     ]
    }
   ],
   "source": [
    "def convert_1d_array_to_2d_array(original, m, n):\n",
    "    \n",
    "    if len(original) != m * n:\n",
    "        raise ValueError(\"The length of the 1D array must be equal to m * n.\")\n",
    "        \n",
    "    array = [[0 for i in range(n)] for j in range(m)]\n",
    "    \n",
    "    for i in range(m):\n",
    "        for j in range(n):\n",
    "            array[i][j] = original[i * n + j]\n",
    "            \n",
    "    return array\n",
    "\n",
    "# Driver Code\n",
    "nums = [1,2,3,4]\n",
    "r = 2\n",
    "c = 2\n",
    "print(convert_1d_array_to_2d_array(nums,r,c))"
   ]
  },
  {
   "cell_type": "markdown",
   "id": "39f4881b-e824-4559-a862-c172d8b1a539",
   "metadata": {},
   "source": [
    "You have n coins and you want to build a staircase with these coins. The staircase consists of k rows where the ith row has exactly i coins. The last row of the staircase **may be** incomplete.\n",
    "\n",
    "Given the integer n, return *the number of **complete rows** of the staircase you will build*."
   ]
  },
  {
   "cell_type": "code",
   "execution_count": 2,
   "id": "e78bcf73-0e66-4cca-af9d-71a2ce0f5e8b",
   "metadata": {},
   "outputs": [
    {
     "name": "stdout",
     "output_type": "stream",
     "text": [
      "2\n"
     ]
    }
   ],
   "source": [
    "def staircase(n):\n",
    "    \n",
    "    rows = 0\n",
    "    while n > 0:\n",
    "        if n >= rows + 1:\n",
    "            rows += 1\n",
    "            n -= rows\n",
    "        else:\n",
    "            break\n",
    "    return rows\n",
    "\n",
    "print(staircase(5))"
   ]
  },
  {
   "cell_type": "markdown",
   "id": "4524005f-26c8-43d8-8ced-70a799b66da9",
   "metadata": {},
   "source": [
    "<aside>\n",
    "💡 **Question 3**\n",
    "\n",
    "Given an integer array nums sorted in **non-decreasing** order, return *an array of **the squares of each number** sorted in non-decreasing order*.\n",
    "\n",
    "**Example 1:**\n",
    "\n",
    "**Input:** nums = [-4,-1,0,3,10]\n",
    "\n",
    "**Output:** [0,1,9,16,100]\n",
    "\n",
    "**Explanation:** After squaring, the array becomes [16,1,0,9,100].\n",
    "\n",
    "After sorting, it becomes [0,1,9,16,100].\n",
    "\n",
    "</aside>"
   ]
  },
  {
   "cell_type": "code",
   "execution_count": 3,
   "id": "9d217b28-1cbd-42c7-822f-8c9504f9da90",
   "metadata": {},
   "outputs": [
    {
     "name": "stdout",
     "output_type": "stream",
     "text": [
      "[0, 1, 9, 16, 100]\n"
     ]
    }
   ],
   "source": [
    "def sorted_squares(nums):\n",
    "    \n",
    "    squares = []\n",
    "    for num in nums:\n",
    "        squares.append(num ** 2)\n",
    "    \n",
    "    squares.sort()\n",
    "    \n",
    "    return squares\n",
    "\n",
    "# Driver Code\n",
    "nums = [-4,-1,0,3,10]\n",
    "print(sorted_squares(nums))"
   ]
  },
  {
   "cell_type": "markdown",
   "id": "5a721663-1759-477c-a3de-2b3bbae07fe1",
   "metadata": {},
   "source": [
    "<aside>\n",
    "💡 **Question 4**\n",
    "\n",
    "Given two **0-indexed** integer arrays nums1 and nums2, return *a list* answer *of size* 2 *where:*\n",
    "\n",
    "- answer[0] *is a list of all **distinct** integers in* nums1 *which are **not** present in* nums2*.*\n",
    "- answer[1] *is a list of all **distinct** integers in* nums2 *which are **not** present in* nums1.\n",
    "\n",
    "**Note** that the integers in the lists may be returned in **any** order.\n",
    "\n",
    "**Example 1:**\n",
    "\n",
    "**Input:** nums1 = [1,2,3], nums2 = [2,4,6]\n",
    "\n",
    "**Output:** [[1,3],[4,6]]\n",
    "\n",
    "**Explanation:**\n",
    "\n",
    "For nums1, nums1[1] = 2 is present at index 0 of nums2, whereas nums1[0] = 1 and nums1[2] = 3 are not present in nums2. Therefore, answer[0] = [1,3].\n",
    "\n",
    "For nums2, nums2[0] = 2 is present at index 1 of nums1, whereas nums2[1] = 4 and nums2[2] = 6 are not present in nums2. Therefore, answer[1] = [4,6].\n",
    "\n",
    "</aside>"
   ]
  },
  {
   "cell_type": "code",
   "execution_count": 4,
   "id": "de82f6db-4763-4d08-a16b-6567013f1082",
   "metadata": {},
   "outputs": [
    {
     "name": "stdout",
     "output_type": "stream",
     "text": [
      "[[1, 3], [4, 6]]\n"
     ]
    }
   ],
   "source": [
    "def find_unique_numbers(nums1, nums2):\n",
    "    \n",
    "    nums1_set = set(nums1)\n",
    "    \n",
    "    nums2_set = set(nums2)\n",
    "    \n",
    "    difference = nums1_set - nums2_set\n",
    "    \n",
    "    difference_list = list(difference)\n",
    "    \n",
    "    difference_in_reverse = nums2_set - nums1_set\n",
    "    \n",
    "    difference_in_reverse_list = list(difference_in_reverse)\n",
    "    \n",
    "    return [difference_list, difference_in_reverse_list]\n",
    "\n",
    "# driver code\n",
    "nums1 = [1, 2, 3]\n",
    "nums2 = [2, 4, 6]\n",
    "\n",
    "answer = find_unique_numbers(nums1, nums2)\n",
    "\n",
    "print(answer)"
   ]
  },
  {
   "cell_type": "markdown",
   "id": "b0f67f79-29c6-4eb0-8233-4382ae5f2fb6",
   "metadata": {},
   "source": [
    "<aside>\n",
    "💡 **Question 6**\n",
    "\n",
    "Given an integer array nums of length n where all the integers of nums are in the range [1, n] and each integer appears **once** or **twice**, return *an array of all the integers that appears **twice***.\n",
    "\n",
    "You must write an algorithm that runs in O(n) time and uses only constant extra space.\n",
    "\n",
    "**Example 1:**\n",
    "\n",
    "**Input:** nums = [4,3,2,7,8,2,3,1]\n",
    "\n",
    "**Output:**\n",
    "\n",
    "[2,3]\n",
    "\n",
    "</aside>"
   ]
  },
  {
   "cell_type": "code",
   "execution_count": 5,
   "id": "ddcb6939-4008-4c0b-9c2f-bad9d6ed857d",
   "metadata": {},
   "outputs": [
    {
     "name": "stdout",
     "output_type": "stream",
     "text": [
      "[2, 3]\n"
     ]
    }
   ],
   "source": [
    "def find_duplicates(nums):\n",
    "    \n",
    "    seen = set()\n",
    "    duplicates = []\n",
    "    \n",
    "    for num in nums:\n",
    "        if num in seen:\n",
    "            duplicates.append(num)\n",
    "        else:\n",
    "            seen.add(num)\n",
    "    return duplicates\n",
    "\n",
    "# Driver code\n",
    "nums = [4,3,2,7,8,2,3,1]\n",
    "print(find_duplicates(nums))"
   ]
  },
  {
   "cell_type": "code",
   "execution_count": null,
   "id": "95ab9d74-5599-4c2d-a011-86b7f559eced",
   "metadata": {},
   "outputs": [],
   "source": []
  }
 ],
 "metadata": {
  "kernelspec": {
   "display_name": "Python 3 (ipykernel)",
   "language": "python",
   "name": "python3"
  },
  "language_info": {
   "codemirror_mode": {
    "name": "ipython",
    "version": 3
   },
   "file_extension": ".py",
   "mimetype": "text/x-python",
   "name": "python",
   "nbconvert_exporter": "python",
   "pygments_lexer": "ipython3",
   "version": "3.10.6"
  }
 },
 "nbformat": 4,
 "nbformat_minor": 5
}
