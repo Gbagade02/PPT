{
 "cells": [
  {
   "cell_type": "markdown",
   "id": "2eb671e1-6513-4ea1-bf1d-622da3f60a4d",
   "metadata": {},
   "source": [
    "**Question 1**\n",
    "Given three integer arrays arr1, arr2 and arr3 **sorted** in **strictly increasing** order, return a sorted array of **only** the integers that appeared in **all** three arrays.\n",
    "\n",
    "**Example 1:**\n",
    "\n",
    "Input: arr1 = [1,2,3,4,5], arr2 = [1,2,5,7,9], arr3 = [1,3,4,5,8]\n",
    "\n",
    "Output: [1,5]\n",
    "\n",
    "**Explanation:** Only 1 and 5 appeared in the three arrays.\n"
   ]
  },
  {
   "cell_type": "code",
   "execution_count": 2,
   "id": "75f40699-21d7-4d01-9fce-a523e0b1dc37",
   "metadata": {},
   "outputs": [
    {
     "name": "stdout",
     "output_type": "stream",
     "text": [
      "[1, 5]\n"
     ]
    }
   ],
   "source": [
    "def common(arr1,arr2,arr3):\n",
    "    com = []\n",
    "    for i in arr1:\n",
    "        if i in arr2 and i in arr3:\n",
    "            com.append(i)\n",
    "            \n",
    "    return com\n",
    "\n",
    "# Driver code\n",
    "arr1 = [1,2,3,4,5]\n",
    "arr2 = [1,2,5,7,9]\n",
    "arr3 = [1,3,4,5,8]\n",
    "print(common(arr1,arr2,arr3))"
   ]
  },
  {
   "cell_type": "markdown",
   "id": "ced04cae-bfe2-437a-8ffc-b4bd9491690e",
   "metadata": {},
   "source": [
    "Given two **0-indexed** integer arrays nums1 and nums2, return *a list* answer *of size* 2 *where:*\n",
    "\n",
    "- answer[0] *is a list of all **distinct** integers in* nums1 *which are **not** present in* nums2*.*\n",
    "- answer[1] *is a list of all **distinct** integers in* nums2 *which are **not** present in* nums1.\n",
    "\n",
    "**Note** that the integers in the lists may be returned in **any** order.\n",
    "\n",
    "**Example 1:**\n",
    "\n",
    "**Input:** nums1 = [1,2,3], nums2 = [2,4,6]\n",
    "\n",
    "**Output:** [[1,3],[4,6]]\n",
    "\n",
    "**Explanation:**\n",
    "\n",
    "For nums1, nums1[1] = 2 is present at index 0 of nums2, whereas nums1[0] = 1 and nums1[2] = 3 are not present in nums2. Therefore, answer[0] = [1,3].\n",
    "\n",
    "For nums2, nums2[0] = 2 is present at index 1 of nums1, whereas nums2[1] = 4 and nums2[2] = 6 are not present in nums2. Therefore, answer[1] = [4,6]."
   ]
  },
  {
   "cell_type": "code",
   "execution_count": 6,
   "id": "41315d77-8593-4ab7-a5c1-2a36d54a2366",
   "metadata": {},
   "outputs": [
    {
     "name": "stdout",
     "output_type": "stream",
     "text": [
      "[[1], [], [3], [], [4], [6]]\n"
     ]
    }
   ],
   "source": [
    "def distinct(nums1, nums2):\n",
    "    \n",
    "    com = []\n",
    "    for i in nums1:\n",
    "        n = []\n",
    "        if i not in nums2:\n",
    "            n.append(i)\n",
    "        com.append(n)\n",
    "    for i in nums2:\n",
    "        n = []\n",
    "        if i not in nums1:\n",
    "            n.append(i)\n",
    "        com.append(n)\n",
    "    return com\n",
    "\n",
    "#driver code\n",
    "nums1 = [1,2,3]\n",
    "nums2 = [2,4,6]\n",
    "print(distinct(nums1,nums2))"
   ]
  },
  {
   "cell_type": "markdown",
   "id": "749c832e-d2c3-492d-bcc8-a71cda805a1f",
   "metadata": {},
   "source": [
    " **Question 3**\n",
    "Given a 2D integer array matrix, return *the **transpose** of* matrix.\n",
    "\n",
    "The **transpose** of a matrix is the matrix flipped over its main diagonal, switching the matrix's row and column indices.\n",
    "\n",
    "**Example 1:**\n",
    "\n",
    "Input: matrix = [[1,2,3],[4,5,6],[7,8,9]]\n",
    "\n",
    "Output: [[1,4,7],[2,5,8],[3,6,9]]\n"
   ]
  },
  {
   "cell_type": "code",
   "execution_count": 9,
   "id": "22896703-f366-4a87-af21-a1f578a34c7e",
   "metadata": {},
   "outputs": [
    {
     "name": "stdout",
     "output_type": "stream",
     "text": [
      "[[1, 4, 7], [2, 5, 8], [3, 6, 9]]\n"
     ]
    }
   ],
   "source": [
    "def flip(matrix):\n",
    "    f = []\n",
    "    for i in range(len(matrix)):\n",
    "        temp = []\n",
    "        for j in range(len(matrix[0])):\n",
    "            temp.append(matrix[j][i])\n",
    "        f.append(temp)\n",
    "    return f\n",
    "# Driver code \n",
    "matrix = [[1,2,3],[4,5,6],[7,8,9]]\n",
    "print(flip(matrix))"
   ]
  },
  {
   "cell_type": "markdown",
   "id": "6f2a38a1-ed09-46b4-8220-8c536a82755c",
   "metadata": {},
   "source": [
    " **Question 4**\n",
    "Given an integer array nums of 2n integers, group these integers into n pairs (a1, b1), (a2, b2), ..., (an, bn) such that the sum of min(ai, bi) for all i is **maximized**. Return *the maximized sum*.\n",
    "\n",
    "**Example 1:**\n",
    "\n",
    "Input: nums = [1,4,3,2]\n",
    "\n",
    "Output: 4\n",
    "\n",
    "**Explanation:** All possible pairings (ignoring the ordering of elements) are:\n",
    "\n",
    "1. (1, 4), (2, 3) -> min(1, 4) + min(2, 3) = 1 + 2 = 3\n",
    "\n",
    "2. (1, 3), (2, 4) -> min(1, 3) + min(2, 4) = 1 + 2 = 3\n",
    "\n",
    "3. (1, 2), (3, 4) -> min(1, 2) + min(3, 4) = 1 + 3 = 4\n",
    "\n",
    "So the maximum possible sum is 4.\n"
   ]
  },
  {
   "cell_type": "code",
   "execution_count": 13,
   "id": "4cf50ba4-fd0c-4639-bfe3-75d0b5582b20",
   "metadata": {},
   "outputs": [
    {
     "name": "stdout",
     "output_type": "stream",
     "text": [
      "4\n"
     ]
    }
   ],
   "source": [
    "def max_pair_sum(nums):\n",
    "    nums.sort()\n",
    "    sum_min = 0\n",
    "    for i in range(0, len(nums), 2):\n",
    "        sum_min += min(nums[i], nums[i + 1])\n",
    "    return sum_min\n",
    "\n",
    "# Driver Code\n",
    "nums = [1,4,3,2]\n",
    "print(max_pair_sum(nums))"
   ]
  },
  {
   "cell_type": "markdown",
   "id": "9b8360bb-c092-4287-9fe3-f186af80f9e5",
   "metadata": {},
   "source": [
    " **Question 5**\n",
    "You have n coins and you want to build a staircase with these coins. The staircase consists of k rows where the ith row has exactly i coins. The last row of the staircase **may be** incomplete.\n",
    "\n",
    "Given the integer n, return *the number of **complete rows** of the staircase you will build*.\n",
    "\n",
    "**Example 1:**\n",
    "\n",
    "[]()\n",
    "\n",
    "![v2.jpg](https://s3-us-west-2.amazonaws.com/secure.notion-static.com/4bd91cfa-d2b1-47b3-8197-a72e8dcfff4b/v2.jpg)\n",
    "\n",
    "**Input:** n = 5\n",
    "\n",
    "**Output:** 2\n",
    "\n",
    "**Explanation:** Because the 3rd row is incomplete, we return 2.\n"
   ]
  },
  {
   "cell_type": "code",
   "execution_count": 14,
   "id": "942ccd3a-b2ec-4324-824e-c4dd7117ff33",
   "metadata": {},
   "outputs": [
    {
     "name": "stdout",
     "output_type": "stream",
     "text": [
      "2\n"
     ]
    }
   ],
   "source": [
    "def arrange_coins(n):\n",
    "    row = 1\n",
    "    count = 0\n",
    "    while row <= n:\n",
    "        count += 1\n",
    "        n -= row\n",
    "        row += 1\n",
    "    return count\n",
    "# driver code\n",
    "n = 5\n",
    "print(arrange_coins(n))"
   ]
  },
  {
   "cell_type": "markdown",
   "id": "a309022f-b916-4f9d-90b3-9544f261496f",
   "metadata": {},
   "source": [
    "<aside>\n",
    "💡 **Question 6**\n",
    "Given an integer array nums sorted in **non-decreasing** order, return *an array of **the squares of each number** sorted in non-decreasing order*.\n",
    "\n",
    "**Example 1:**\n",
    "\n",
    "Input: nums = [-4,-1,0,3,10]\n",
    "\n",
    "Output: [0,1,9,16,100]\n",
    "\n",
    "**Explanation:** After squaring, the array becomes [16,1,0,9,100].\n",
    "After sorting, it becomes [0,1,9,16,100]\n",
    "\n",
    "</aside>"
   ]
  },
  {
   "cell_type": "code",
   "execution_count": 18,
   "id": "a48d4515-c096-4960-9d2b-4cfd992d9ba0",
   "metadata": {},
   "outputs": [
    {
     "name": "stdout",
     "output_type": "stream",
     "text": [
      "[0, 1, 9, 16, 100]\n"
     ]
    }
   ],
   "source": [
    "def sorted_squares(nums):\n",
    "    squares = []\n",
    "    for num in nums:\n",
    "        squares.append(num ** 2)\n",
    "\n",
    "    squares.sort()\n",
    "\n",
    "    return squares\n",
    "#driver code\n",
    "nums = [-4,-1,0,3,10]\n",
    "print(sorted_squares(nums))\n"
   ]
  },
  {
   "cell_type": "markdown",
   "id": "4869568b-8286-4728-a550-e2cdf387cfac",
   "metadata": {},
   "source": [
    "<aside>\n",
    "💡 **Question 7**\n",
    "You are given an m x n matrix M initialized with all 0's and an array of operations ops, where ops[i] = [ai, bi] means M[x][y] should be incremented by one for all 0 <= x < ai and 0 <= y < bi.\n",
    "\n",
    "Count and return *the number of maximum integers in the matrix after performing all the operations*\n",
    "\n",
    "**Example 1:**\n",
    "\n",
    "![q4.jpg](https://s3-us-west-2.amazonaws.com/secure.notion-static.com/4d0890d0-7bc7-4f59-be8e-352d9f3c1c52/q4.jpg)\n",
    "\n",
    "**Input:** m = 3, n = 3, ops = [[2,2],[3,3]]\n",
    "\n",
    "**Output:** 4\n",
    "\n",
    "**Explanation:** The maximum integer in M is 2, and there are four of it in M. So return 4.\n",
    "\n",
    "</aside>"
   ]
  },
  {
   "cell_type": "code",
   "execution_count": 20,
   "id": "58d3111d-b433-4d8a-85c9-2482c5146477",
   "metadata": {},
   "outputs": [
    {
     "name": "stdout",
     "output_type": "stream",
     "text": [
      "4\n"
     ]
    }
   ],
   "source": [
    "def count_max_integers(m, n, ops):\n",
    "    result = [[0 for j in range(n)] for i in range(m)]\n",
    "    \n",
    "    for op in ops:\n",
    "    # Increment the values in the matrix.\n",
    "        for i in range(op[0]):\n",
    "            for j in range(op[1]):\n",
    "                result[i][j] += 1\n",
    "    \n",
    "    max_value = max(result[i][j] for i in range(m) for j in range(n))\n",
    "    \n",
    "    count = 0\n",
    "    for i in range(m):\n",
    "        for j in range(n):\n",
    "            if result[i][j] == max_value:\n",
    "                count += 1\n",
    "    \n",
    "    return count\n",
    "\n",
    "# Driver code\n",
    "m = 3\n",
    "n = 3\n",
    "ops = [[2,2],[3,3]]\n",
    "print(count_max_integers(m, n, ops))"
   ]
  },
  {
   "cell_type": "markdown",
   "id": "094ac79c-d88a-4326-a9c7-be77b329b58d",
   "metadata": {},
   "source": [
    " **Question 8**\n",
    "\n",
    "Given the array nums consisting of 2n elements in the form [x1,x2,...,xn,y1,y2,...,yn].\n",
    "\n",
    "*Return the array in the form* [x1,y1,x2,y2,...,xn,yn].\n",
    "\n",
    "**Example 1:**\n",
    "\n",
    "**Input:** nums = [2,5,1,3,4,7], n = 3\n",
    "\n",
    "**Output:** [2,3,5,4,1,7]\n",
    "\n",
    "**Explanation:** Since x1=2, x2=5, x3=1, y1=3, y2=4, y3=7 then the answer is [2,3,5,4,1,7].\n"
   ]
  },
  {
   "cell_type": "code",
   "execution_count": 21,
   "id": "853ab24b-6f5d-4f94-8426-851a9e262771",
   "metadata": {},
   "outputs": [
    {
     "name": "stdout",
     "output_type": "stream",
     "text": [
      "[[2, 3], [5, 4], [1, 7]]\n"
     ]
    }
   ],
   "source": [
    "def form(nums,n):\n",
    "    arr = []\n",
    "    c = 0\n",
    "    while n < len(nums):\n",
    "        arr.append(nums[c])\n",
    "        arr.append(nums())\n",
    "        c += 1\n",
    "        n += 1\n",
    "    return arr\n",
    "# drive code\n",
    "nums = [2,5,1,3,4,7] \n",
    "n = 3\n",
    "print(form(nums,n))"
   ]
  },
  {
   "cell_type": "code",
   "execution_count": null,
   "id": "7a3c5e97-6bd0-4101-9075-a95b10cfdfd2",
   "metadata": {},
   "outputs": [],
   "source": []
  }
 ],
 "metadata": {
  "kernelspec": {
   "display_name": "Python 3 (ipykernel)",
   "language": "python",
   "name": "python3"
  },
  "language_info": {
   "codemirror_mode": {
    "name": "ipython",
    "version": 3
   },
   "file_extension": ".py",
   "mimetype": "text/x-python",
   "name": "python",
   "nbconvert_exporter": "python",
   "pygments_lexer": "ipython3",
   "version": "3.10.6"
  }
 },
 "nbformat": 4,
 "nbformat_minor": 5
}
