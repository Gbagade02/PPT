{
 "cells": [
  {
   "cell_type": "markdown",
   "id": "c808315e-e895-4d23-bccb-8f66a99fad54",
   "metadata": {},
   "source": [
    "<b>Insertion Singly Linked List at start</b>"
   ]
  },
  {
   "cell_type": "code",
   "execution_count": 1,
   "id": "6cc0a12a-af31-40c1-8525-fe1a9e7e3a72",
   "metadata": {},
   "outputs": [],
   "source": [
    "class Node:\n",
    "    def __init__(self, data):\n",
    "        self.val = data\n",
    "        self.next = None"
   ]
  },
  {
   "cell_type": "code",
   "execution_count": 2,
   "id": "bcc7f766-beec-4a6e-86fb-d84f1a06cf3f",
   "metadata": {},
   "outputs": [],
   "source": [
    "class LinkedList:\n",
    "    def __init__(self):\n",
    "        self.head = None\n",
    "        \n",
    "    def inserAtStart(self, data):\n",
    "        newNode = Node(data)\n",
    "        newNode.next = self.head\n",
    "        self.head = newNode\n",
    "    \n",
    "    def deleteAtStart(self):\n",
    "        if self.head == None:\n",
    "            print(\"Linked List is Empty\")\n",
    "        self.head = self.head.next\n",
    "    \n",
    "    def search(self,key):\n",
    "        curr = self.head\n",
    "        keyNode = None\n",
    "        while curr!= None:\n",
    "            if curr.val == key:\n",
    "                keyNode = curr\n",
    "            curr = curr.next\n",
    "        return keyNode\n",
    "    \n",
    "    def insertAtMiddle(self, data, pos):\n",
    "        pos = self.search(pos)\n",
    "        newNode = Node(data)\n",
    "        newNode.next = pos.next\n",
    "        pos.next = newNode\n",
    "    \n",
    "    def deleteAtMiddle(self,pos):\n",
    "        pos = self.search(pos)\n",
    "        curr = self.head\n",
    "        if curr == pos and curr == None:\n",
    "            self.head = None\n",
    "        else: \n",
    "            prev = None\n",
    "            while curr!=pos:\n",
    "                prev = curr\n",
    "                curr = curr.next\n",
    "            prev.next = curr.next\n",
    "            \n",
    "    def insertAtEnd(self, data):\n",
    "        curr = self.head\n",
    "        newNode = Node(data)\n",
    "        if curr == None:\n",
    "            self.head = newNode\n",
    "        else:\n",
    "            while curr.next!=None:\n",
    "                curr = curr.next\n",
    "            curr.next = newNode\n",
    "    \n",
    "    def deleteAtEnd(self):\n",
    "        curr = self.head\n",
    "        if curr==None and curr.next==None:\n",
    "            self.head = None\n",
    "        else:\n",
    "            while curr.next.next!=None:\n",
    "                curr = curr.next\n",
    "            curr.next = None\n",
    "            \n",
    "    def findLenght(self):\n",
    "        curr = self.head\n",
    "        le = 0\n",
    "        while curr.next!=None:\n",
    "            le = le +1\n",
    "            curr = curr.next\n",
    "        return le+1\n",
    "    \n",
    "    def searchIn(self,key):\n",
    "        cur = self.head\n",
    "        keyNode = None\n",
    "        while cur!=None:\n",
    "            if cur.val == key:\n",
    "                keyNode = cur\n",
    "                break \n",
    "            cur=cur.next\n",
    "        return keyNode\n",
    "            \n",
    "    def print1(self):\n",
    "        curr = self.head\n",
    "        while curr!=None:\n",
    "            print(curr.val, end =\" \")\n",
    "            curr = curr.next\n",
    "        print()\n",
    "    \n",
    "    def delLinkedList(self):\n",
    "        curr = self.head\n",
    "        while curr:\n",
    "            prev = curr.next\n",
    "            del curr.val\n",
    "            curr = prev\n",
    "    \n",
    "    def rlenght(self,head):\n",
    "        if head == None:\n",
    "            return 0\n",
    "        return 1 + self.rlenght(head.next)\n",
    "        "
   ]
  },
  {
   "cell_type": "code",
   "execution_count": 3,
   "id": "f6cb508f-74c2-4460-9ee0-f4aff5420d67",
   "metadata": {},
   "outputs": [
    {
     "name": "stdout",
     "output_type": "stream",
     "text": [
      "5 4 3 9 2 1 \n",
      "5 4 3 2 1 \n",
      "5 4 3 2 1 \n",
      "2\n"
     ]
    }
   ],
   "source": [
    "l = LinkedList()\n",
    "new_val = [1,2,3,4,5]\n",
    "for i in new_val:\n",
    "    l.inserAtStart(i)\n",
    "l.insertAtMiddle(9,3)\n",
    "l.print1()\n",
    "l.deleteAtMiddle(9)\n",
    "l.print1()\n",
    "l.insertAtEnd(14)\n",
    "l.deleteAtEnd()\n",
    "le = l.findLenght()\n",
    "l.print1()\n",
    "node = l.searchIn(2)\n",
    "print(node.val)"
   ]
  },
  {
   "cell_type": "code",
   "execution_count": 4,
   "id": "1ca6717e-5322-4010-a479-d5164097449c",
   "metadata": {},
   "outputs": [
    {
     "name": "stdout",
     "output_type": "stream",
     "text": [
      "5\n"
     ]
    }
   ],
   "source": [
    "len = l.rlenght(l.head)\n",
    "print(len)"
   ]
  },
  {
   "cell_type": "markdown",
   "id": "96ae9d6b-6d16-477a-aa9d-df68f3825574",
   "metadata": {},
   "source": [
    "<b>Doubley Linked List </b>"
   ]
  },
  {
   "cell_type": "code",
   "execution_count": null,
   "id": "0de5d6f0-6fa2-4c2a-be2c-d2ff928e8a06",
   "metadata": {},
   "outputs": [],
   "source": []
  }
 ],
 "metadata": {
  "kernelspec": {
   "display_name": "Python 3 (ipykernel)",
   "language": "python",
   "name": "python3"
  },
  "language_info": {
   "codemirror_mode": {
    "name": "ipython",
    "version": 3
   },
   "file_extension": ".py",
   "mimetype": "text/x-python",
   "name": "python",
   "nbconvert_exporter": "python",
   "pygments_lexer": "ipython3",
   "version": "3.10.6"
  }
 },
 "nbformat": 4,
 "nbformat_minor": 5
}
